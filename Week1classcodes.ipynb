{
  "nbformat": 4,
  "nbformat_minor": 0,
  "metadata": {
    "colab": {
      "name": "Week1classcodes.ipynb",
      "provenance": [],
      "collapsed_sections": [
        "HE9VSWimnlHA",
        "QYS3mUN0wDDA",
        "9QJbUBce1FlO",
        "mPzh24AGolok",
        "0iHEdWIQtHvf"
      ],
      "include_colab_link": true
    },
    "kernelspec": {
      "name": "python3",
      "display_name": "Python 3"
    },
    "language_info": {
      "name": "python"
    }
  },
  "cells": [
    {
      "cell_type": "markdown",
      "metadata": {
        "id": "view-in-github",
        "colab_type": "text"
      },
      "source": [
        "<a href=\"https://colab.research.google.com/github/pallavrouth/AI-Bootcamp/blob/main/Week1classcodes.ipynb\" target=\"_parent\"><img src=\"https://colab.research.google.com/assets/colab-badge.svg\" alt=\"Open In Colab\"/></a>"
      ]
    },
    {
      "cell_type": "code",
      "metadata": {
        "id": "zLi9Ntz52h53"
      },
      "source": [
        ""
      ],
      "execution_count": null,
      "outputs": []
    },
    {
      "cell_type": "code",
      "metadata": {
        "id": "hK9AI20tyOjP"
      },
      "source": [
        ""
      ],
      "execution_count": null,
      "outputs": []
    },
    {
      "cell_type": "code",
      "metadata": {
        "id": "7X6lrHgpxp2l"
      },
      "source": [
        ""
      ],
      "execution_count": null,
      "outputs": []
    },
    {
      "cell_type": "markdown",
      "metadata": {
        "id": "z5EJAnk1yGYo"
      },
      "source": [
        "## Drive Mounting"
      ]
    },
    {
      "cell_type": "code",
      "metadata": {
        "id": "FrbNlKAr0E9X"
      },
      "source": [
        "from google.colab import drive\n",
        "drive.mount('/content/drive')"
      ],
      "execution_count": null,
      "outputs": []
    },
    {
      "cell_type": "code",
      "metadata": {
        "id": "FNDzsmkqxqkZ"
      },
      "source": [
        "string1 = \"my name is arun das\"\n",
        "print(string1)"
      ],
      "execution_count": null,
      "outputs": []
    },
    {
      "cell_type": "code",
      "metadata": {
        "id": "XTiMGi2ax_tB"
      },
      "source": [
        ""
      ],
      "execution_count": null,
      "outputs": []
    },
    {
      "cell_type": "code",
      "metadata": {
        "id": "kygmgG1bx6Lm"
      },
      "source": [
        "string2 = \"i am 30 years old\"\n",
        "print(string2)"
      ],
      "execution_count": null,
      "outputs": []
    },
    {
      "cell_type": "code",
      "metadata": {
        "id": "8OZhE92yyAoB"
      },
      "source": [
        "print(type(string1))"
      ],
      "execution_count": null,
      "outputs": []
    },
    {
      "cell_type": "code",
      "metadata": {
        "id": "PEyws3Z-yEk6"
      },
      "source": [
        "print(type(string2))"
      ],
      "execution_count": null,
      "outputs": []
    },
    {
      "cell_type": "code",
      "metadata": {
        "id": "PG30TNamyPZr"
      },
      "source": [
        "x = 10\n",
        "print(type(x))"
      ],
      "execution_count": null,
      "outputs": []
    },
    {
      "cell_type": "code",
      "metadata": {
        "id": "UEtFeiIvyRqz"
      },
      "source": [
        "x = 10.0\n",
        "print(type(x))"
      ],
      "execution_count": null,
      "outputs": []
    },
    {
      "cell_type": "code",
      "metadata": {
        "id": "TtMEoJIuyUMk"
      },
      "source": [
        "x = 10.\n",
        "print(type(x))"
      ],
      "execution_count": null,
      "outputs": []
    },
    {
      "cell_type": "code",
      "metadata": {
        "colab": {
          "base_uri": "https://localhost:8080/"
        },
        "id": "1xfN1dWqylpP",
        "outputId": "aa3fd3c4-a035-4036-97e6-7fe05848b82f"
      },
      "source": [
        "# what's up\n",
        "# string3 = 'what's up'\n",
        "\n",
        "string3 = \"what's up:\"\n",
        "print(string3)"
      ],
      "execution_count": null,
      "outputs": [
        {
          "output_type": "stream",
          "text": [
            "what's up:\n"
          ],
          "name": "stdout"
        }
      ]
    },
    {
      "cell_type": "code",
      "metadata": {
        "colab": {
          "base_uri": "https://localhost:8080/"
        },
        "id": "RVGNgsGr2jxm",
        "outputId": "3920dafd-a956-47e6-a5d8-0f48dcbaa88e"
      },
      "source": [
        "# logical equal to sign is '=='\n",
        "\n",
        "x = 2\n",
        "y = \"two\"\n",
        "\n",
        "if x == 2 and y == \"two\":\n",
        "  print(\"2 and two are the same\")\n",
        "\n",
        "isSame = x==y\n",
        "isNotTheSame = x!=y"
      ],
      "execution_count": null,
      "outputs": [
        {
          "output_type": "stream",
          "text": [
            "2 and two are the same\n"
          ],
          "name": "stdout"
        }
      ]
    },
    {
      "cell_type": "code",
      "metadata": {
        "colab": {
          "base_uri": "https://localhost:8080/"
        },
        "id": "1_-W3MCh2sct",
        "outputId": "1767ed9a-d245-4f3a-e7da-9c69ae433f27"
      },
      "source": [
        "print(\"Are the variables the same: \", isSame)\n",
        "print(\"Are the variables different: \", isNotTheSame)"
      ],
      "execution_count": null,
      "outputs": [
        {
          "output_type": "stream",
          "text": [
            "Are the variables the same:  False\n",
            "Are the variables different:  True\n"
          ],
          "name": "stdout"
        }
      ]
    },
    {
      "cell_type": "markdown",
      "metadata": {
        "id": "tDaw_aSw9kHd"
      },
      "source": [
        "## Data Types"
      ]
    },
    {
      "cell_type": "code",
      "metadata": {
        "id": "jGEI8PRzzXuB"
      },
      "source": [
        ""
      ],
      "execution_count": null,
      "outputs": []
    },
    {
      "cell_type": "code",
      "metadata": {
        "id": "7jRD2i5S3nJU",
        "colab": {
          "base_uri": "https://localhost:8080/"
        },
        "outputId": "b33e6eb4-adc0-4305-8ded-04d02892f437"
      },
      "source": [
        "# Integers\n",
        "num1 = 10\n",
        "num2 = 100\n",
        "print(num1 + num2)"
      ],
      "execution_count": null,
      "outputs": [
        {
          "output_type": "stream",
          "text": [
            "110\n"
          ],
          "name": "stdout"
        }
      ]
    },
    {
      "cell_type": "code",
      "metadata": {
        "id": "bPcorGMizdqP"
      },
      "source": [
        "#addtion\n",
        "print = num1 + num2\n",
        "\n",
        "print(_result)"
      ],
      "execution_count": null,
      "outputs": []
    },
    {
      "cell_type": "code",
      "metadata": {
        "id": "8p9RmKYlz77B"
      },
      "source": [
        "#subtraction\n",
        "print(num1-num2)"
      ],
      "execution_count": null,
      "outputs": []
    },
    {
      "cell_type": "code",
      "metadata": {
        "id": "JQWLcHL6z-nW"
      },
      "source": [
        "#multiplication\n",
        "print(num1*num2)"
      ],
      "execution_count": null,
      "outputs": []
    },
    {
      "cell_type": "code",
      "metadata": {
        "id": "sBil-q_p0EvR"
      },
      "source": [
        "#division\n",
        "print(num1/num2)"
      ],
      "execution_count": null,
      "outputs": []
    },
    {
      "cell_type": "code",
      "metadata": {
        "id": "2OO9Fku90HwP"
      },
      "source": [
        ""
      ],
      "execution_count": null,
      "outputs": []
    },
    {
      "cell_type": "code",
      "metadata": {
        "id": "ITVutFNt-S5F"
      },
      "source": [
        "# Float Numbers\n",
        "a = 10.5\n",
        "b = 8.9\n",
        "print(a - b)"
      ],
      "execution_count": null,
      "outputs": []
    },
    {
      "cell_type": "code",
      "metadata": {
        "id": "l4EkAwjt-YLL"
      },
      "source": [
        "# Complex Numbers\n",
        "x = 3 + 4j\n",
        "y = 9 + 8j\n",
        "print(y - x)"
      ],
      "execution_count": null,
      "outputs": []
    },
    {
      "cell_type": "code",
      "metadata": {
        "id": "_mLW5MT9-mAp"
      },
      "source": [
        "# Finding the Data Type of a Number\n",
        "\n",
        "# int\n",
        "num1 = 100\n",
        "print(\"Type of num1: \", type(num1))\n",
        "\n",
        "# float\n",
        "num2 = 10.99\n",
        "print(\"Type of num2: \", type(num2))\n",
        "\n",
        "# complex numbers\n",
        "num3 = 3 + 4j\n",
        "print(\"Type of num3: \", type(num3))"
      ],
      "execution_count": null,
      "outputs": []
    },
    {
      "cell_type": "code",
      "metadata": {
        "id": "VKte4JfP_7uo"
      },
      "source": [
        "# Checks whether a number belongs to a particular data type and returns true or false based on the result.\n",
        "\n",
        "num = 100\n",
        "# true because num is an integer\n",
        "print(isinstance(num, int))\n",
        "\n",
        "# false because num is not a float\n",
        "print(isinstance(num, float))\n",
        "\n",
        "# false because num is not a complex number\n",
        "print(isinstance(num, complex))"
      ],
      "execution_count": null,
      "outputs": []
    },
    {
      "cell_type": "markdown",
      "metadata": {
        "id": "LTdNVvZO0ZSH"
      },
      "source": [
        "## Variables"
      ]
    },
    {
      "cell_type": "code",
      "metadata": {
        "id": "SRCD1Qum0Xm2"
      },
      "source": [
        "# Assignment\n",
        "num = 100\n",
        "string = \"Gonzalez\"\n",
        "print(num)\n",
        "print(string)"
      ],
      "execution_count": null,
      "outputs": []
    },
    {
      "cell_type": "code",
      "metadata": {
        "id": "75eXexBi1GTT"
      },
      "source": [
        "# Multiple Assignment\n",
        "x = y = z = 99\n",
        "print(x)\n",
        "print(y)\n",
        "print(z)"
      ],
      "execution_count": null,
      "outputs": []
    },
    {
      "cell_type": "code",
      "metadata": {
        "id": "MGkzyI1W1lnk"
      },
      "source": [
        "# Multiple Assignment\n",
        "a, b, c = 5, 6, 7\n",
        "print(a)\n",
        "print(b)\n",
        "print(c)"
      ],
      "execution_count": null,
      "outputs": []
    },
    {
      "cell_type": "code",
      "metadata": {
        "id": "vaCpGr_t15rC"
      },
      "source": [
        "# Swaping\n",
        "x, y = 6, 3\n",
        "x, y = y, x\n",
        "print(x)\n",
        "print(y)"
      ],
      "execution_count": null,
      "outputs": []
    },
    {
      "cell_type": "code",
      "metadata": {
        "id": "nCE1E8ie2Y_h"
      },
      "source": [
        "# Accessing Non-Existent Name\n",
        "x = 10\n",
        "y = x + unnamedVariable"
      ],
      "execution_count": null,
      "outputs": []
    },
    {
      "cell_type": "markdown",
      "metadata": {
        "id": "di_7yqhABNfF"
      },
      "source": [
        "## Input/Output"
      ]
    },
    {
      "cell_type": "code",
      "metadata": {
        "id": "WgX8zxKQBS5C"
      },
      "source": [
        "# Input\n",
        "num1 = int(input(\"Enter number 1: \"))\n",
        "num2 = int(input(\"Enter number 2: \"))\n",
        "\n",
        "# Process Input\n",
        "mult = num1 * num2\n",
        "div = num1 / num2\n",
        "\n",
        "# Output\n",
        "print(num1, \"*\", num2, \"is\", mult)\n",
        "print(\"%d / %d is %d\" % (num1, num2, div))"
      ],
      "execution_count": null,
      "outputs": []
    },
    {
      "cell_type": "markdown",
      "metadata": {
        "id": "HE9VSWimnlHA"
      },
      "source": [
        "## Arithmetic Operations"
      ]
    },
    {
      "cell_type": "code",
      "metadata": {
        "id": "RkxjtX56nujS"
      },
      "source": [
        "# Precedence \n",
        "num1 = 10 ** 2 + 1 / 5\n",
        "num2 = 10 ** (2 + 1) / 5\n",
        "num3 = 10 ** (2 + 1 / 5)\n",
        "num4 = 10 ** (2 + 1 // 5)\n",
        "print(num1)\n",
        "print(num2)\n",
        "print(num3)\n",
        "print(num4)"
      ],
      "execution_count": null,
      "outputs": []
    },
    {
      "cell_type": "markdown",
      "metadata": {
        "id": "ZPj9fuchtStS"
      },
      "source": [
        "## Flow Control: Conditional Statements"
      ]
    },
    {
      "cell_type": "markdown",
      "metadata": {
        "id": "f_mpEQSuvYn-"
      },
      "source": [
        "####   if Statement\n"
      ]
    },
    {
      "cell_type": "code",
      "metadata": {
        "id": "qj8B0bvU2u3i"
      },
      "source": [
        "# Example\n",
        "value = False\n",
        "if value:\n",
        "   print(\"Got a true expression value \",value)\n",
        "else:\n",
        "   print(\"Got a false expression value \",value)"
      ],
      "execution_count": null,
      "outputs": []
    },
    {
      "cell_type": "code",
      "metadata": {
        "id": "Yvn1PUAct9WR"
      },
      "source": [
        "# Validating the value of a variable\n",
        "flag = True\n",
        "if flag == True:\n",
        "    print(\"Welcome\")\n",
        "    print(\"To\")\n",
        "    print(\"Python Workshop 2021\")"
      ],
      "execution_count": null,
      "outputs": []
    },
    {
      "cell_type": "code",
      "metadata": {
        "id": "lHArng19uWwk"
      },
      "source": [
        "# We can obtain the same result using:\n",
        "flag = True\n",
        "if flag:\n",
        "    print(\"Welcome\")\n",
        "    print(\"To\")\n",
        "    print(\"Python Workshop 2021\")\n",
        "\n"
      ],
      "execution_count": null,
      "outputs": []
    },
    {
      "cell_type": "code",
      "metadata": {
        "id": "rQP4hUFNuXSC"
      },
      "source": [
        "# Validating if the variable is false\n",
        "flag = False\n",
        "if flag:\n",
        "    print(\"You Guys\")\n",
        "    print(\"are\")\n",
        "    print(\"Awesome\")"
      ],
      "execution_count": null,
      "outputs": []
    },
    {
      "cell_type": "code",
      "metadata": {
        "id": "PSFealbDuXb7"
      },
      "source": [
        "# Example with numerical Values\n",
        "num = 100\n",
        "if num < 200:\n",
        "    print(\"num is less than 200\")"
      ],
      "execution_count": null,
      "outputs": []
    },
    {
      "cell_type": "markdown",
      "metadata": {
        "id": "QYS3mUN0wDDA"
      },
      "source": [
        "#### if-else Statement"
      ]
    },
    {
      "cell_type": "code",
      "metadata": {
        "id": "INsn55TQwIFJ"
      },
      "source": [
        "# Example:\n",
        "num = 22\n",
        "if num % 2 == 0:\n",
        "    print(\"Even Number\")\n",
        "else:\n",
        "    print(\"Odd Number\")"
      ],
      "execution_count": null,
      "outputs": []
    },
    {
      "cell_type": "markdown",
      "metadata": {
        "id": "YuSLx1Vswb7v"
      },
      "source": [
        "#### if-elif-else statement"
      ]
    },
    {
      "cell_type": "code",
      "metadata": {
        "colab": {
          "base_uri": "https://localhost:8080/"
        },
        "id": "d-CBhiU8-jqG",
        "outputId": "32c91379-0ec8-4ea7-a4b4-3fe4345550c6"
      },
      "source": [
        "# Example:\n",
        "value = 200\n",
        "\n",
        "if value == 200:\n",
        "   print(\"value is 200\")\n",
        "elif value == 150:\n",
        "   print(\"value is 150\")\n",
        "elif value == 100:\n",
        "   print(\"value is 100\")\n",
        "else:\n",
        "   print(\"value is not (100,150,200)\")\n",
        "\n",
        "\n",
        "print(\"All of the if conditions are checked. Program is done!\")"
      ],
      "execution_count": null,
      "outputs": [
        {
          "output_type": "stream",
          "text": [
            "value is 200\n",
            "All of the if conditions are checked. Program is done!\n"
          ],
          "name": "stdout"
        }
      ]
    },
    {
      "cell_type": "code",
      "metadata": {
        "id": "G6K0yUq7-m7K"
      },
      "source": [
        ""
      ],
      "execution_count": null,
      "outputs": []
    },
    {
      "cell_type": "code",
      "metadata": {
        "id": "_nK7oIXv-mdh"
      },
      "source": [
        ""
      ],
      "execution_count": null,
      "outputs": []
    },
    {
      "cell_type": "code",
      "metadata": {
        "colab": {
          "base_uri": "https://localhost:8080/"
        },
        "id": "G3CMvGbiwfe5",
        "outputId": "700e75d9-00c6-4f1f-a294-c41540e7fe07"
      },
      "source": [
        "# Example:\n",
        "num = 10\n",
        "\n",
        "if 9 < num < 99:\n",
        "    print(\"Two digit number\")\n",
        "elif 99 < num < 999:\n",
        "    print(\"Three digit number\")\n",
        "elif 999 < num < 9999:\n",
        "    print(\"Four digit number\")\n",
        "else:\n",
        "    print(\"number is <= 9 or >= 9999\")\n",
        "\n",
        "\n",
        "# Example:\n",
        "num2 = 100\n",
        "\n",
        "if 9 < num2 < 99:\n",
        "    print(\"Two digit number\")\n",
        "elif 99 < num2 < 999:\n",
        "    print(\"Three digit number\")\n",
        "elif 999 < num2 < 9999:\n",
        "    print(\"Four digit number\")\n",
        "else:\n",
        "    print(\"number is <= 9 or >= 9999\")\n",
        "\n",
        "\n"
      ],
      "execution_count": null,
      "outputs": [
        {
          "output_type": "stream",
          "text": [
            "Two digit number\n"
          ],
          "name": "stdout"
        }
      ]
    },
    {
      "cell_type": "code",
      "metadata": {
        "colab": {
          "base_uri": "https://localhost:8080/"
        },
        "id": "O5ovoFzhV-Gl",
        "outputId": "48698c34-b1df-4802-b47a-e468520d4652"
      },
      "source": [
        "\n",
        "def whatDigitNumber(num):\n",
        "  \"\"\"\n",
        "  This function takes a number and prints whether\n",
        "  it is a two, or three, or four digit number.\n",
        "\n",
        "  Inputs:\n",
        "  num: integer number\n",
        "\n",
        "  Outputs:\n",
        "  None\n",
        "  \"\"\"\n",
        "  if 9 < num < 99:\n",
        "    print(\"Two digit number\")\n",
        "  elif 99 < num < 999:\n",
        "      print(\"Three digit number\")\n",
        "  elif 999 < num < 9999:\n",
        "      print(\"Four digit number\")\n",
        "  else:\n",
        "      print(\"number is <= 9 or >= 9999\")\n",
        "\n",
        "whatDigitNumber(20)"
      ],
      "execution_count": null,
      "outputs": [
        {
          "output_type": "stream",
          "text": [
            "Two digit number\n"
          ],
          "name": "stdout"
        }
      ]
    },
    {
      "cell_type": "code",
      "metadata": {
        "colab": {
          "base_uri": "https://localhost:8080/"
        },
        "id": "Q6mq6ZmgW833",
        "outputId": "1340268d-6c57-4b50-9811-c2f46736fb39"
      },
      "source": [
        "whatDigitNumber(200)"
      ],
      "execution_count": null,
      "outputs": [
        {
          "output_type": "stream",
          "text": [
            "Three digit number\n"
          ],
          "name": "stdout"
        }
      ]
    },
    {
      "cell_type": "code",
      "metadata": {
        "colab": {
          "base_uri": "https://localhost:8080/"
        },
        "id": "8GSr_IYuXJq6",
        "outputId": "2d5afe36-4232-4df6-a57a-598feffbd921"
      },
      "source": [
        "whatDigitNumber(2000)"
      ],
      "execution_count": null,
      "outputs": [
        {
          "output_type": "stream",
          "text": [
            "Four digit number\n"
          ],
          "name": "stdout"
        }
      ]
    },
    {
      "cell_type": "code",
      "metadata": {
        "id": "o7K4y8553Enh"
      },
      "source": [
        "# Example:\n",
        "value = 101\n",
        "if value == 200:\n",
        "   print(\"value is 200\")\n",
        "elif value == 150:\n",
        "   print(\"value is 150\")\n",
        "elif value == 100:\n",
        "   print(\"value is 100\")\n",
        "else:\n",
        "   print(\"value is not (100,150,200)\")\n",
        "print(\"End!\")"
      ],
      "execution_count": null,
      "outputs": []
    },
    {
      "cell_type": "code",
      "metadata": {
        "colab": {
          "base_uri": "https://localhost:8080/"
        },
        "id": "166nxAciRcVw",
        "outputId": "92eb2155-3761-452f-9514-6056f7412529"
      },
      "source": [
        "n=11\n",
        "# ! -> not\n",
        "isOdd = n%2!=0 # if the number `n mod 2` is not equal to zero, then the number is odd\n",
        "print(\"Is the number Odd?: \", isOdd)\n",
        "\n"
      ],
      "execution_count": null,
      "outputs": [
        {
          "output_type": "stream",
          "text": [
            "Is the number Odd?:  True\n"
          ],
          "name": "stdout"
        }
      ]
    },
    {
      "cell_type": "code",
      "metadata": {
        "id": "c3k9iMMRTX_G"
      },
      "source": [
        "N = int(input().strip())\n",
        "\n",
        "# First conditin: if the number `n mod 2` is not equal to zero, then the number is odd\n",
        "if N % 2 != 0:\n",
        "    print (\"Weird\")\n",
        "else:\n",
        "    if N >= 2 and N <= 5:\n",
        "        print (\"Not Weird\")\n",
        "    elif N >= 6 and N <= 20:\n",
        "        print (\"Weird\")\n",
        "    elif N > 20:\n",
        "        print (\"Not Weird\")"
      ],
      "execution_count": null,
      "outputs": []
    },
    {
      "cell_type": "code",
      "metadata": {
        "id": "JFGXJ9pZT3Pk"
      },
      "source": [
        "N = int(input().strip())\n",
        "\n",
        "# First conditin: if the number `n mod 2` is not equal to zero, then the number is odd\n",
        "if N % 2 != 0:\n",
        "    print (\"Weird\")\n",
        "else:\n",
        "    if 2 <= N <= 5:\n",
        "        print (\"Not Weird\")\n",
        "    elif 6 <= N <= 20:\n",
        "        print (\"Weird\")\n",
        "    elif N > 20:\n",
        "        print (\"Not Weird\")"
      ],
      "execution_count": null,
      "outputs": []
    },
    {
      "cell_type": "markdown",
      "metadata": {
        "id": "byHD0Rsfx7Sf"
      },
      "source": [
        "## Control Flow: Loops"
      ]
    },
    {
      "cell_type": "markdown",
      "metadata": {
        "id": "Gg-948jKzZDC"
      },
      "source": [
        "#### for loops"
      ]
    },
    {
      "cell_type": "code",
      "metadata": {
        "colab": {
          "base_uri": "https://localhost:8080/"
        },
        "id": "v4-L9XrK3ja5",
        "outputId": "68d4b9f3-efdf-4182-c2ff-1f6f229712cf"
      },
      "source": [
        "# Example:\n",
        "fruits = ['banana', 'apple',  'mango']\n",
        "count = 0\n",
        "for fruit in fruits: \n",
        "   print(count, fruit)\n",
        "   count = count + 1"
      ],
      "execution_count": null,
      "outputs": [
        {
          "output_type": "stream",
          "text": [
            "0 banana\n",
            "1 apple\n",
            "2 mango\n"
          ],
          "name": "stdout"
        }
      ]
    },
    {
      "cell_type": "code",
      "metadata": {
        "id": "cNkz_LdmCczV"
      },
      "source": [
        "\n"
      ],
      "execution_count": null,
      "outputs": []
    },
    {
      "cell_type": "code",
      "metadata": {
        "colab": {
          "base_uri": "https://localhost:8080/"
        },
        "id": "Ibt1ye_p3cBy",
        "outputId": "cb720daf-9b60-4846-ca14-6da93e018401"
      },
      "source": [
        "# Example:\n",
        "fruits = ['banana', 'apple', 'mango', 'star fruit', \"arun's fav fruit\"]\n",
        "\n",
        "#print(fruits)\n",
        "#print(len(fruits))\n",
        "#print(range(len(fruits)))\n",
        "\n",
        "# for eachIndex in [0, 1, 2]:\n",
        "#   print(eachIndex)\n",
        "\n",
        "for index in range(len(fruits)):\n",
        "  print(fruits[index])"
      ],
      "execution_count": null,
      "outputs": [
        {
          "output_type": "stream",
          "text": [
            "banana\n",
            "apple\n",
            "mango\n",
            "star fruit\n",
            "arun's fav fruit\n"
          ],
          "name": "stdout"
        }
      ]
    },
    {
      "cell_type": "markdown",
      "metadata": {
        "id": "hKlIzrK0EgWj"
      },
      "source": [
        "# When to use colon \n",
        "\n",
        "1. whenever there is a control statement\n",
        "2. whenever we are defining a function\n",
        "3. whenever we are defining a class\n",
        "4. ...\n",
        "\n",
        "Example for control statement\n",
        "\n",
        "```\n",
        "if a<b:\n",
        "    do something\n",
        "```\n",
        "\n",
        "```\n",
        "for a in range(10):\n",
        "   print(a)\n",
        "```\n",
        "\n",
        "Example for function definition\n",
        "\n",
        "```\n",
        "def myFirstFunction(parameter1, parameter2):\n",
        "  output = parameter1 + parameter2\n",
        "  return output\n",
        "```\n",
        "\n",
        "```\n",
        "class MyFirstClass(parameters):\n",
        "   def initializeClass(moreParameters):\n",
        "      do something here\n",
        "      return something here\n",
        "   def anotherFunctionInTheClass(parameters):\n",
        "      do something\n",
        "```\n"
      ]
    },
    {
      "cell_type": "code",
      "metadata": {
        "id": "Qjhoa73FER6N"
      },
      "source": [
        ""
      ],
      "execution_count": null,
      "outputs": []
    },
    {
      "cell_type": "code",
      "metadata": {
        "id": "UXkLB2cayjEU"
      },
      "source": [
        "# Program to print squares of all numbers present in a list\n",
        "\n",
        "# List of integer numbers\n",
        "numbers = [1, 2, 4, 6, 11, 20]\n",
        "\n",
        "# variable to store the square of each num temporary\n",
        "sq = 0\n",
        "\n",
        "# iterating over the given list\n",
        "for val in numbers:\n",
        "    # calculating square of each number\n",
        "    sq = val * val\n",
        "    # displaying the squares\n",
        "    print(sq)"
      ],
      "execution_count": null,
      "outputs": []
    },
    {
      "cell_type": "code",
      "metadata": {
        "id": "Yp1HT6RPyrK3"
      },
      "source": [
        "# Using the range function in a for loop:\n",
        "\n",
        "# Program to print the sum of first 5 natural numbers\n",
        "\n",
        "# variable to store the sum\n",
        "sum = 0\n",
        "\n",
        "# iterating over natural numbers using range()\n",
        "for val in range(1, 6):\n",
        "    # calculating sum\n",
        "    sum = sum + val\n",
        "\n",
        "# displaying sum of first 5 natural numbers\n",
        "print(sum)"
      ],
      "execution_count": null,
      "outputs": []
    },
    {
      "cell_type": "code",
      "metadata": {
        "id": "BAAArEFPy5Dp"
      },
      "source": [
        "# For loop with else block\n",
        "\n",
        "# The else block will only execute once the loop block has completed\n",
        "for val in range(5):\n",
        "\tprint(val)\n",
        "else:\n",
        "\tprint(\"The loop has completed execution\")"
      ],
      "execution_count": null,
      "outputs": []
    },
    {
      "cell_type": "code",
      "metadata": {
        "id": "0jBZly_hG0KZ"
      },
      "source": [
        ""
      ],
      "execution_count": null,
      "outputs": []
    },
    {
      "cell_type": "code",
      "metadata": {
        "colab": {
          "base_uri": "https://localhost:8080/"
        },
        "id": "i_R7X--qy_vb",
        "outputId": "e533a5f7-6830-4538-967a-195a34ca807b"
      },
      "source": [
        "# Nested for loop: A loop within a loop\n",
        "for num_outer in range(2):\n",
        "  print(\"Inside outer loop\")\n",
        "  for num_inner in range(21, 24):\n",
        "    print(\"Inside inner loop\")\n",
        "    print(\"num_outer:\", num_outer,\",\", \"num_inner:\", num_inner)\n",
        "    # print(\"something else\")\n",
        "  print(\"\\n\")"
      ],
      "execution_count": null,
      "outputs": [
        {
          "output_type": "stream",
          "text": [
            "Inside outer loop\n",
            "Inside inner loop\n",
            "num_outer: 0 , num_inner: 21\n",
            "Inside inner loop\n",
            "num_outer: 0 , num_inner: 22\n",
            "Inside inner loop\n",
            "num_outer: 0 , num_inner: 23\n",
            "\n",
            "\n",
            "Inside outer loop\n",
            "Inside inner loop\n",
            "num_outer: 1 , num_inner: 21\n",
            "Inside inner loop\n",
            "num_outer: 1 , num_inner: 22\n",
            "Inside inner loop\n",
            "num_outer: 1 , num_inner: 23\n",
            "\n",
            "\n"
          ],
          "name": "stdout"
        }
      ]
    },
    {
      "cell_type": "code",
      "metadata": {
        "id": "Ns1tySz9HN2q"
      },
      "source": [
        "outer loop [0, 1]\n",
        "\n",
        "inner loop [0, 1, 2]"
      ],
      "execution_count": null,
      "outputs": []
    },
    {
      "cell_type": "markdown",
      "metadata": {
        "id": "zFbAN5i6zbNY"
      },
      "source": [
        "#### while loops"
      ]
    },
    {
      "cell_type": "code",
      "metadata": {
        "id": "gSzA-U5M3xhD"
      },
      "source": [
        "# Example:\n",
        "\n",
        "count = 0\n",
        "while (count < 9):\n",
        "   print(\"The count is:\", count)\n",
        "   count = count + 1"
      ],
      "execution_count": null,
      "outputs": []
    },
    {
      "cell_type": "code",
      "metadata": {
        "id": "-LemMsZlzlA8"
      },
      "source": [
        "# Example:\n",
        "num = 1\n",
        "\n",
        "# loop will repeat itself as long as num < 10 remains true\n",
        "while num < 10:\n",
        "    print(num)\n",
        "    #incrementing the value of num\n",
        "    num = num + 3"
      ],
      "execution_count": null,
      "outputs": []
    },
    {
      "cell_type": "code",
      "metadata": {
        "id": "islwpvTT0seA"
      },
      "source": [
        "# Common Error - Infinite while loop\n",
        "#if yoy run the following code, it will run for infinte times. To stop that you need to interrupt the execution forcefully.\n",
        "while True:\n",
        "   print(\"hello\")"
      ],
      "execution_count": null,
      "outputs": []
    },
    {
      "cell_type": "code",
      "metadata": {
        "id": "I9gV_EdV036j"
      },
      "source": [
        "# Nested while loop - A while loop within a while loop\n",
        "i = 1\n",
        "j = 5\n",
        "while i < 4:\n",
        "    while j < 8:\n",
        "        print(i, \",\", j)\n",
        "        j = j + 1\n",
        "        i = i + 1"
      ],
      "execution_count": null,
      "outputs": []
    },
    {
      "cell_type": "code",
      "metadata": {
        "id": "j6F65FEQ077r"
      },
      "source": [
        "# While loop with else block\n",
        "\n",
        "# We can have a ‘else’ block associated with while loop. The ‘else’ block is optional. It executes only after the loop finished execution.\n",
        "num = 10\n",
        "while num > 6:\n",
        "   print(num)\n",
        "   num = num - 1\n",
        "else:\n",
        "   print(\"loop is finished\")"
      ],
      "execution_count": null,
      "outputs": []
    },
    {
      "cell_type": "markdown",
      "metadata": {
        "id": "9QJbUBce1FlO"
      },
      "source": [
        "#### break, continue, and pass statements"
      ]
    },
    {
      "cell_type": "code",
      "metadata": {
        "id": "d4LmlGdD1Um1"
      },
      "source": [
        "# break\n",
        "\n",
        "# In this example, we are searching a number ’88’ in the given list of numbers. \n",
        "# The requirement is to display all the numbers till the number ’88’ is found and when it is found, \n",
        "# terminate the loop and do not display the rest of the numbers.\n",
        "\n",
        "# program to display all the elements before number 88\n",
        "for num in [11, 9, 88, 10, 90, 3, 19]:\n",
        "   print(num)\n",
        "   if(num == 88):\n",
        "\t   print(\"The number 88 is found\")\n",
        "\t   print(\"Terminating the loop\")\n",
        "\t   break"
      ],
      "execution_count": null,
      "outputs": []
    },
    {
      "cell_type": "code",
      "metadata": {
        "id": "FX3-KD-n1t4Y"
      },
      "source": [
        "# continue\n",
        "\n",
        "# program to display only odd numbers\n",
        "for num in [20, 11, 9, 66, 4, 89, 44]:\n",
        "    # Skipping the iteration when number is even\n",
        "    if num % 2 == 0:\n",
        "        continue\n",
        "    # This statement will be skipped for all even numbers\n",
        "    print(num)"
      ],
      "execution_count": null,
      "outputs": []
    },
    {
      "cell_type": "code",
      "metadata": {
        "id": "r_WFF1pF11Ii"
      },
      "source": [
        "# pass\n",
        "\n",
        "for num in [20, 11, 9, 66, 4, 89, 44]:\n",
        "    if num % 2 == 0:\n",
        "        pass\n",
        "    else:\n",
        "        print(num)"
      ],
      "execution_count": null,
      "outputs": []
    },
    {
      "cell_type": "markdown",
      "metadata": {
        "id": "mPzh24AGolok"
      },
      "source": [
        "## List"
      ]
    },
    {
      "cell_type": "code",
      "metadata": {
        "id": "etyBSK7brX4b"
      },
      "source": [
        "# Creating a List\n",
        "\n",
        "# To create a list all you have to do is to place the items inside a square bracket [] separated by comma ,.\n",
        "\n",
        "# list of floats\n",
        "num_list = [11.22, 9.9, 78.34, 12.0]\n",
        "\n",
        "# list of int, float and strings\n",
        "mix_list = [1.13, 2, 5, 'itesm', 100, 'hi']\n",
        "\n",
        "# an empty list\n",
        "nodata_list = []\n",
        "\n",
        "# Printing a List\n",
        "print(num_list)\n",
        "print(mix_list)\n",
        "print(nodata_list)"
      ],
      "execution_count": null,
      "outputs": []
    },
    {
      "cell_type": "code",
      "metadata": {
        "id": "Ns2yMQ5WrqLz"
      },
      "source": [
        "# Check the number of elements for each list\n",
        "print(len(num_list))\n",
        "print(len(mix_list))\n",
        "print(len(nodata_list))"
      ],
      "execution_count": null,
      "outputs": []
    },
    {
      "cell_type": "code",
      "metadata": {
        "id": "emWmlQHmrp6t"
      },
      "source": [
        "# Accesing the items of a list\n",
        "\n",
        "# a list of numbers\n",
        "numbers = [11, 22, 33, 100, 200, 300]\n",
        "\n",
        "# prints 11\n",
        "print(numbers[0])\n",
        "\n",
        "# prints 300\n",
        "print(numbers[5])\n",
        "\n",
        "# prints 22\n",
        "print(numbers[1])"
      ],
      "execution_count": null,
      "outputs": []
    },
    {
      "cell_type": "code",
      "metadata": {
        "id": "wckn7f51rqZE"
      },
      "source": [
        "# Common Errors - Using a float number to access an Index\n",
        "\n",
        "# a list of numbers\n",
        "numbers = [11, 22, 33, 100, 200, 300]\n",
        "\n",
        "# error\n",
        "print(numbers[1.0])"
      ],
      "execution_count": null,
      "outputs": []
    },
    {
      "cell_type": "code",
      "metadata": {
        "id": "PS2HC-5VsbXy"
      },
      "source": [
        "# Common Errors - Accessing an index out of range\n",
        "\n",
        "# a list of numbers\n",
        "numbers = [11, 22, 33, 100, 200, 300]\n",
        "\n",
        "# error\n",
        "print(numbers[6])"
      ],
      "execution_count": null,
      "outputs": []
    },
    {
      "cell_type": "code",
      "metadata": {
        "id": "JIpJcxh0sizk"
      },
      "source": [
        "# Negative Index to access the list items from the end\n",
        "\n",
        "# a list of strings\n",
        "my_list = ['hello', 'world', 'hi', 'bye']\n",
        "\n",
        "# prints \"bye\"\n",
        "print(my_list[-1])\n",
        "\n",
        "# prints \"world\"\n",
        "print(my_list[-3])\n",
        "\n",
        "# prints \"hello\"\n",
        "print(my_list[-4])"
      ],
      "execution_count": null,
      "outputs": []
    },
    {
      "cell_type": "code",
      "metadata": {
        "id": "tUUvBwlJsmsW"
      },
      "source": [
        "# Getting a sublist in Python using slicing\n",
        "\n",
        "# list of numbers\n",
        "n_list = [1, 2, 3, 4, 5, 6, 7]\n",
        "\n",
        "# list items from 2nd to 3rd\n",
        "print(n_list[1: 3])\n",
        "\n",
        "# list items from beginning to 3rd\n",
        "print(n_list[: 3])\n",
        "\n",
        "# list items from 4th to end of list\n",
        "print(n_list[3 :])\n",
        "\n",
        "# Whole list\n",
        "print(n_list[:])"
      ],
      "execution_count": null,
      "outputs": []
    },
    {
      "cell_type": "code",
      "metadata": {
        "id": "OP58EU1zsv8o"
      },
      "source": [
        "# List Operations - Adding new elements to List\n",
        "\n",
        "# list of numbers\n",
        "n_list = [1, 2, 3, 4]\n",
        "\n",
        "# 1. adding item at the desired location\n",
        "# adding element 100 at the fourth location\n",
        "n_list.insert(3, 100)\n",
        "\n",
        "# list: [1, 2, 3, 100, 4]\n",
        "print(n_list)\n",
        "\n",
        "# 2. adding element at the end of the list\n",
        "n_list.append(99)\n",
        "\n",
        "# list: [1, 2, 3, 100, 4, 99]\n",
        "print(n_list)\n",
        "\n",
        "# 3. adding several elements at the end of list\n",
        "# the following statement can also be written like this:\n",
        "# n_list + [11, 22]\n",
        "n_list.extend([11, 22])\n",
        "\n",
        "# list: [1, 2, 3, 100, 4, 99, 11, 22]\n",
        "print(n_list)"
      ],
      "execution_count": null,
      "outputs": []
    },
    {
      "cell_type": "code",
      "metadata": {
        "id": "_xo4zj9Ls2tc"
      },
      "source": [
        "# List Operations - Updating elements in a list\n",
        "\n",
        "# list of numbers\n",
        "n_list = [1, 2, 3, 4]\n",
        "\n",
        "# Changing the value of 3rd item\n",
        "n_list[2] = 100\n",
        "\n",
        "# list: [1, 2, 100, 4]\n",
        "print(n_list)\n",
        "\n",
        "# Changing the values of 2nd to fourth items\n",
        "n_list[1 : 4] = [11, 22, 33]\n",
        "\n",
        "# list: [1, 11, 22, 33]\n",
        "print(n_list)"
      ],
      "execution_count": null,
      "outputs": []
    },
    {
      "cell_type": "code",
      "metadata": {
        "id": "kYuypGCKs64T"
      },
      "source": [
        "# List Operations - Deleting elements in a list\n",
        "\n",
        "# list of numbers\n",
        "n_list = [1, 2, 3, 4, 5, 6]\n",
        "\n",
        "# Deleting 2nd element\n",
        "del n_list[1]\n",
        "\n",
        "# list: [1, 3, 4, 5, 6]\n",
        "print(n_list)\n",
        "\n",
        "# Deleting elements from 3rd to 4th\n",
        "del n_list[2 : 4]\n",
        "\n",
        "# list: [1, 3, 6]\n",
        "print(n_list)\n",
        "\n",
        "# Deleting the whole list\n",
        "del n_list"
      ],
      "execution_count": null,
      "outputs": []
    },
    {
      "cell_type": "code",
      "metadata": {
        "id": "fYtpr9lVs6VM"
      },
      "source": [
        "# List Operations - Deleting elements using remove(), pop() and clear() methods\n",
        "# remove(item): Removes specified item from list.\n",
        "# pop(index): Removes the element from the given index.\n",
        "# pop(): Removes the last element.\n",
        "# clear(): Removes all the elements from the list.\n",
        "\n",
        "# list of chars\n",
        "ch_list = ['A', 'F', 'B', 'Z', 'O', 'L']\n",
        "\n",
        "# Deleting the element with value 'B'\n",
        "ch_list.remove('B')\n",
        "\n",
        "# list: ['A', 'F', 'Z', 'O', 'L']\n",
        "print(ch_list)\n",
        "\n",
        "# Deleting 2nd element\n",
        "ch_list.pop(1)\n",
        "\n",
        "# list: ['A', 'Z', 'O', 'L']\n",
        "print(ch_list)\n",
        "\n",
        "# Deleting all the elements\n",
        "ch_list.clear()\n",
        "\n",
        "# list: []\n",
        "print(ch_list)"
      ],
      "execution_count": null,
      "outputs": []
    },
    {
      "cell_type": "code",
      "metadata": {
        "id": "USF9jFkIxffi"
      },
      "source": [
        "# Other Operations\n",
        "some_list = ['physics', 'math', 1997, 2000];\n",
        "print (len(some_list))\n",
        "some_list = some_list + ['AI', 2018]\n",
        "print(some_list)\n",
        "print(some_list * 2)"
      ],
      "execution_count": null,
      "outputs": []
    },
    {
      "cell_type": "markdown",
      "metadata": {
        "id": "0iHEdWIQtHvf"
      },
      "source": [
        "## Tuple"
      ]
    },
    {
      "cell_type": "code",
      "metadata": {
        "id": "KRXZlYpOs-WO"
      },
      "source": [
        "# Creating Tuples\n",
        "tup1 = ('physics', 'chemistry', 1997, 2000)\n",
        "tup2 = (1, 2, 3, 4, 5 )\n",
        "tup3 = 'a', 'b', 'c', 'd'\n",
        "print(type(tup3))\n",
        "\n",
        "# Accessing Values\n",
        "print(len(tup1))\n",
        "tup2 = (1, 2, 3, 4, 5, 6, 7 )\n",
        "print(\"tup1[0]: \", tup1[0])\n",
        "print(\"tup2[1 : 5]: \", tup2[1 : 5])"
      ],
      "execution_count": null,
      "outputs": []
    },
    {
      "cell_type": "code",
      "metadata": {
        "id": "YTFbYG18txC5"
      },
      "source": [
        "# Common Errors - Modifying a value\n",
        "tup1[0] = 100"
      ],
      "execution_count": null,
      "outputs": []
    },
    {
      "cell_type": "markdown",
      "metadata": {
        "id": "7ORNSkpMuzkb"
      },
      "source": [
        "## String"
      ]
    },
    {
      "cell_type": "code",
      "metadata": {
        "id": "jdiGLxqnvXWN"
      },
      "source": [
        "# Creating a String\n",
        "\n",
        "# lets see the ways to create strings in Python\n",
        "str = 'Python2021'\n",
        "print(str)\n",
        "\n",
        "str2 = \"Chaitanya\"\n",
        "print(str2)\n",
        "\n",
        "# multi-line string\n",
        "str3 = \"\"\"Welcome to \n",
        "   Python 2021 training\"\"\"\n",
        "print(str3)\n",
        "\n",
        "str4 = '''This is a tech \n",
        "   blog'''\n",
        "print(str4)"
      ],
      "execution_count": null,
      "outputs": []
    },
    {
      "cell_type": "code",
      "metadata": {
        "id": "c4Ezjg_vveYv"
      },
      "source": [
        "# Accessing elements in a string\n",
        "str = \"Kevin\"\n",
        "\n",
        "# displaying whole string\n",
        "print(str)\n",
        "\n",
        "# displaying first character of string\n",
        "print(str[0])\n",
        "\n",
        "# displaying third character of string\n",
        "print(str[2])\n",
        "\n",
        "# displaying the last character of the string\n",
        "print(str[-1])\n",
        "\n",
        "# displaying the second last char of string\n",
        "print(str[-2])"
      ],
      "execution_count": null,
      "outputs": []
    },
    {
      "cell_type": "code",
      "metadata": {
        "colab": {
          "base_uri": "https://localhost:8080/"
        },
        "id": "ayCpMOreKyBo",
        "outputId": "c4db7a02-6166-4063-9dec-34b71c44ac81"
      },
      "source": [
        "\n",
        "a = [0, 1, 2, 3]\n",
        "print(a[-1] == a [3])"
      ],
      "execution_count": null,
      "outputs": [
        {
          "output_type": "stream",
          "text": [
            "True\n"
          ],
          "name": "stdout"
        }
      ]
    },
    {
      "cell_type": "code",
      "metadata": {
        "id": "YVf31ERaviXv"
      },
      "source": [
        "# String Operations - Slicing operation\n",
        "str = \"Star Wars is Amazing\"\n",
        "\n",
        "# displaying whole string\n",
        "print(\"The original string is: \", str)\n",
        "\n",
        "# slicing 10th to the last character\n",
        "print(\"str[9 :]: \", str[9 :])\n",
        "\n",
        "# slicing 3rd to 6th character\n",
        "print(\"str[2 : 6]: \", str[2 : 6])\n",
        "\n",
        "# slicing from start to the 9th character\n",
        "print(\"str[: 9]: \", str[: 9])\n",
        "\n",
        "# slicing from 10th to second last character\n",
        "print(\"str[9 : -1]: \", str[9 : -1])"
      ],
      "execution_count": null,
      "outputs": []
    },
    {
      "cell_type": "code",
      "metadata": {
        "id": "sxBC_swTv1qt"
      },
      "source": [
        "# String Operations - Concatenation\n",
        "str1 = \"One\"\n",
        "str2 = \"Two\"\n",
        "str3 = \"Three\"\n",
        "\n",
        "# Concatenation of three strings\n",
        "print(str1 + str2 + str3)"
      ],
      "execution_count": null,
      "outputs": []
    },
    {
      "cell_type": "code",
      "metadata": {
        "id": "dubKvk7xv3id"
      },
      "source": [
        "# String Operations - Repeating a String\n",
        "str = \"ABC\"\n",
        "\n",
        "# repeating the string str by 3 times\n",
        "print(str * 3)"
      ],
      "execution_count": null,
      "outputs": []
    },
    {
      "cell_type": "code",
      "metadata": {
        "id": "Y5_Y8n8tv8JO"
      },
      "source": [
        "# String Operations - Membership Opertions\n",
        "str = \"Welcome to Python 2021 training\"\n",
        "str2 = \"Welcome\"\n",
        "str3 = \"Chaitanya\"\n",
        "str4 = \"XYZ\"\n",
        "\n",
        "# str2 is in str? True\n",
        "print(str2 in str)\n",
        "\n",
        "# str3 is in str? False\n",
        "print(str3 in str)\n",
        "\n",
        "# str4 not in str? True\n",
        "print(str4 not in str)"
      ],
      "execution_count": null,
      "outputs": []
    },
    {
      "cell_type": "code",
      "metadata": {
        "id": "1-ppdCj6v_FH"
      },
      "source": [
        "# String Operations - Relational Operators on Strings\n",
        "# The relational operators works on strings based on the ASCII values of characters.\n",
        "\n",
        "# The ASCII value of a is 97, b is 98 and so on.\n",
        "# The ASCII value of A is 65, B is 66 and so on.\n",
        "\n",
        "str = \"ABC\"\n",
        "str2 = \"aBC\"\n",
        "str3 = \"XYZ\"\n",
        "str4 = \"XYz\"\n",
        "\n",
        "# ASCII value of str2 is > str? True\n",
        "print(str2 > str)\n",
        "\n",
        "# ASCII value of str3 is > str4? False\n",
        "print(str3 > str4)"
      ],
      "execution_count": null,
      "outputs": []
    },
    {
      "cell_type": "code",
      "metadata": {
        "id": "-FVrxMUN1XnP"
      },
      "source": [
        "# Convert String to List and List to String\n",
        "string = \"Geeks for Geeks\"\n",
        "      \n",
        "# Splitting a string into list\n",
        "list_string = string.split(' ')\n",
        "print(list_string)\n",
        "  \n",
        "# Join list of strings into one\n",
        "new_string = '-'.join(list_string)\n",
        "print(new_string)"
      ],
      "execution_count": null,
      "outputs": []
    },
    {
      "cell_type": "markdown",
      "metadata": {
        "id": "Ij0jSqag3-Ds"
      },
      "source": [
        "## Dictionaries"
      ]
    },
    {
      "cell_type": "code",
      "metadata": {
        "colab": {
          "base_uri": "https://localhost:8080/"
        },
        "id": "KEdcSCAW4tB-",
        "outputId": "e4179433-ec61-4e9e-ecfa-6e52281de514"
      },
      "source": [
        "# Creating a dictionary\n",
        "mydict = {'StuName': 'Alex', \n",
        "          'StuAge': 30, \n",
        "          'StuCity': 'Austin'}\n",
        "\n",
        "print(mydict)\n",
        "# print(\"Student Age is:\", mydict['StuAge'])\n",
        "# print(\"Student City is:\", mydict['StuCity'])"
      ],
      "execution_count": null,
      "outputs": [
        {
          "output_type": "stream",
          "text": [
            "{'StuName': 'Alex', 'StuAge': 30, 'StuCity': 'Austin'}\n"
          ],
          "name": "stdout"
        }
      ]
    },
    {
      "cell_type": "code",
      "metadata": {
        "id": "-TCaX8TKMknn"
      },
      "source": [
        "mydict = {'Names': ['Alex', \"Arun\"], \n",
        "          'Ages': [30, 30], \n",
        "          'Citys': [\"Martha's Wineyard\", \"Austin\"]}"
      ],
      "execution_count": null,
      "outputs": []
    },
    {
      "cell_type": "code",
      "metadata": {
        "colab": {
          "base_uri": "https://localhost:8080/"
        },
        "id": "pJTqdbPJNQAi",
        "outputId": "d84a4e6b-6e37-44f1-e7dd-3a3b3e06afe9"
      },
      "source": [
        "mydict['Ages'][1]"
      ],
      "execution_count": null,
      "outputs": [
        {
          "output_type": "execute_result",
          "data": {
            "text/plain": [
              "30"
            ]
          },
          "metadata": {},
          "execution_count": 59
        }
      ]
    },
    {
      "cell_type": "code",
      "metadata": {
        "id": "tDTCtYur42yn"
      },
      "source": [
        "# Common Errors - Looking for non-existing keys\n",
        "print(\"Student Age is:\", mydict['StuClass'])"
      ],
      "execution_count": null,
      "outputs": []
    },
    {
      "cell_type": "code",
      "metadata": {
        "id": "z52twK7s421Y"
      },
      "source": [
        "# Changing values in a Dictionary\n",
        "mydict = {'StuName': 'Ajeet', 'StuAge': 30, 'StuCity': 'Agra'}\n",
        "print(\"Student Age before update is:\", mydict['StuAge'])\n",
        "print(\"Student City before update is:\", mydict['StuCity'])\n",
        "\n",
        "mydict['StuAge'] = 31\n",
        "mydict['StuCity'] = 'Noida'\n",
        "print(\"Student Age after update is:\", mydict['StuAge'])\n",
        "print(\"Student City after update is:\", mydict['StuCity'])"
      ],
      "execution_count": null,
      "outputs": []
    },
    {
      "cell_type": "code",
      "metadata": {
        "id": "ziqWsQQl43Ee"
      },
      "source": [
        "# Adding new key-pair values\n",
        "mydict = {'StuName': 'Steve', 'StuAge': 4, 'StuCity': 'Agra'}\n",
        "mydict['StuClass'] = 'Jr.KG'\n",
        "print(\"Student Name is:\", mydict['StuName'])\n",
        "print(\"Student Class is:\", mydict['StuClass'])"
      ],
      "execution_count": null,
      "outputs": []
    },
    {
      "cell_type": "code",
      "metadata": {
        "id": "4jVhDrh95GaU"
      },
      "source": [
        "# Looping through a dictionary\n",
        "mydict = {'StuName': 'Steve', 'StuAge': 4, 'StuCity': 'Agra'}\n",
        "for e in mydict:\n",
        "  print(\"Key:\",e,\"Value:\",mydict[e])"
      ],
      "execution_count": null,
      "outputs": []
    },
    {
      "cell_type": "code",
      "metadata": {
        "id": "tN1fmCpV76UE"
      },
      "source": [
        "# Updation dictionaries\n",
        "mydict = {'Name': 'Zara', 'Age': 7, 'Class': 'First'}\n",
        "mydict['Age'] = 8; # update existing entry\n",
        "mydict['School'] = \"DPS School\"; # Add new entry\n",
        "print (mydict)"
      ],
      "execution_count": null,
      "outputs": []
    },
    {
      "cell_type": "code",
      "metadata": {
        "id": "5vq_ocws8G0n"
      },
      "source": [
        "# Useful functions\n",
        "print(mydict.keys())\n",
        "print(mydict.values())\n",
        "mydict.clear()\n",
        "print(mydict)"
      ],
      "execution_count": null,
      "outputs": []
    },
    {
      "cell_type": "code",
      "metadata": {
        "id": "jYOLVjtRECNj"
      },
      "source": [
        "# Creating dictionaries from list\n",
        "L1 = ['a','b','c','d']\n",
        "L2 = [1,2,3,4]\n",
        "d = dict(zip(L1,L2))\n",
        "print(d)"
      ],
      "execution_count": null,
      "outputs": []
    },
    {
      "cell_type": "markdown",
      "metadata": {
        "id": "kB4x-alx8ojg"
      },
      "source": [
        "## Functions"
      ]
    },
    {
      "cell_type": "code",
      "metadata": {
        "id": "U-Ad2Q558rzI"
      },
      "source": [
        "# Lets define a function for adding numbers:\n",
        "def add(num1, num2):\n",
        "    return num1 + num2\n",
        "\n",
        "# Outside function\n",
        "sum1 = add(100, 200)\n",
        "sum2 = add(8, 9)\n",
        "print(sum1)\n",
        "print(sum2)"
      ],
      "execution_count": null,
      "outputs": []
    },
    {
      "cell_type": "code",
      "metadata": {
        "id": "gGOjlG8s9Mzj"
      },
      "source": [
        "# Using default arguments in a function:\n",
        "\n",
        "# Now that we know how to declare and call a function, lets see how can we use the default arguments. \n",
        "# By using default arguments we can avoid the errors that may arise while calling a function without \n",
        "# passing all the parameters. \n",
        "\n",
        "# default argument for second parameter\n",
        "def add(num1, num2=1):\n",
        "    return num1 + num2\n",
        "\n",
        "# Outside function\n",
        "sum1 = add(100, 200)\n",
        "sum2 = add(8)  # used default argument for second param\n",
        "sum3 = add(100)  # used default argument for second param\n",
        "print(sum1)\n",
        "print(sum2)\n",
        "print(sum3)"
      ],
      "execution_count": null,
      "outputs": []
    },
    {
      "cell_type": "code",
      "metadata": {
        "id": "K2BZIRBa9TeU"
      },
      "source": [
        "# Defining function\n",
        "def printinfo( student_dict ):\n",
        "    print(\"Info of Student:\")\n",
        "    print(\"Name:\", student_dict['name'])\n",
        "    print(\"Class:\", student_dict['class'])\n",
        "    print(\"School:\", student_dict['school'])\n",
        "    print(\"Age:\", student_dict['age'])\n",
        "    return;\n",
        "\n",
        "# Outside function\n",
        "studentName = input(\"Enter name: \")\n",
        "studentAge = input(\"Enter age: \")\n",
        "studentClass = input(\"Enter class: \")\n",
        "studentSchool = input(\"Enter school: \")\n",
        "\n",
        "some_student = {'name': studentName, 'age': studentAge, 'class': studentClass, 'school': studentSchool}\n",
        "printinfo(some_student)"
      ],
      "execution_count": null,
      "outputs": []
    },
    {
      "cell_type": "code",
      "metadata": {
        "id": "4HAisBKQBILl"
      },
      "source": [
        "# Example of recursion in Python to\n",
        "# find the factorial of a given number\n",
        "\n",
        "def factorial(num):\n",
        "    \"\"\"This function calls itself to find\n",
        "    the factorial of a number\"\"\"\n",
        "\n",
        "    if num == 1:\n",
        "        return 1\n",
        "    else:\n",
        "        return (num * factorial(num - 1))\n",
        "\n",
        "\n",
        "num = 5\n",
        "print(\"Factorial of\", num, \"is:\", factorial(num))"
      ],
      "execution_count": null,
      "outputs": []
    },
    {
      "cell_type": "code",
      "metadata": {
        "id": "lOVlbUSgDv-t"
      },
      "source": [
        "# Lamba Example 1\n",
        "lam = lambda a : a + 10\n",
        "print(lam(5))"
      ],
      "execution_count": null,
      "outputs": []
    },
    {
      "cell_type": "code",
      "metadata": {
        "id": "IY8FfajSMFF2"
      },
      "source": [
        "# Lambda Example 2\n",
        "adder = lambda x, y: x + y\n",
        "print (adder (1, 2))\n"
      ],
      "execution_count": null,
      "outputs": []
    },
    {
      "cell_type": "markdown",
      "metadata": {
        "id": "MSMHYeO6MGdC"
      },
      "source": [
        "## Handling Files"
      ]
    },
    {
      "cell_type": "code",
      "metadata": {
        "id": "1AvUiSxR4JCu"
      },
      "source": [
        "# myfile.txt contains:\n",
        "# I am learning Python programming.\n",
        "# Python is an interesting language.\n",
        "\n",
        "# Open file\n",
        "myfile = open(\"/content/drive/MyDrive/Google Colab Files/myfile.txt\", \"r\")\n",
        "\n",
        "# Process file\n",
        "for line in myfile:\n",
        "  print(line, end = \"\")\n",
        "\n",
        "# Close file\n",
        "myfile.close()"
      ],
      "execution_count": null,
      "outputs": []
    },
    {
      "cell_type": "code",
      "metadata": {
        "id": "MWueQhVG5ZBg"
      },
      "source": [
        "# StudentInfo.csv contains:\n",
        "# ID,Name,Grade \n",
        "# 109,John,A \n",
        "# 289,Zara,B \n",
        "# 157,Richard,C \n",
        "# 322,Sophia,A \n",
        "\n",
        "myfile = open(\"/content/drive/MyDrive/Google Colab Files/StudentInfo.csv\", \"r\")\n",
        "\n",
        "# Discarding the first line and initialize list\n",
        "myfile.readline()\n",
        "mylist = []\n",
        "\n",
        "# Reading file and storing each line in a list\n",
        "for line in myfile:\n",
        "  line = line[: len(line) - 1]  # Remove newline\n",
        "  mylist.append(line)\n",
        "\n",
        "print(\"After Reading:\", mylist)\n",
        "\n",
        "# Separating the values in each line in the list to access them\n",
        "for index in range(len(mylist)):\n",
        "  mylist[index] = mylist[index].split(\",\")\n",
        "\n",
        "print(\"After Processing:\", mylist)"
      ],
      "execution_count": null,
      "outputs": []
    },
    {
      "cell_type": "code",
      "metadata": {
        "id": "SzVhxNkpsD9s"
      },
      "source": [
        "keys = ['id', 'name', 'grade']\n",
        "dict(zip())"
      ],
      "execution_count": null,
      "outputs": []
    },
    {
      "cell_type": "code",
      "metadata": {
        "id": "8kuEhJ-apxhB"
      },
      "source": [
        "import pandas as pd"
      ],
      "execution_count": null,
      "outputs": []
    },
    {
      "cell_type": "code",
      "metadata": {
        "id": "6cUwu_W3pzLc"
      },
      "source": [
        "df = pd.read_csv(\"/content/drive/MyDrive/Google Colab Files/StudentInfo.csv\")"
      ],
      "execution_count": null,
      "outputs": []
    },
    {
      "cell_type": "code",
      "metadata": {
        "id": "ruf1Pp5rqzX1"
      },
      "source": [
        "df.columns"
      ],
      "execution_count": null,
      "outputs": []
    },
    {
      "cell_type": "code",
      "metadata": {
        "id": "-H3ysO4Bp7ij"
      },
      "source": [
        "df[df['Grade'] == 'A']"
      ],
      "execution_count": null,
      "outputs": []
    },
    {
      "cell_type": "code",
      "metadata": {
        "id": "JQYxoaLerAJq"
      },
      "source": [
        "df.query(\"Grade in ['A']\")"
      ],
      "execution_count": null,
      "outputs": []
    },
    {
      "cell_type": "code",
      "metadata": {
        "id": "oSGozrBaQhu0"
      },
      "source": [
        "# Printing students with grade A. Indexing: ID = 0, name = 1, and grades = 2\n",
        "def printStudentInfo(studentInfo):\n",
        "  print(\"ID:\", studentInfo[0], end = \", \")\n",
        "  print(\"Name:\", studentInfo[1], end = \", \")\n",
        "  print(\"Grade:\", studentInfo[2])\n",
        "\n",
        "for student in mylist:\n",
        "  if student[2] == 'A':\n",
        "    printStudentInfo(student)"
      ],
      "execution_count": null,
      "outputs": []
    },
    {
      "cell_type": "markdown",
      "metadata": {
        "id": "DXrUitVeLeCd"
      },
      "source": [
        "## Exception Handling"
      ]
    },
    {
      "cell_type": "code",
      "metadata": {
        "id": "ZPKnv0uGLsLq"
      },
      "source": [
        "# Example:\n",
        "try:\n",
        "   fh = open(\"testfile\", \"w\")\n",
        "   fh.write(\"This is my test file for exception handling!!\")\n",
        "except IOError:\n",
        "   print(\"Error: can\\'t find file or read data\")\n",
        "else:\n",
        "   print(\"Written content in the file successfully\")\n",
        "   fh.close()"
      ],
      "execution_count": null,
      "outputs": []
    },
    {
      "cell_type": "code",
      "metadata": {
        "id": "ypw_IARjL2nl"
      },
      "source": [
        "# Example:\n",
        "try:\n",
        "   fh = open(\"testfile\", \"r\")\n",
        "   fh.write(\"This is my test file for exception handling!!\")\n",
        "except IOError:\n",
        "   print(\"Error: can\\'t find file or read data\")\n",
        "else:\n",
        "   print(\"Written content in the file successfully\")"
      ],
      "execution_count": null,
      "outputs": []
    },
    {
      "cell_type": "markdown",
      "metadata": {
        "id": "QID-AUaYEOZ6"
      },
      "source": [
        "## Modules: NumPy"
      ]
    },
    {
      "cell_type": "markdown",
      "metadata": {
        "id": "Ga-0L9WlGdyw"
      },
      "source": [
        "#### Impoting and Creating a numPy"
      ]
    },
    {
      "cell_type": "code",
      "metadata": {
        "id": "QkudSNcbFFmw"
      },
      "source": [
        "# Import numPy\n",
        "import numpy as np\n",
        "\n",
        "# Create a list\n",
        "my_list = [1, 2, 3, 4]\n",
        "print(\"my_list:\", my_list)\n",
        "\n",
        "# Use that list to create a numPy array\n",
        "np_array = np.array(my_list)\n",
        "print(\"np_array:\", np_array)\n",
        "print(\"type of np_array:\", type(np_array))"
      ],
      "execution_count": null,
      "outputs": []
    },
    {
      "cell_type": "markdown",
      "metadata": {
        "id": "7lgxk8ZBGos0"
      },
      "source": [
        "#### Built-in Methods of numPy "
      ]
    },
    {
      "cell_type": "markdown",
      "metadata": {
        "id": "FrVd1qhmHA_5"
      },
      "source": [
        "arange: Return evenly spaced values within a given interval."
      ]
    },
    {
      "cell_type": "code",
      "metadata": {
        "id": "szqGILUTG-5I"
      },
      "source": [
        "np.arange(10)"
      ],
      "execution_count": null,
      "outputs": []
    },
    {
      "cell_type": "code",
      "metadata": {
        "id": "qtmtVLBRHMCM"
      },
      "source": [
        "np.arange(0, 10)"
      ],
      "execution_count": null,
      "outputs": []
    },
    {
      "cell_type": "code",
      "metadata": {
        "id": "7DCEKQj5HLxF"
      },
      "source": [
        "np.arange(0, 11, 2)"
      ],
      "execution_count": null,
      "outputs": []
    },
    {
      "cell_type": "code",
      "metadata": {
        "id": "o65kxd4eHLzm"
      },
      "source": [
        "np.arange(5)"
      ],
      "execution_count": null,
      "outputs": []
    },
    {
      "cell_type": "markdown",
      "metadata": {
        "id": "6U5GXHzTHX_f"
      },
      "source": [
        "zeros and ones: Generate arrays of zeros or ones"
      ]
    },
    {
      "cell_type": "code",
      "metadata": {
        "id": "DZrOI8SWHe7x"
      },
      "source": [
        "np.zeros(3)"
      ],
      "execution_count": null,
      "outputs": []
    },
    {
      "cell_type": "code",
      "metadata": {
        "id": "ONvZd-hPHfGp"
      },
      "source": [
        "np.zeros((5, 5))"
      ],
      "execution_count": null,
      "outputs": []
    },
    {
      "cell_type": "code",
      "metadata": {
        "id": "iCyCmiNcH0xJ"
      },
      "source": [
        "np.ones(3)"
      ],
      "execution_count": null,
      "outputs": []
    },
    {
      "cell_type": "code",
      "metadata": {
        "id": "_l6Msx9gH6dA"
      },
      "source": [
        "np.ones((3, 3))"
      ],
      "execution_count": null,
      "outputs": []
    },
    {
      "cell_type": "markdown",
      "metadata": {
        "id": "2_MtyZzMH99R"
      },
      "source": [
        "linspace: Returns numbers evenly spaced samples, calculated over the interval"
      ]
    },
    {
      "cell_type": "code",
      "metadata": {
        "id": "9O4WQAfoIrQG"
      },
      "source": [
        "np.linspace(0, 9, 10)"
      ],
      "execution_count": null,
      "outputs": []
    },
    {
      "cell_type": "code",
      "metadata": {
        "id": "_DW1HCWeIyef"
      },
      "source": [
        "np.linspace(0, 5, 20)"
      ],
      "execution_count": null,
      "outputs": []
    },
    {
      "cell_type": "code",
      "metadata": {
        "id": "ClIO1QGRIyl1"
      },
      "source": [
        "np.linspace(0, 5, 21)"
      ],
      "execution_count": null,
      "outputs": []
    },
    {
      "cell_type": "markdown",
      "metadata": {
        "id": "tmaFfTyYH-YR"
      },
      "source": [
        "eye: Creates an identity matrix"
      ]
    },
    {
      "cell_type": "code",
      "metadata": {
        "id": "TVMEhoWpJA3d"
      },
      "source": [
        "np.eye(4)"
      ],
      "execution_count": null,
      "outputs": []
    },
    {
      "cell_type": "markdown",
      "metadata": {
        "id": "5qu8X53ZIOqP"
      },
      "source": [
        "random.rand: Creates an array of the given shape and populates it with random samples from a uniform distribution over [0, 1)"
      ]
    },
    {
      "cell_type": "code",
      "metadata": {
        "id": "Se9lNRCQJC6-"
      },
      "source": [
        "np.random.seed(7)\n",
        "np.random.rand(2)"
      ],
      "execution_count": null,
      "outputs": []
    },
    {
      "cell_type": "code",
      "metadata": {
        "id": "5JaOegqgJKDP"
      },
      "source": [
        "np.random.rand(2)"
      ],
      "execution_count": null,
      "outputs": []
    },
    {
      "cell_type": "code",
      "metadata": {
        "id": "uaOZgL9jJLjW"
      },
      "source": [
        "np.random.rand(5, 5)"
      ],
      "execution_count": null,
      "outputs": []
    },
    {
      "cell_type": "markdown",
      "metadata": {
        "id": "RMpnitIXIO92"
      },
      "source": [
        "randn: Returns a sample (or samples) from the \"standard normal\" distribution [σ = 1]. Unlike rand which is uniform, values closer to zero are more likely to appear."
      ]
    },
    {
      "cell_type": "code",
      "metadata": {
        "id": "fmfehUKKIiRk"
      },
      "source": [
        "np.random.randn(2)"
      ],
      "execution_count": null,
      "outputs": []
    },
    {
      "cell_type": "code",
      "metadata": {
        "id": "7E3mWLlIJUPp"
      },
      "source": [
        "np.random.seed(7)\n",
        "np.random.randn(5, 5)"
      ],
      "execution_count": null,
      "outputs": []
    },
    {
      "cell_type": "markdown",
      "metadata": {
        "id": "4TpTtNU8JVVp"
      },
      "source": [
        "randint"
      ]
    },
    {
      "cell_type": "code",
      "metadata": {
        "id": "G6LZ5d73Jag6"
      },
      "source": [
        "np.random.randint(1, 100)"
      ],
      "execution_count": null,
      "outputs": []
    },
    {
      "cell_type": "code",
      "metadata": {
        "id": "-mm1t52SJakC"
      },
      "source": [
        "np.random.randint(1, 100, 10)"
      ],
      "execution_count": null,
      "outputs": []
    },
    {
      "cell_type": "markdown",
      "metadata": {
        "id": "aO27CnB9JXAh"
      },
      "source": [
        "seed"
      ]
    },
    {
      "cell_type": "code",
      "metadata": {
        "id": "NQ7f734ZJgZc"
      },
      "source": [
        "np.random.seed(42)\n",
        "np.random.rand(4)"
      ],
      "execution_count": null,
      "outputs": []
    },
    {
      "cell_type": "code",
      "metadata": {
        "id": "9Srn16AcJgcD"
      },
      "source": [
        "np.random.seed(42)\n",
        "np.random.rand(4)"
      ],
      "execution_count": null,
      "outputs": []
    },
    {
      "cell_type": "markdown",
      "metadata": {
        "id": "NciJ2BGzJtKP"
      },
      "source": [
        "#### Array Attributes and Other Methods"
      ]
    },
    {
      "cell_type": "code",
      "metadata": {
        "id": "xlClx7nAJu9J"
      },
      "source": [
        "np_array = np.arange(25)\n",
        "np_random_array = np.random.randint(0, 50, 10)\n",
        "print(np_array)\n",
        "print(np_random_array)"
      ],
      "execution_count": null,
      "outputs": []
    },
    {
      "cell_type": "markdown",
      "metadata": {
        "id": "7MX0OZpFKchj"
      },
      "source": [
        "Reshape: Returns an array containing the same data with a new shape."
      ]
    },
    {
      "cell_type": "code",
      "metadata": {
        "id": "AFGedsS5K2oe"
      },
      "source": [
        "np_array.reshape(5, 5)"
      ],
      "execution_count": null,
      "outputs": []
    },
    {
      "cell_type": "markdown",
      "metadata": {
        "id": "HhYWB8lUKc-z"
      },
      "source": [
        "max, min, argmax, argmin: useful methods for finding max or min values. Or to find their index locations using argmin or argmax"
      ]
    },
    {
      "cell_type": "code",
      "metadata": {
        "id": "H0Y06MsoK4lu"
      },
      "source": [
        "np_random_array"
      ],
      "execution_count": null,
      "outputs": []
    },
    {
      "cell_type": "code",
      "metadata": {
        "id": "sL66orwWK8cs"
      },
      "source": [
        "np_random_array.max()"
      ],
      "execution_count": null,
      "outputs": []
    },
    {
      "cell_type": "code",
      "metadata": {
        "id": "SzXVuufbK8jM"
      },
      "source": [
        "np_random_array.argmax()"
      ],
      "execution_count": null,
      "outputs": []
    },
    {
      "cell_type": "code",
      "metadata": {
        "id": "TxZoXwmFK8ub"
      },
      "source": [
        "np_random_array.min()"
      ],
      "execution_count": null,
      "outputs": []
    },
    {
      "cell_type": "code",
      "metadata": {
        "id": "6Dl1NKqdLEKX"
      },
      "source": [
        "np_random_array.argmin()"
      ],
      "execution_count": null,
      "outputs": []
    },
    {
      "cell_type": "markdown",
      "metadata": {
        "id": "NHuBzNiUKdLM"
      },
      "source": [
        "Shape: Is an attribute that arrays have (not a method)"
      ]
    },
    {
      "cell_type": "code",
      "metadata": {
        "id": "r6nQaq6CKx45"
      },
      "source": [
        "# Vector\n",
        "np_array.shape"
      ],
      "execution_count": null,
      "outputs": []
    },
    {
      "cell_type": "code",
      "metadata": {
        "id": "WdlkmQ6CLHkX"
      },
      "source": [
        "# Notice the two sets of brackets\n",
        "np_array.reshape(1, 25)"
      ],
      "execution_count": null,
      "outputs": []
    },
    {
      "cell_type": "code",
      "metadata": {
        "id": "2bTcFJEtLHnH"
      },
      "source": [
        "np_array.reshape(1, 25).shape"
      ],
      "execution_count": null,
      "outputs": []
    },
    {
      "cell_type": "code",
      "metadata": {
        "id": "8yODcm0XLNg0"
      },
      "source": [
        "np_array.reshape(25, 1)"
      ],
      "execution_count": null,
      "outputs": []
    },
    {
      "cell_type": "code",
      "metadata": {
        "id": "qt9OWG6vLQkD"
      },
      "source": [
        "np_array.reshape(25, 1).shape"
      ],
      "execution_count": null,
      "outputs": []
    },
    {
      "cell_type": "markdown",
      "metadata": {
        "id": "LU-7FlwoKyU9"
      },
      "source": [
        "dtype: Grabs the data type of the object in the array"
      ]
    },
    {
      "cell_type": "code",
      "metadata": {
        "id": "xgsWsaQOLUqX"
      },
      "source": [
        "np_array.dtype"
      ],
      "execution_count": null,
      "outputs": []
    },
    {
      "cell_type": "code",
      "metadata": {
        "id": "JBUIOkrlLWpE"
      },
      "source": [
        "np_array = np.array([1.2, 3.4, 5.6])\n",
        "np_array.dtype"
      ],
      "execution_count": null,
      "outputs": []
    },
    {
      "cell_type": "code",
      "metadata": {
        "id": "bqvN4SGDyM8K"
      },
      "source": [
        ""
      ],
      "execution_count": null,
      "outputs": []
    },
    {
      "cell_type": "code",
      "metadata": {
        "id": "gYb57U95Mi7S"
      },
      "source": [
        ""
      ],
      "execution_count": null,
      "outputs": []
    }
  ]
}