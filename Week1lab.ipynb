{
  "nbformat": 4,
  "nbformat_minor": 0,
  "metadata": {
    "colab": {
      "name": "Week1lab.ipynb",
      "provenance": [],
      "authorship_tag": "ABX9TyP1SAZ/HJmABTljkKh5pEF9",
      "include_colab_link": true
    },
    "kernelspec": {
      "name": "python3",
      "display_name": "Python 3"
    },
    "language_info": {
      "name": "python"
    }
  },
  "cells": [
    {
      "cell_type": "markdown",
      "metadata": {
        "id": "view-in-github",
        "colab_type": "text"
      },
      "source": [
        "<a href=\"https://colab.research.google.com/github/pallavrouth/AI-Bootcamp/blob/main/Week1lab.ipynb\" target=\"_parent\"><img src=\"https://colab.research.google.com/assets/colab-badge.svg\" alt=\"Open In Colab\"/></a>"
      ]
    },
    {
      "cell_type": "markdown",
      "metadata": {
        "id": "y2wUOU4hZtBm"
      },
      "source": [
        "Example of defining a question"
      ]
    },
    {
      "cell_type": "code",
      "metadata": {
        "id": "BUajHikNuoiK"
      },
      "source": [
        "def ask_question():\n",
        "  # the following lines are indented to tell python that the codes\n",
        "  # below belong to the body of the function\n",
        "  # add an object question that appends a question mark to a string\n",
        "  question = \"but, why \" + \"??\" \n",
        "  # the function will then print the object question\n",
        "  print(question)"
      ],
      "execution_count": 12,
      "outputs": []
    },
    {
      "cell_type": "code",
      "metadata": {
        "colab": {
          "base_uri": "https://localhost:8080/"
        },
        "id": "Yij-phuY6lE1",
        "outputId": "27e247ac-48e6-45b9-f7e3-daadbed1b783"
      },
      "source": [
        "ask_question()"
      ],
      "execution_count": 19,
      "outputs": [
        {
          "output_type": "stream",
          "text": [
            "but, why ??Pallav\n"
          ],
          "name": "stdout"
        }
      ]
    },
    {
      "cell_type": "markdown",
      "metadata": {
        "id": "H0lR7ByrZ14U"
      },
      "source": [
        "Write a function with parameters. In the example below, the function ask question will take in any string and add question mark to it\n"
      ]
    },
    {
      "cell_type": "code",
      "metadata": {
        "id": "61isARUL6yPZ"
      },
      "source": [
        "def ask_question(strings):\n",
        "  question = strings + \"??\"\n",
        "  print(question)"
      ],
      "execution_count": 4,
      "outputs": []
    },
    {
      "cell_type": "code",
      "metadata": {
        "colab": {
          "base_uri": "https://localhost:8080/"
        },
        "id": "q2EzFEs66-WI",
        "outputId": "ef11045c-0cb5-41b9-f54f-36ef63eb3cb1"
      },
      "source": [
        "ask_question(\"when is dinner\")"
      ],
      "execution_count": 5,
      "outputs": [
        {
          "output_type": "stream",
          "text": [
            "when is dinner??\n"
          ],
          "name": "stdout"
        }
      ]
    },
    {
      "cell_type": "code",
      "metadata": {
        "colab": {
          "base_uri": "https://localhost:8080/"
        },
        "id": "zxwfoZnb7D_0",
        "outputId": "2b605e40-9f64-48ca-edd4-3e7f63e1bd9c"
      },
      "source": [
        "ask_question(\"what's for dinner\")"
      ],
      "execution_count": 6,
      "outputs": [
        {
          "output_type": "stream",
          "text": [
            "what's for dinner??\n"
          ],
          "name": "stdout"
        }
      ]
    },
    {
      "cell_type": "markdown",
      "metadata": {
        "id": "88op6-kdanZ_"
      },
      "source": [
        "Can't begin a question name with special characters (for example you cant have 123_question but you can end it with special characters. So question_123 is allowed."
      ]
    },
    {
      "cell_type": "code",
      "metadata": {
        "id": "n97o1U4p7cYF"
      },
      "source": [
        "def ask_question123():\n",
        "  question = \"but, why \" + \"??\"\n",
        "  print(question)"
      ],
      "execution_count": null,
      "outputs": []
    },
    {
      "cell_type": "markdown",
      "metadata": {
        "id": "URBtOL7ha33e"
      },
      "source": [
        "Use a set of ifelse command to figure out what you would eat after work depending on\n",
        "\n",
        "1.   The day of the week\n",
        "2.   The time of the day\n",
        "3.   Whether you're hungry or not\n",
        "\n"
      ]
    },
    {
      "cell_type": "code",
      "metadata": {
        "colab": {
          "base_uri": "https://localhost:8080/"
        },
        "id": "Tncbf9Ve_PRY",
        "outputId": "57e872f7-63bf-4eb2-f41c-6c6bd52ae56c"
      },
      "source": [
        "day_of_week = \"Tue\" # string\n",
        "time_of_day =  6  # integer\n",
        "very_hungry =  True  # logical\n",
        "\n",
        "# if Monday\n",
        "if day_of_week == \"Mon\":\n",
        "  # if before 7 : you eat salad\n",
        "  if time_of_day < 7:\n",
        "    if very_hungry == True:\n",
        "      print('make 2 portions of salad')\n",
        "    else :\n",
        "      print(\"make 1 portion of salad\")\n",
        "  # if after 7 : you eat sandwich\n",
        "  # note you can also replace elif with else\n",
        "  # because the only other remaining condition is \n",
        "  # after 7. Using elif to be more explicit \n",
        "  elif time_of_day >= 7:\n",
        "    if very_hungry == True:\n",
        "      print('get 2 spicy chicken sandwiches')\n",
        "    else :\n",
        "      print(\"get 1 spicy chicken sandwiches\")\n",
        "# if Tuesday. Pay attention to the indentation\n",
        "if day_of_week == \"Tue\":\n",
        "  if very_hungry == True:\n",
        "    print('get 2 tacos')\n",
        "  else :\n",
        "    print(\"get 1 taco\")"
      ],
      "execution_count": 23,
      "outputs": [
        {
          "output_type": "stream",
          "text": [
            "get 2 tacos\n"
          ],
          "name": "stdout"
        }
      ]
    },
    {
      "cell_type": "markdown",
      "metadata": {
        "id": "Hhg6oFj2buoT"
      },
      "source": [
        "While loops: run iterations until a condition is met. \n",
        "\n",
        "Example: While the temperature is above 70, print \"reduce the temperature\" and then reduce the temp by one degree."
      ]
    },
    {
      "cell_type": "code",
      "metadata": {
        "id": "EWnGcWspEy9o"
      },
      "source": [
        "# temp = 70\n",
        "# 68\n",
        "\n",
        "while temp < 70:\n",
        "  print(temp)\n",
        "  print('Its too hot. Please reduce the temp by 1 deg')\n",
        "  temp = temp - 1"
      ],
      "execution_count": null,
      "outputs": []
    },
    {
      "cell_type": "markdown",
      "metadata": {
        "id": "pz0BdGqccFSy"
      },
      "source": [
        "Using conditions with while loop. \n",
        "\n",
        "In this example, we run this while loop, depending on whether the current temperature is above or below the desired temperature of 70. If starting temp is above 70 then run a while loop to reduce the temp until it reaches 70. If below 70 then run a while loop to increase the temperature until it reaches 70."
      ]
    },
    {
      "cell_type": "code",
      "metadata": {
        "id": "eA5bICw6HpGs"
      },
      "source": [
        "if temp < 70:\n",
        "  while temp < 70:\n",
        "    print(temp)\n",
        "    print('Its too cold. Please increase the temp by 1 deg')\n",
        "    temp = temp + 1\n",
        "elif temp > 70:\n",
        "  while temp > 70:\n",
        "    print(temp)\n",
        "    print('Its too hot. Please reduce the temp by 1 deg')\n",
        "    temp = temp - 1"
      ],
      "execution_count": null,
      "outputs": []
    },
    {
      "cell_type": "markdown",
      "metadata": {
        "id": "Z0SsE8lfcnGo"
      },
      "source": [
        "Note: Perhaps, the while and if statements could be swapped. The codes might be more condensed. Another solution is to specify a 'starting temperature' and then kick off the two different while loops accordingly. "
      ]
    },
    {
      "cell_type": "markdown",
      "metadata": {
        "id": "r0a0TU0Ac9KE"
      },
      "source": [
        "How to import PDF and read it in python using the PyPDF2 library."
      ]
    },
    {
      "cell_type": "code",
      "metadata": {
        "id": "34MvhyYeETAA"
      },
      "source": [
        "# install the library\n",
        "!pip install PyPDF2"
      ],
      "execution_count": null,
      "outputs": []
    },
    {
      "cell_type": "code",
      "metadata": {
        "id": "ImrdKcexMRZs"
      },
      "source": [
        "# import it\n",
        "import PyPDF2"
      ],
      "execution_count": 36,
      "outputs": []
    },
    {
      "cell_type": "code",
      "metadata": {
        "id": "yrPFdFs7MZXJ"
      },
      "source": [
        "# read in the desired file in the desired format\n",
        "my_file = open('samplefile.pdf','rb')"
      ],
      "execution_count": 37,
      "outputs": []
    },
    {
      "cell_type": "code",
      "metadata": {
        "id": "8Mc85UGiMh-3"
      },
      "source": [
        "# need to create a object which reads the above file \n",
        "# necessary for using other functions\n",
        "my_pdf_obj = PyPDF2.PdfFileReader(my_file)"
      ],
      "execution_count": 38,
      "outputs": []
    },
    {
      "cell_type": "code",
      "metadata": {
        "colab": {
          "base_uri": "https://localhost:8080/"
        },
        "id": "UO30gzSaM0tQ",
        "outputId": "5e6be3b6-7c71-470f-dfb3-2b7b31e9193b"
      },
      "source": [
        "print(my_pdf_obj.numPages)\n",
        "# get the first page using the created pdf object\n",
        "first_page = my_pdf_obj.getPage(0)"
      ],
      "execution_count": 40,
      "outputs": [
        {
          "output_type": "stream",
          "text": [
            "4\n"
          ],
          "name": "stdout"
        }
      ]
    },
    {
      "cell_type": "code",
      "metadata": {
        "id": "LEGcnzfLNODX"
      },
      "source": [
        "# print the contents of the first page\n",
        "first_page.extractText()"
      ],
      "execution_count": null,
      "outputs": []
    }
  ]
}