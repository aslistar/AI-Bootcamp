{
  "nbformat": 4,
  "nbformat_minor": 0,
  "metadata": {
    "colab": {
      "name": "pandas.ipynb",
      "private_outputs": true,
      "provenance": [],
      "authorship_tag": "ABX9TyN3hEd1yn2lfRrB5gkbVzBq",
      "include_colab_link": true
    },
    "kernelspec": {
      "name": "python3",
      "display_name": "Python 3"
    },
    "language_info": {
      "name": "python"
    }
  },
  "cells": [
    {
      "cell_type": "markdown",
      "metadata": {
        "id": "view-in-github",
        "colab_type": "text"
      },
      "source": [
        "<a href=\"https://colab.research.google.com/github/pallavrouth/AI-Bootcamp/blob/main/pandas.ipynb\" target=\"_parent\"><img src=\"https://colab.research.google.com/assets/colab-badge.svg\" alt=\"Open In Colab\"/></a>"
      ]
    },
    {
      "cell_type": "code",
      "metadata": {
        "id": "Cr9eLdHChXKW"
      },
      "source": [
        "import pandas as pd"
      ],
      "execution_count": null,
      "outputs": []
    },
    {
      "cell_type": "code",
      "metadata": {
        "id": "oKo3nlR-lgii"
      },
      "source": [
        "cigarettes = pd.read_csv('https://raw.githubusercontent.com/pallavrouth/AI-Bootcamp/main/Data/cigarettes.csv')\n",
        "cigarettes.head()"
      ],
      "execution_count": null,
      "outputs": []
    },
    {
      "cell_type": "code",
      "metadata": {
        "id": "7h3cBLiol8lh"
      },
      "source": [
        "cigarettes = pd.read_csv('https://raw.githubusercontent.com/pallavrouth/AI-Bootcamp/main/Data/cigarettes.csv',\n",
        "                         index_col = 0)\n",
        "cigarettes.head()"
      ],
      "execution_count": null,
      "outputs": []
    },
    {
      "cell_type": "markdown",
      "metadata": {
        "id": "TerakWv4mptN"
      },
      "source": [
        "**Seleting columns**\n",
        "\n",
        "I like to use loc with double quotes.\n"
      ]
    },
    {
      "cell_type": "code",
      "metadata": {
        "id": "BUFWFw3gmo8-"
      },
      "source": [
        "# select state, population column\n",
        "# : does not require brackets\n",
        "cigarettes.loc[:,['state','population']].head()"
      ],
      "execution_count": null,
      "outputs": []
    },
    {
      "cell_type": "markdown",
      "metadata": {
        "id": "gH2VQPw_nE8U"
      },
      "source": [
        "**Indexing or slicing**\n",
        "\n",
        "I like to use loc here"
      ]
    },
    {
      "cell_type": "code",
      "metadata": {
        "id": "F0IVICFLmn8J"
      },
      "source": [
        "# no need for double brackets if selecting a range\n",
        "cigarettes.iloc[1:10,:]\n",
        "# use double brackets if selecting specific rows\n",
        "cigarettes.iloc[[1,2,4,6,10],:] "
      ],
      "execution_count": null,
      "outputs": []
    },
    {
      "cell_type": "markdown",
      "metadata": {
        "id": "9n8sACPVnsxZ"
      },
      "source": [
        "If you want to select and slice at the same time, I like to use iloc with double quotes. A tip here is to use the `get_loc` function to find the integer location of the column"
      ]
    },
    {
      "cell_type": "code",
      "metadata": {
        "id": "McnZ2BXensIu"
      },
      "source": [
        "cigarettes.columns.get_loc('population')"
      ],
      "execution_count": null,
      "outputs": []
    },
    {
      "cell_type": "markdown",
      "metadata": {
        "id": "iPcwRRBIokfD"
      },
      "source": [
        "**Filtering**\n",
        "\n",
        "I like to use loc here. Feels intuitive. Syntax is `data.loc[(condition),[cols]]`\n",
        "\n",
        "condition is specified as `data['col'] condition`"
      ]
    },
    {
      "cell_type": "code",
      "metadata": {
        "id": "H23tLPgzoi7P"
      },
      "source": [
        "# filter by state : AZ and AL\n",
        "cigarettes.loc[(cigarettes['state'] == \"AL\"),['state','population','income']]\n",
        "# using is in for multiple states\n",
        "cigarettes.loc[(cigarettes['state'].isin(['AL','AZ'])),['state','population','income']]\n",
        "# filter rows where tax is less than 25\n",
        "cigarettes.loc[(cigarettes['tax'] < 25),['state','tax']]\n",
        "# filter rows where tax is less than 30 and price greater than 100\n",
        "cigarettes.loc[(cigarettes['tax'] > 30) &\n",
        "               (cigarettes['price'] > 200),['state','tax','price']]"
      ],
      "execution_count": null,
      "outputs": []
    },
    {
      "cell_type": "code",
      "metadata": {
        "id": "mGW6iwQcrMV5"
      },
      "source": [
        "# you can chain locs together for multiple filters\n",
        "cigarettes.loc[(cigarettes['tax'] > 30),['state','tax','price']].loc[(cigarettes['price'] > 200),:]"
      ],
      "execution_count": null,
      "outputs": []
    },
    {
      "cell_type": "markdown",
      "metadata": {
        "id": "W-oVxcrDra1d"
      },
      "source": [
        "**Mutate**"
      ]
    },
    {
      "cell_type": "code",
      "metadata": {
        "id": "Lejr83sDrYVe"
      },
      "source": [
        "# find ratio of price to tax\n",
        "cigarettes.assign(ratio_tax = lambda x: x['price']/x['tax']).head()"
      ],
      "execution_count": null,
      "outputs": []
    },
    {
      "cell_type": "code",
      "metadata": {
        "id": "DV1fAdPtsAl6"
      },
      "source": [
        "# also define a function like this\n",
        "def find_ratio(x,y) : return x/y\n",
        "cigarettes.assign(ratio_tax = find_ratio(cigarettes['price'],cigarettes['tax'])).head()"
      ],
      "execution_count": null,
      "outputs": []
    },
    {
      "cell_type": "markdown",
      "metadata": {
        "id": "IA11bgPLs6gF"
      },
      "source": [
        "Possible to do this. But the changes are permanent. "
      ]
    },
    {
      "cell_type": "code",
      "metadata": {
        "id": "iB0kQhCWsoe2"
      },
      "source": [
        "#cigarettes['ratio_tax'] = cigarettes['price']/cigarettes['tax']\n",
        "#cigarettes"
      ],
      "execution_count": null,
      "outputs": []
    },
    {
      "cell_type": "markdown",
      "metadata": {
        "id": "5_fK9JZ1vR4l"
      },
      "source": [
        "**Arrange**"
      ]
    },
    {
      "cell_type": "code",
      "metadata": {
        "id": "zkgzEILw_2u2"
      },
      "source": [
        "# sort by prices\n",
        "cigarettes.sort_values('price',ascending = False).head()\n",
        "cigarettes.sort_values(['year','price']).head()"
      ],
      "execution_count": null,
      "outputs": []
    },
    {
      "cell_type": "markdown",
      "metadata": {
        "id": "TCha8s2GtDOm"
      },
      "source": [
        "**Group by operations**\n",
        "\n",
        "1. Group by and summarise - find means\n",
        "\n",
        "Note : loc or iloc does not work with group by. So, you need to use simple `[[]]` to get a column"
      ]
    },
    {
      "cell_type": "code",
      "metadata": {
        "id": "xJXDsZKatCy3"
      },
      "source": [
        "# group by state and find mean price\n",
        "cigarettes.groupby('state')['price'].mean()\n",
        "# group by state and year and find mean price - use double brackets\n",
        "cigarettes.groupby(['state','year'])[['price']].mean().head()"
      ],
      "execution_count": null,
      "outputs": []
    },
    {
      "cell_type": "markdown",
      "metadata": {
        "id": "Hm3kaOIlwWBF"
      },
      "source": [
        "Similarly we have `count()`,`sum()` and many others - \n",
        "https://pandas.pydata.org/docs/reference/api/pandas.core.groupby.GroupBy.apply.html"
      ]
    },
    {
      "cell_type": "markdown",
      "metadata": {
        "id": "DnGMjjB5BGfj"
      },
      "source": [
        "2. Group by and arrange"
      ]
    },
    {
      "cell_type": "code",
      "metadata": {
        "id": "RvGqZrG3BJ4_"
      },
      "source": [
        "cigarettes.groupby('state').apply(lambda x : x['price'].sort_values())"
      ],
      "execution_count": null,
      "outputs": []
    },
    {
      "cell_type": "markdown",
      "metadata": {
        "id": "MYRoVy-AvWC6"
      },
      "source": [
        "3. Group by and mutate"
      ]
    },
    {
      "cell_type": "code",
      "metadata": {
        "id": "V20QO0fUvVko"
      },
      "source": [
        "# group by year and find the proportion of packs sold by every state\n",
        "# lambda x where x is the group\n",
        "cigarettes.groupby('year').apply(lambda x : x['packs']/x['packs'].sum())"
      ],
      "execution_count": null,
      "outputs": []
    },
    {
      "cell_type": "markdown",
      "metadata": {
        "id": "b6gxXjA_-V5v"
      },
      "source": [
        "The above method is the fastest. Cigarettes group by creates a data frame. Then I use apply function to a specific column in the data frame. Note that assign does not work on grouped data. \n",
        "\n",
        "To keep the whole data intact, you have to do this - use transform/apply on grouped data (not apply) to keep the original data structure intact. And then you have to pass this to the assign function"
      ]
    },
    {
      "cell_type": "code",
      "metadata": {
        "id": "PFV9ArhY4hLo"
      },
      "source": [
        "# using sum or apply returns the summarised data which cannot be utilized within assign later on\n",
        "cigarettes.groupby('year')['packs'].sum()\n",
        "# use transform or apply for that\n",
        "cigarettes.groupby('year').apply(lambda x : x['packs']/x['packs'].sum())\n",
        "cigarettes.groupby('year')['packs'].transform(lambda x: x.sum())\n",
        "cigarettes.groupby('year')[['packs']].transform(lambda x : x.sum())\n",
        "\n",
        "# use this inside assign\n",
        "cigarettes.assign(sum_packs = cigarettes.groupby('year')[['packs']].transform(lambda x : x.sum()))\n",
        "\n",
        "# complete function\n",
        "cigarettes.assign(sum_packs = cigarettes.groupby('year')[['packs']].transform(lambda x : x.sum()),\n",
        "                  prop_packs = lambda x : x['packs']/x['sum_packs'])"
      ],
      "execution_count": null,
      "outputs": []
    }
  ]
}