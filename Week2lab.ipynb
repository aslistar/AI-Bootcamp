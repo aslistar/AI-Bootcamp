{
  "nbformat": 4,
  "nbformat_minor": 0,
  "metadata": {
    "colab": {
      "name": "Week2lab.ipynb",
      "provenance": [],
      "authorship_tag": "ABX9TyMkoBah7VMXdZtwBmJCIo5s",
      "include_colab_link": true
    },
    "kernelspec": {
      "name": "python3",
      "display_name": "Python 3"
    },
    "language_info": {
      "name": "python"
    }
  },
  "cells": [
    {
      "cell_type": "markdown",
      "metadata": {
        "id": "view-in-github",
        "colab_type": "text"
      },
      "source": [
        "<a href=\"https://colab.research.google.com/github/pallavrouth/AI-Bootcamp/blob/main/Week2lab.ipynb\" target=\"_parent\"><img src=\"https://colab.research.google.com/assets/colab-badge.svg\" alt=\"Open In Colab\"/></a>"
      ]
    },
    {
      "cell_type": "markdown",
      "metadata": {
        "id": "8qm_nwA0yb0F"
      },
      "source": [
        "# Monday"
      ]
    },
    {
      "cell_type": "code",
      "metadata": {
        "id": "Il6eOiQeyZHq"
      },
      "source": [
        "# a list of prices\n",
        "prices = [1200,100,600,50,30]"
      ],
      "execution_count": 2,
      "outputs": []
    },
    {
      "cell_type": "code",
      "metadata": {
        "id": "4lgcgGMqK88G"
      },
      "source": [
        "# task : print these prices\n",
        "for i in prices:\n",
        "  print(i)"
      ],
      "execution_count": null,
      "outputs": []
    },
    {
      "cell_type": "code",
      "metadata": {
        "id": "RsWA3OwcMNDW"
      },
      "source": [
        "# use a meaningful name to refer to each element in the list\n",
        "for price in prices:\n",
        "  print(price)"
      ],
      "execution_count": null,
      "outputs": []
    },
    {
      "cell_type": "code",
      "metadata": {
        "id": "aM5u6U9zNNSv",
        "colab": {
          "base_uri": "https://localhost:8080/"
        },
        "outputId": "3854f1a8-47e5-4e30-8d70-bae63003e20a"
      },
      "source": [
        "# task 2 : assign whether or not each item is costly\n",
        "# and then store it instead of printing\n",
        "\n",
        "# a empty list where you will store the information\n",
        "output = []\n",
        "\n",
        "for price in prices:\n",
        "  # pay attention to the indentation here\n",
        "  # if else for whether or not a price is costly\n",
        "  if price > 100:\n",
        "    result = \"expensive\"\n",
        "    # append this information to output list\n",
        "    output.append(result)\n",
        "  else :\n",
        "    result = \"cheap\"\n",
        "    output.append(result)\n",
        "\n",
        "print(output)"
      ],
      "execution_count": 3,
      "outputs": [
        {
          "output_type": "stream",
          "text": [
            "['expensive', 'cheap', 'expensive', 'cheap', 'cheap']\n"
          ],
          "name": "stdout"
        }
      ]
    },
    {
      "cell_type": "code",
      "metadata": {
        "id": "FIwfoifrPur1"
      },
      "source": [
        "# Instead of the simple output above, I want something more meaningful/detailed\n",
        "# the output should return a tuple with the item name, item price and whether or \n",
        "# not it is expensive\n",
        "meaningful_output = [('laptop',1200,'expensive'),\n",
        "                     ('monitor',100,'cheap'),\n",
        "                     ('phone',600,'expensive'),\n",
        "                     ('keyboard',50,'cheap'),\n",
        "                     ('mouse',30,'cheap')]"
      ],
      "execution_count": 4,
      "outputs": []
    },
    {
      "cell_type": "code",
      "metadata": {
        "id": "ercwKuxIQUKl"
      },
      "source": [
        "# a empty list where you will store the information\n",
        "meaninful_output2 = []\n",
        "\n",
        "for price in prices:\n",
        "  if price > 100:\n",
        "    # create a tuple with item price and whether or not expensive\n",
        "    result = (price,\"expensive\")\n",
        "    # append this information to meaningful output list\n",
        "    meaninful_output2.append(result)\n",
        "  else :\n",
        "    result = (price,\"cheap\")\n",
        "    meaninful_output2.append(result)"
      ],
      "execution_count": 5,
      "outputs": []
    },
    {
      "cell_type": "code",
      "metadata": {
        "colab": {
          "base_uri": "https://localhost:8080/"
        },
        "id": "YZhEoxYnQ5ql",
        "outputId": "cfa37417-e7e7-4ed4-8650-eace286210aa"
      },
      "source": [
        "print(meaninful_output2)"
      ],
      "execution_count": 6,
      "outputs": [
        {
          "output_type": "stream",
          "text": [
            "[(1200, 'expensive'), (100, 'cheap'), (600, 'expensive'), (50, 'cheap'), (30, 'cheap')]\n"
          ],
          "name": "stdout"
        }
      ]
    },
    {
      "cell_type": "code",
      "metadata": {
        "id": "5EjDjyPQRCnk",
        "colab": {
          "base_uri": "https://localhost:8080/",
          "height": 37
        },
        "outputId": "eaa576d5-f066-4133-e16c-b5ec39ff3dd1"
      },
      "source": [
        "# But how do we add the item name for each corresponding prices\n",
        "prices = [1200,100,600,50,30]\n",
        "room_items = ['laptop','monitor','phone','keyboard','mouse']\n",
        "# This can be done by accessing the index/positions of the price list.\n",
        "# I can use the index of price list to look up the items\n",
        "# So price of 1200 has an index/position of 0. room_items[0] gives us 'laptop'\n",
        "room_items[0]"
      ],
      "execution_count": 7,
      "outputs": [
        {
          "output_type": "execute_result",
          "data": {
            "application/vnd.google.colaboratory.intrinsic+json": {
              "type": "string"
            },
            "text/plain": [
              "'laptop'"
            ]
          },
          "metadata": {},
          "execution_count": 7
        }
      ]
    },
    {
      "cell_type": "code",
      "metadata": {
        "colab": {
          "base_uri": "https://localhost:8080/"
        },
        "id": "qHEKdmaeS3jA",
        "outputId": "9c7eb0b1-c176-4090-c115-18466a960f31"
      },
      "source": [
        "# to see how this works \n",
        "# print out the index of \n",
        "# each price in prices list\n",
        "# also you have to use enumerate now\n",
        "# pay attention to the for statement\n",
        "# it follows this general syntax\n",
        "# for index,item in enumerate(list_name)\n",
        "for position,i in enumerate(prices):\n",
        "  print(position,i)"
      ],
      "execution_count": null,
      "outputs": [
        {
          "output_type": "stream",
          "text": [
            "0 1200\n",
            "1 100\n",
            "2 600\n",
            "3 50\n",
            "4 30\n"
          ],
          "name": "stdout"
        }
      ]
    },
    {
      "cell_type": "code",
      "metadata": {
        "id": "UAi2BzTXRNXH",
        "colab": {
          "base_uri": "https://localhost:8080/"
        },
        "outputId": "96bfcae3-7d61-4382-ebb7-7a9de42c7751"
      },
      "source": [
        "# now use the above tool to add item name information\n",
        "meaninful_output2 = []\n",
        "\n",
        "for position,price in enumerate(prices):\n",
        "  if price > 100:\n",
        "    # I am accessing item name using the position/index information\n",
        "    item = room_items[position]\n",
        "    # saving all of that in a tuple\n",
        "    result = (item,price,\"expensive\")\n",
        "    # append this information to meaningful output list\n",
        "    meaninful_output2.append(result)\n",
        "  else :\n",
        "    item = room_items[position]\n",
        "    result = (item,price,\"cheap\")\n",
        "    meaninful_output2.append(result)\n",
        "\n",
        "meaninful_output2"
      ],
      "execution_count": 8,
      "outputs": [
        {
          "output_type": "execute_result",
          "data": {
            "text/plain": [
              "[('laptop', 1200, 'expensive'),\n",
              " ('monitor', 100, 'cheap'),\n",
              " ('phone', 600, 'expensive'),\n",
              " ('keyboard', 50, 'cheap'),\n",
              " ('mouse', 30, 'cheap')]"
            ]
          },
          "metadata": {},
          "execution_count": 8
        }
      ]
    },
    {
      "cell_type": "code",
      "metadata": {
        "colab": {
          "base_uri": "https://localhost:8080/"
        },
        "id": "y9tAa5rBVMvp",
        "outputId": "df8f1d80-4846-4e60-d227-ba7d2f55960b"
      },
      "source": [
        "meaninful_output2 = []\n",
        "\n",
        "for position,price in enumerate(prices):\n",
        "  if price > 100:\n",
        "    # I am accessing item name using the position/index information\n",
        "    item = room_items[position]\n",
        "    price_dollar = '$' + str(price)\n",
        "    # saving all of that in a tuple\n",
        "    result = (item,price_dollar,\"expensive\")\n",
        "    # append this information to meaningful output list\n",
        "    meaninful_output2.append(result)\n",
        "  else :\n",
        "    item = room_items[position]\n",
        "    price_dollar = '$' + str(price)\n",
        "    result = (item,price_dollar,\"cheap\")\n",
        "    meaninful_output2.append(result)\n",
        "\n",
        "print(meaninful_output2)"
      ],
      "execution_count": 11,
      "outputs": [
        {
          "output_type": "stream",
          "text": [
            "[('laptop', '$1200', 'expensive'), ('monitor', '$100', 'cheap'), ('phone', '$600', 'expensive'), ('keyboard', '$50', 'cheap'), ('mouse', '$30', 'cheap')]\n"
          ],
          "name": "stdout"
        }
      ]
    },
    {
      "cell_type": "markdown",
      "metadata": {
        "id": "pa-1rR8_3aZC"
      },
      "source": [
        "Exercise on function"
      ]
    },
    {
      "cell_type": "code",
      "metadata": {
        "id": "SVsD7bJQW9nf"
      },
      "source": [
        "famous_quotes = [\"The greatest glory in living lies not in never falling, but in rising every time we fall.\",\n",
        "                 \"The way to get started is to quit talking and begin doing.\",\n",
        "                 \"If life were predictable it would cease to be life, and be without flavor.\",\n",
        "                 \"If you look at what you have in life, you'll always have more. If you look at what you don't have in life, you'll never have enough.\",\n",
        "                 \"If you set your goals ridiculously high and it's a failure, you will fail above everyone else's success.\"]"
      ],
      "execution_count": 12,
      "outputs": []
    },
    {
      "cell_type": "code",
      "metadata": {
        "colab": {
          "base_uri": "https://localhost:8080/",
          "height": 37
        },
        "id": "Jse55S1eXJdN",
        "outputId": "21bc3b1b-5c64-4c53-a4db-e9d1d0218c66"
      },
      "source": [
        "# how do I calculate the number of words\n",
        "# for each sentence above\n",
        "# input - sentence/quote\n",
        "example = famous_quotes[0]\n",
        "example\n",
        "# I split by white space\n",
        "my_list = example.split(' ')\n",
        "# Count the number of words after \n",
        "# splitting using len\n",
        "len(my_list)"
      ],
      "execution_count": 13,
      "outputs": [
        {
          "output_type": "execute_result",
          "data": {
            "application/vnd.google.colaboratory.intrinsic+json": {
              "type": "string"
            },
            "text/plain": [
              "'The greatest glory in living lies not in never falling, but in rising every time we fall.'"
            ]
          },
          "metadata": {},
          "execution_count": 13
        }
      ]
    },
    {
      "cell_type": "code",
      "metadata": {
        "id": "L9cwHnwyYQJO"
      },
      "source": [
        "# Incorporate above logic in a function\n",
        "def word_counter(sentence):\n",
        "  all_words = sentence.split(' ')\n",
        "  length_sentence = len(all_words)\n",
        "  return length_sentence"
      ],
      "execution_count": null,
      "outputs": []
    },
    {
      "cell_type": "code",
      "metadata": {
        "colab": {
          "base_uri": "https://localhost:8080/"
        },
        "id": "VifqTTv-Ytxo",
        "outputId": "4f6b85ac-55da-4c9e-aebc-6a8dbf0bf9cb"
      },
      "source": [
        "# test it on a function\n",
        "word_counter(famous_quotes[0])"
      ],
      "execution_count": null,
      "outputs": [
        {
          "output_type": "execute_result",
          "data": {
            "text/plain": [
              "27"
            ]
          },
          "metadata": {},
          "execution_count": 27
        }
      ]
    },
    {
      "cell_type": "code",
      "metadata": {
        "id": "gRBYP4_3ZKpD"
      },
      "source": [
        "# simply write a for loop to \n",
        "# apply your function to all \n",
        "# famous quotes\n",
        "for i in famous_quotes:\n",
        "  print(word_counter(i))"
      ],
      "execution_count": null,
      "outputs": []
    },
    {
      "cell_type": "code",
      "metadata": {
        "id": "Pe4gca-7Z4ti"
      },
      "source": [
        "# task 2 : for every quote assign \n",
        "# whether or not the quote is\n",
        "# too short or too long\n",
        "def word_counter(sentence):\n",
        "  all_words = sentence.split(' ')\n",
        "  length_sentence = len(all_words)\n",
        "  if length_sentence < 15 :\n",
        "    return 'short quote'\n",
        "  else :\n",
        "    return 'too long to memorise'"
      ],
      "execution_count": null,
      "outputs": []
    },
    {
      "cell_type": "code",
      "metadata": {
        "colab": {
          "base_uri": "https://localhost:8080/"
        },
        "id": "7ZRtlWdiaOtH",
        "outputId": "df5e48dc-5bf0-49ad-f441-9c4b3c9f6ce3"
      },
      "source": [
        "# again print this\n",
        "for i in famous_quotes:\n",
        "  print(word_counter(i))"
      ],
      "execution_count": null,
      "outputs": [
        {
          "output_type": "stream",
          "text": [
            "too long to memorise\n",
            "short quote\n",
            "short quote\n",
            "too long to memorise\n",
            "too long to memorise\n"
          ],
          "name": "stdout"
        }
      ]
    },
    {
      "cell_type": "code",
      "metadata": {
        "id": "qtlOpPDEaVCM"
      },
      "source": [
        "# we can re program our function to include \n",
        "# what threshold we want by using an additional\n",
        "# argument called threshold\n",
        "def word_counter(sentence,threshold):\n",
        "  all_words = sentence.split(' ')\n",
        "  length_sentence = len(all_words)\n",
        "  if length_sentence < threshold :\n",
        "    return 'short quote'\n",
        "  else :\n",
        "    return 'too long to memorise'"
      ],
      "execution_count": 14,
      "outputs": []
    },
    {
      "cell_type": "code",
      "metadata": {
        "colab": {
          "base_uri": "https://localhost:8080/"
        },
        "id": "r80CFsgkae_x",
        "outputId": "c0a68e69-0c90-4284-a6ec-d6da6262781b"
      },
      "source": [
        "# dont forget to now use the second argument \n",
        "# threshold every time you call the function\n",
        "word_counter(sentence = famous_quotes[3],threshold = 30)\n",
        "\n",
        "# apply this function to all quotes with threshold set to 15\n",
        "for i in famous_quotes:\n",
        "  print(word_counter(i,15))"
      ],
      "execution_count": 15,
      "outputs": [
        {
          "output_type": "stream",
          "text": [
            "too long to memorise\n",
            "short quote\n",
            "short quote\n",
            "too long to memorise\n",
            "too long to memorise\n"
          ],
          "name": "stdout"
        }
      ]
    },
    {
      "cell_type": "code",
      "metadata": {
        "colab": {
          "base_uri": "https://localhost:8080/"
        },
        "id": "KycnrokUbZU6",
        "outputId": "6a7001bc-01bb-493f-b3e9-a50e2af927b3"
      },
      "source": [
        "# apply this function to all quotes with threshold set to 20\n",
        "for i in famous_quotes:\n",
        "  print(word_counter(i,20))"
      ],
      "execution_count": null,
      "outputs": [
        {
          "output_type": "stream",
          "text": [
            "short quote\n",
            "short quote\n",
            "short quote\n",
            "too long to memorise\n",
            "short quote\n"
          ],
          "name": "stdout"
        }
      ]
    },
    {
      "cell_type": "code",
      "metadata": {
        "id": "e5lnnR5HcHLO"
      },
      "source": [
        "# instead of printing let save the output to a \n",
        "# list. Gives us the chance to save more\n",
        "# detailed output which we can use later\n",
        "# Save this output in a list. but we can use\n",
        "# tuples instead\n",
        "def word_counter(sentence,threshold):\n",
        "  all_words = sentence.split(' ')\n",
        "  length_sentence = len(all_words)\n",
        "  if length_sentence < threshold :\n",
        "    # return a list with the quot and\n",
        "    # whether or not its long or short\n",
        "    return [sentence,'short quote']\n",
        "  else :\n",
        "    return [sentence,'too long to memorise']"
      ],
      "execution_count": 23,
      "outputs": []
    },
    {
      "cell_type": "code",
      "metadata": {
        "id": "L3QZh_JHdYfz",
        "colab": {
          "base_uri": "https://localhost:8080/"
        },
        "outputId": "48417cc0-edac-4cb5-b788-d3a320b8785a"
      },
      "source": [
        "# to apply this over all the items\n",
        "# again create an empty list\n",
        "# and then loop over the quotes\n",
        "all_lengths = []\n",
        "\n",
        "for i in famous_quotes:\n",
        "  result = word_counter(i,15)\n",
        "  all_lengths.append(result)\n",
        "\n",
        "all_lengths"
      ],
      "execution_count": 24,
      "outputs": [
        {
          "output_type": "execute_result",
          "data": {
            "text/plain": [
              "[['The greatest glory in living lies not in never falling, but in rising every time we fall.',\n",
              "  'too long to memorise'],\n",
              " ['The way to get started is to quit talking and begin doing.', 'short quote'],\n",
              " ['If life were predictable it would cease to be life, and be without flavor.',\n",
              "  'short quote'],\n",
              " [\"If you look at what you have in life, you'll always have more. If you look at what you don't have in life, you'll never have enough.\",\n",
              "  'too long to memorise'],\n",
              " [\"If you set your goals ridiculously high and it's a failure, you will fail above everyone else's success.\",\n",
              "  'too long to memorise']]"
            ]
          },
          "metadata": {},
          "execution_count": 24
        }
      ]
    },
    {
      "cell_type": "code",
      "metadata": {
        "colab": {
          "base_uri": "https://localhost:8080/"
        },
        "id": "ORFfdKBafRYu",
        "outputId": "a76c783d-d1f5-4a9d-b542-f2f285f0b033"
      },
      "source": [
        "# what if you wanted to add more information as you\n",
        "# loop over each quote and apply the function?\n",
        "# you can use an input function and take the result \n",
        "# of that input and then add it to a list\n",
        "# again create an empty list to store the information\n",
        "all_output_with_input = []\n",
        "\n",
        "# loop over to apply the function\n",
        "for i in famous_quotes:\n",
        "  print(i)\n",
        "  agree = input('Do you agree with this quote?')\n",
        "  result = word_counter(i,15)\n",
        "  info = (agree,result)\n",
        "  all_output_with_input.append(info)\n",
        "  "
      ],
      "execution_count": 25,
      "outputs": [
        {
          "output_type": "stream",
          "text": [
            "The greatest glory in living lies not in never falling, but in rising every time we fall.\n",
            "Do you agree with this quote?yes\n",
            "The way to get started is to quit talking and begin doing.\n",
            "Do you agree with this quote?yes\n",
            "If life were predictable it would cease to be life, and be without flavor.\n",
            "Do you agree with this quote?tes\n",
            "If you look at what you have in life, you'll always have more. If you look at what you don't have in life, you'll never have enough.\n",
            "Do you agree with this quote?no\n",
            "If you set your goals ridiculously high and it's a failure, you will fail above everyone else's success.\n",
            "Do you agree with this quote?no\n"
          ],
          "name": "stdout"
        }
      ]
    },
    {
      "cell_type": "code",
      "metadata": {
        "colab": {
          "base_uri": "https://localhost:8080/"
        },
        "id": "oosQK--TgTPV",
        "outputId": "38a0f187-2389-4281-88e2-09de5a294cf8"
      },
      "source": [
        "all_output_with_input"
      ],
      "execution_count": 26,
      "outputs": [
        {
          "output_type": "execute_result",
          "data": {
            "text/plain": [
              "[('yes',\n",
              "  ['The greatest glory in living lies not in never falling, but in rising every time we fall.',\n",
              "   'too long to memorise']),\n",
              " ('yes',\n",
              "  ['The way to get started is to quit talking and begin doing.',\n",
              "   'short quote']),\n",
              " ('tes',\n",
              "  ['If life were predictable it would cease to be life, and be without flavor.',\n",
              "   'short quote']),\n",
              " ('no',\n",
              "  [\"If you look at what you have in life, you'll always have more. If you look at what you don't have in life, you'll never have enough.\",\n",
              "   'too long to memorise']),\n",
              " ('no',\n",
              "  [\"If you set your goals ridiculously high and it's a failure, you will fail above everyone else's success.\",\n",
              "   'too long to memorise'])]"
            ]
          },
          "metadata": {},
          "execution_count": 26
        }
      ]
    }
  ]
}