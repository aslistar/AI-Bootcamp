{
  "nbformat": 4,
  "nbformat_minor": 0,
  "metadata": {
    "colab": {
      "name": "plotting.ipynb",
      "private_outputs": true,
      "provenance": [],
      "authorship_tag": "ABX9TyPwcQGTImrv+pSk6T2vgTRU",
      "include_colab_link": true
    },
    "kernelspec": {
      "name": "python3",
      "display_name": "Python 3"
    },
    "language_info": {
      "name": "python"
    }
  },
  "cells": [
    {
      "cell_type": "markdown",
      "metadata": {
        "id": "view-in-github",
        "colab_type": "text"
      },
      "source": [
        "<a href=\"https://colab.research.google.com/github/pallavrouth/AI-Bootcamp/blob/main/plotting.ipynb\" target=\"_parent\"><img src=\"https://colab.research.google.com/assets/colab-badge.svg\" alt=\"Open In Colab\"/></a>"
      ]
    },
    {
      "cell_type": "markdown",
      "metadata": {
        "id": "ob-phEiZj0tS"
      },
      "source": [
        "# Matplotlib"
      ]
    },
    {
      "cell_type": "code",
      "metadata": {
        "id": "FMO7eF0PI88T"
      },
      "source": [
        "import pandas as pd\n",
        "cigarettes = pd.read_csv('https://raw.githubusercontent.com/pallavrouth/AI-Bootcamp/main/Data/cigarettes.csv',\n",
        "                         index_col = 0)\n",
        "cigarettes.head()"
      ],
      "execution_count": null,
      "outputs": []
    },
    {
      "cell_type": "code",
      "metadata": {
        "id": "rxpSOQ5QJW49"
      },
      "source": [
        "import matplotlib.pyplot as plt"
      ],
      "execution_count": null,
      "outputs": []
    },
    {
      "cell_type": "markdown",
      "metadata": {
        "id": "YiYm-IUbJapw"
      },
      "source": [
        "1. Histograms"
      ]
    },
    {
      "cell_type": "code",
      "metadata": {
        "id": "oQNYtnEzJdLq"
      },
      "source": [
        "plt.hist(x = cigarettes['income'])\n",
        "plt.show()"
      ],
      "execution_count": null,
      "outputs": []
    },
    {
      "cell_type": "markdown",
      "metadata": {
        "id": "h2xmvUQVYnZf"
      },
      "source": [
        "In order to plot 'by groups' you need to first pivot. The syntax for pivot takes in a index first. This can be anything unimportant. Then a column and what values are going to be filled in. Then matplotlib plots each column values one by one"
      ]
    },
    {
      "cell_type": "code",
      "metadata": {
        "id": "ptWlubpWXwl-"
      },
      "source": [
        "cigarettes.pivot(index = 'state', columns = 'year', values = 'income').head()"
      ],
      "execution_count": null,
      "outputs": []
    },
    {
      "cell_type": "code",
      "metadata": {
        "id": "pkJoIez1YSal"
      },
      "source": [
        "cigarettes.pivot(index = 'state', columns = 'year', values = 'income').plot.hist(bins = 25)"
      ],
      "execution_count": null,
      "outputs": []
    },
    {
      "cell_type": "markdown",
      "metadata": {
        "id": "2HMfvsS1RL7V"
      },
      "source": [
        "2. Bar plot"
      ]
    },
    {
      "cell_type": "code",
      "metadata": {
        "id": "qBadAaDwRKs8"
      },
      "source": [
        "packs_by_state = cigarettes.groupby('state',as_index = False)[['packs']].sum().head(n = 10).sort_values('packs')\n",
        "plt.bar(x = packs_by_state['state'], height = packs_by_state['packs'])\n",
        "plt.show()"
      ],
      "execution_count": null,
      "outputs": []
    },
    {
      "cell_type": "code",
      "metadata": {
        "id": "hXc6reimi48l"
      },
      "source": [
        "packs_by_state = cigarettes.groupby(['state','year'],as_index = False)[['packs']].sum()\n",
        "plot_data = packs_by_state.loc[(packs_by_state['state'].isin(['AZ','AL','TX','FL','WI']))]\n",
        "plot_data.pivot('state','year','packs').plot.bar()"
      ],
      "execution_count": null,
      "outputs": []
    },
    {
      "cell_type": "code",
      "metadata": {
        "id": "GsWbOVmgtGK8"
      },
      "source": [
        "plot_data[plot_data['year'] == 1985]"
      ],
      "execution_count": null,
      "outputs": []
    },
    {
      "cell_type": "markdown",
      "metadata": {
        "id": "wVQSyUn7ZRQT"
      },
      "source": [
        "Scatter plot"
      ]
    },
    {
      "cell_type": "code",
      "metadata": {
        "id": "wUDvLf6hZQ0g"
      },
      "source": [
        "plt.scatter(x = cigarettes['price'], y = cigarettes['tax'])"
      ],
      "execution_count": null,
      "outputs": []
    },
    {
      "cell_type": "markdown",
      "metadata": {
        "id": "VSb0MtradYZv"
      },
      "source": [
        "#Seaborn"
      ]
    },
    {
      "cell_type": "code",
      "metadata": {
        "id": "WDRQSPRbdffl"
      },
      "source": [
        "import seaborn as sbn\n",
        "sbn.set_theme(style = 'darkgrid')"
      ],
      "execution_count": null,
      "outputs": []
    },
    {
      "cell_type": "markdown",
      "metadata": {
        "id": "RjIOVgh6gUA2"
      },
      "source": [
        "Scatter plot by group"
      ]
    },
    {
      "cell_type": "code",
      "metadata": {
        "id": "iDaAVzL4dfZ9"
      },
      "source": [
        "sbn.scatterplot('price','tax',data = cigarettes,hue = 'year')"
      ],
      "execution_count": null,
      "outputs": []
    },
    {
      "cell_type": "markdown",
      "metadata": {
        "id": "qILiYyiegWxT"
      },
      "source": [
        "Histogram by group"
      ]
    },
    {
      "cell_type": "code",
      "metadata": {
        "id": "iLlinulLd9DI"
      },
      "source": [
        "sbn.displot(cigarettes,x = 'price')\n",
        "#sbn.displot(cigarettes,x = 'price', hue = 'year')\n",
        "#sbn.histplot(cigarettes,x = 'price', hue = 'year')"
      ],
      "execution_count": null,
      "outputs": []
    },
    {
      "cell_type": "markdown",
      "metadata": {
        "id": "6Vy9N2Kugd1w"
      },
      "source": [
        "Bar plot by group"
      ]
    },
    {
      "cell_type": "code",
      "metadata": {
        "id": "FB8PThCZgdQJ"
      },
      "source": [
        "titanic = sbn.load_dataset(\"titanic\")\n",
        "sbn.catplot(x=\"sex\", y=\"survived\", hue=\"class\", kind=\"bar\", data=titanic)"
      ],
      "execution_count": null,
      "outputs": []
    },
    {
      "cell_type": "markdown",
      "metadata": {
        "id": "AFn7OVT3gaAj"
      },
      "source": [
        "Line plot by group"
      ]
    },
    {
      "cell_type": "code",
      "metadata": {
        "id": "HYN55JKyhOUc"
      },
      "source": [
        "fmri = sbn.load_dataset(\"fmri\")\n",
        "fmri.head()\n",
        "fmri_ts = fmri.groupby('timepoint', as_index = False)[['signal']].mean()\n",
        "fmri_ts"
      ],
      "execution_count": null,
      "outputs": []
    },
    {
      "cell_type": "code",
      "metadata": {
        "id": "jugq4V1UfuP1"
      },
      "source": [
        "#sbn.scatterplot(data = fmri, x = 'timepoint', y = 'signal')\n",
        "sbn.lineplot(data = fmri_ts,x = 'timepoint',y = 'signal')"
      ],
      "execution_count": null,
      "outputs": []
    },
    {
      "cell_type": "code",
      "metadata": {
        "id": "Z4Hznc2Yg_om"
      },
      "source": [
        "fmri_ts_grp = fmri.groupby(['timepoint','event'],as_index = False)[['signal']].mean()\n",
        "fmri_ts_grp\n",
        "sbn.lineplot(data = fmri_ts_grp,x = 'timepoint',y = 'signal', hue = 'event')"
      ],
      "execution_count": null,
      "outputs": []
    },
    {
      "cell_type": "markdown",
      "metadata": {
        "id": "_-72rwykk9f3"
      },
      "source": [
        "# Facets"
      ]
    },
    {
      "cell_type": "code",
      "metadata": {
        "id": "tus3Bl6mk8sh"
      },
      "source": [
        "cigarettes_filter = cigarettes[cigarettes['state'].isin(['FL','AL','AZ'])]\n",
        "sbn.relplot('price','tax',data = cigarettes_filter,hue = 'year', col = 'state')"
      ],
      "execution_count": null,
      "outputs": []
    }
  ]
}