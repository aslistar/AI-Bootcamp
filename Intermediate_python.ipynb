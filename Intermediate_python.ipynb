{
  "nbformat": 4,
  "nbformat_minor": 0,
  "metadata": {
    "colab": {
      "name": "Intermediate python.ipynb",
      "provenance": [],
      "collapsed_sections": [],
      "authorship_tag": "ABX9TyOaeNnIiTJYtONyrMDhKFsp",
      "include_colab_link": true
    },
    "kernelspec": {
      "name": "python3",
      "display_name": "Python 3"
    },
    "language_info": {
      "name": "python"
    }
  },
  "cells": [
    {
      "cell_type": "markdown",
      "metadata": {
        "id": "view-in-github",
        "colab_type": "text"
      },
      "source": [
        "<a href=\"https://colab.research.google.com/github/pallavrouth/AI-Bootcamp/blob/main/Intermediate_python.ipynb\" target=\"_parent\"><img src=\"https://colab.research.google.com/assets/colab-badge.svg\" alt=\"Open In Colab\"/></a>"
      ]
    },
    {
      "cell_type": "markdown",
      "metadata": {
        "id": "FaJYM7OY_bpU"
      },
      "source": [
        "# Dictionaries"
      ]
    },
    {
      "cell_type": "markdown",
      "metadata": {
        "id": "Vv5E1nM2E7GZ"
      },
      "source": [
        "Why do I need a dictionary?\n",
        "\n",
        "An exercise : create 2 lists and get a specific information of second list "
      ]
    },
    {
      "cell_type": "code",
      "metadata": {
        "id": "y0AesLGd-0Qu"
      },
      "source": [
        "# Definition of cities and population\n",
        "city_names = ['houston','san antonio','dallas','austin','fort worth']\n",
        "city_pop = [2.31,1.51,1.33,0.95,0.87]"
      ],
      "execution_count": null,
      "outputs": []
    },
    {
      "cell_type": "code",
      "metadata": {
        "colab": {
          "base_uri": "https://localhost:8080/"
        },
        "id": "NgsDqdPkDify",
        "outputId": "27f0ef04-57d3-47eb-e15d-f93ee84cb098"
      },
      "source": [
        "# at what position is san antonio\n",
        "indx_sa = city_names.index('san antonio')\n",
        "print(indx_sa)"
      ],
      "execution_count": null,
      "outputs": [
        {
          "output_type": "stream",
          "text": [
            "1\n"
          ],
          "name": "stdout"
        }
      ]
    },
    {
      "cell_type": "code",
      "metadata": {
        "colab": {
          "base_uri": "https://localhost:8080/"
        },
        "id": "jBBLmQ3RD7Rl",
        "outputId": "f38074df-7523-4761-affc-332e1e567b84"
      },
      "source": [
        "# use that position to get the population of san antonio\n",
        "print(city_pop[indx_sa])"
      ],
      "execution_count": null,
      "outputs": [
        {
          "output_type": "stream",
          "text": [
            "1.51\n"
          ],
          "name": "stdout"
        }
      ]
    },
    {
      "cell_type": "code",
      "metadata": {
        "colab": {
          "base_uri": "https://localhost:8080/"
        },
        "id": "D-Dq7vlBDwel",
        "outputId": "6d37477e-7e16-42fa-82e0-a856da8a83ac"
      },
      "source": [
        "# print\n",
        "print('Population of San Antonio is ',city_pop[indx_sa],\" million approx\")"
      ],
      "execution_count": null,
      "outputs": [
        {
          "output_type": "stream",
          "text": [
            "Population of San Antonio is  1.51  million approx\n"
          ],
          "name": "stdout"
        }
      ]
    },
    {
      "cell_type": "markdown",
      "metadata": {
        "id": "pgc447o5FIWf"
      },
      "source": [
        "Easier to acheive this with dictionaries"
      ]
    },
    {
      "cell_type": "code",
      "metadata": {
        "colab": {
          "base_uri": "https://localhost:8080/"
        },
        "id": "ybTM5ZcKEKqD",
        "outputId": "b3f7e669-89c7-4a7a-8de6-6c887a285438"
      },
      "source": [
        "# Definition of cities and population\n",
        "city_names = ['houston','san antonio','dallas','austin','fort worth']\n",
        "city_pop = [2.31,1.51,1.33,0.95,0.87]\n",
        "\n",
        "# From string in countries and capitals, create dictionary europe\n",
        "texas = {'houston': 2.31, 'san antonio': 1.51, 'dallas': 1.33, 'austin': 0.95, 'fort worth': 0.87}\n",
        "\n",
        "# Print europe\n",
        "print(texas)"
      ],
      "execution_count": null,
      "outputs": [
        {
          "output_type": "stream",
          "text": [
            "{'houston': 2.31, 'san antonio': 1.51, 'dallas': 1.33, 'austin': 0.95, 'fort worth': 0.87}\n"
          ],
          "name": "stdout"
        }
      ]
    },
    {
      "cell_type": "code",
      "metadata": {
        "colab": {
          "base_uri": "https://localhost:8080/"
        },
        "id": "1m4HAal1FMX3",
        "outputId": "150e28b0-9781-44aa-de4a-00b62e5685c5"
      },
      "source": [
        "print(texas.keys())\n",
        "print(texas.values())"
      ],
      "execution_count": null,
      "outputs": [
        {
          "output_type": "stream",
          "text": [
            "dict_keys(['houston', 'san antonio', 'dallas', 'austin', 'fort worth'])\n",
            "dict_values([2.31, 1.51, 1.33, 0.95, 0.87])\n"
          ],
          "name": "stdout"
        }
      ]
    },
    {
      "cell_type": "code",
      "metadata": {
        "colab": {
          "base_uri": "https://localhost:8080/"
        },
        "id": "iMhCCVbcFZEr",
        "outputId": "d6745580-6019-4d0c-fa04-b43ed77f8821"
      },
      "source": [
        "print(texas['san antonio'])"
      ],
      "execution_count": null,
      "outputs": [
        {
          "output_type": "stream",
          "text": [
            "1.51\n"
          ],
          "name": "stdout"
        }
      ]
    },
    {
      "cell_type": "markdown",
      "metadata": {
        "id": "gsmjwxMRFmnb"
      },
      "source": [
        "Add entry to dictionary"
      ]
    },
    {
      "cell_type": "code",
      "metadata": {
        "colab": {
          "base_uri": "https://localhost:8080/"
        },
        "id": "GzJDbN6pFoiz",
        "outputId": "311efa4a-3c1d-4bc5-81ff-363fe893546d"
      },
      "source": [
        "texas['El paso'] = 0.67\n",
        "print(texas)\n",
        "print('El paso' in texas)"
      ],
      "execution_count": null,
      "outputs": [
        {
          "output_type": "stream",
          "text": [
            "{'houston': 2.31, 'san antonio': 1.51, 'dallas': 1.33, 'austin': 0.95, 'fort worth': 0.87, 'El paso': 0.67}\n",
            "True\n"
          ],
          "name": "stdout"
        }
      ]
    },
    {
      "cell_type": "code",
      "metadata": {
        "colab": {
          "base_uri": "https://localhost:8080/"
        },
        "id": "FtFBQRkDGD0L",
        "outputId": "57a1204d-2875-4478-efd3-7c81c1a5cd83"
      },
      "source": [
        "texas['El paso'] = 0.68\n",
        "print(texas)"
      ],
      "execution_count": null,
      "outputs": [
        {
          "output_type": "stream",
          "text": [
            "{'houston': 2.31, 'san antonio': 1.51, 'dallas': 1.33, 'austin': 0.95, 'fort worth': 0.87, 'El paso': 0.68}\n"
          ],
          "name": "stdout"
        }
      ]
    },
    {
      "cell_type": "code",
      "metadata": {
        "colab": {
          "base_uri": "https://localhost:8080/"
        },
        "id": "UEZAu_8uGLCk",
        "outputId": "d2327f9e-5899-43f1-84a3-251d17304ea7"
      },
      "source": [
        "del(texas['El paso'])\n",
        "print(texas)"
      ],
      "execution_count": null,
      "outputs": [
        {
          "output_type": "stream",
          "text": [
            "{'houston': 2.31, 'san antonio': 1.51, 'dallas': 1.33, 'austin': 0.95, 'fort worth': 0.87}\n"
          ],
          "name": "stdout"
        }
      ]
    },
    {
      "cell_type": "markdown",
      "metadata": {
        "id": "aOuy-sRMGWvt"
      },
      "source": [
        "Dictionary of dictionaries"
      ]
    },
    {
      "cell_type": "code",
      "metadata": {
        "id": "Q-wLR3YFGY1T"
      },
      "source": [
        "texas = {'houston': {'pop':2.31,'area':669,'mayor':'sylvester turner'},\n",
        "         'san antonio': {'pop':1.51,'area':505,'mayor':'ron nirenberg'},\n",
        "         'dallas': {'pop':1.33,'area':383,'mayor':'eric johnson'},\n",
        "         'austin': {'pop':0.95,'area':271,'mayor':'steve adler'}}"
      ],
      "execution_count": null,
      "outputs": []
    },
    {
      "cell_type": "code",
      "metadata": {
        "colab": {
          "base_uri": "https://localhost:8080/"
        },
        "id": "dwsHu_ntH8Qe",
        "outputId": "46bd9ee2-7817-48bc-f3ff-c74c7030d1cf"
      },
      "source": [
        "print(texas['san antonio']['mayor'])"
      ],
      "execution_count": null,
      "outputs": [
        {
          "output_type": "stream",
          "text": [
            "ron nirenberg\n"
          ],
          "name": "stdout"
        }
      ]
    },
    {
      "cell_type": "code",
      "metadata": {
        "colab": {
          "base_uri": "https://localhost:8080/"
        },
        "id": "q35WB-X_ILeM",
        "outputId": "53029c8f-2952-4e46-f7a3-82758861958d"
      },
      "source": [
        "add_data = {'pop':1.51,'area':505,'mayor':'ron nirenberg','acode':210}\n",
        "texas['san antonio'] = add_data\n",
        "print(texas)"
      ],
      "execution_count": null,
      "outputs": [
        {
          "output_type": "stream",
          "text": [
            "{'houston': {'pop': 2.31, 'area': 669, 'mayor': 'sylvester turner'}, 'san antonio': {'pop': 1.51, 'area': 505, 'mayor': 'ron nirenberg', 'acode': 210}, 'dallas': {'pop': 1.33, 'area': 383, 'mayor': 'eric johnson'}, 'austin': {'pop': 0.95, 'area': 271, 'mayor': 'steve adler'}}\n"
          ],
          "name": "stdout"
        }
      ]
    },
    {
      "cell_type": "markdown",
      "metadata": {
        "id": "YY3nhUNbI0iq"
      },
      "source": [
        "# Comparison operators"
      ]
    },
    {
      "cell_type": "markdown",
      "metadata": {
        "id": "KGizBIzNJXCy"
      },
      "source": [
        "Equality"
      ]
    },
    {
      "cell_type": "code",
      "metadata": {
        "colab": {
          "base_uri": "https://localhost:8080/"
        },
        "id": "0V27MlMaIzmm",
        "outputId": "39c17616-55f5-4c4a-dd29-33e741e90a75"
      },
      "source": [
        "# Comparison of booleans\n",
        "print(True == False)\n",
        "\n",
        "# Comparison of integers\n",
        "print(-5*15 != 75)\n",
        "\n",
        "# Comparison of strings\n",
        "print('pyscript' == 'PyScript')\n",
        "\n",
        "# Compare a boolean with an integer\n",
        "print(True == 1)"
      ],
      "execution_count": null,
      "outputs": [
        {
          "output_type": "stream",
          "text": [
            "False\n",
            "True\n",
            "False\n",
            "True\n"
          ],
          "name": "stdout"
        }
      ]
    },
    {
      "cell_type": "markdown",
      "metadata": {
        "id": "8hXsSkn4JZG5"
      },
      "source": [
        "Greater than equal to"
      ]
    },
    {
      "cell_type": "code",
      "metadata": {
        "colab": {
          "base_uri": "https://localhost:8080/"
        },
        "id": "uMTKpVxfJN8i",
        "outputId": "2a1afc8a-cb65-4b5d-982a-5b73ee0dce55"
      },
      "source": [
        "# Comparison of integers\n",
        "x = -3 * 6\n",
        "print(x >= -10)\n",
        "\n",
        "# Comparison of strings\n",
        "y = \"test\"\n",
        "print('test' <= y)\n",
        "\n",
        "# Comparison of booleans\n",
        "print(True > False)"
      ],
      "execution_count": null,
      "outputs": [
        {
          "output_type": "stream",
          "text": [
            "False\n",
            "True\n",
            "True\n"
          ],
          "name": "stdout"
        }
      ]
    },
    {
      "cell_type": "markdown",
      "metadata": {
        "id": "zYpTWXzMJed-"
      },
      "source": [
        "Multiple comparison conditions"
      ]
    },
    {
      "cell_type": "code",
      "metadata": {
        "colab": {
          "base_uri": "https://localhost:8080/"
        },
        "id": "De713eZdJUsX",
        "outputId": "1708678e-c770-47ce-a4bd-d54bed32eb12"
      },
      "source": [
        "# Define variables\n",
        "laptop = 1000\n",
        "monitor = 100\n",
        "\n",
        "# laptop costlier than $500 and monitor cheaper than $200? are both true\n",
        "print(laptop > 500 and monitor < 200)\n",
        "\n",
        "# laptop costlier than $500 and monitor cheaper than $200? is one of them true\n",
        "print(laptop > 500 or monitor < 50)"
      ],
      "execution_count": null,
      "outputs": [
        {
          "output_type": "stream",
          "text": [
            "True\n",
            "True\n"
          ],
          "name": "stdout"
        }
      ]
    },
    {
      "cell_type": "markdown",
      "metadata": {
        "id": "Yl2xryluKcq1"
      },
      "source": [
        "# Control flow"
      ]
    },
    {
      "cell_type": "markdown",
      "metadata": {
        "id": "icrJclCiSVxd"
      },
      "source": [
        "Only if"
      ]
    },
    {
      "cell_type": "code",
      "metadata": {
        "id": "CNdMPEJeKezk"
      },
      "source": [
        "device = 'apple'\n",
        "\n",
        "if device == 'apple':\n",
        "  print('I love this device')"
      ],
      "execution_count": null,
      "outputs": []
    },
    {
      "cell_type": "code",
      "metadata": {
        "id": "VGhcrIHPKoyy"
      },
      "source": [
        "device = 'samsung'\n",
        "\n",
        "if device == 'apple':\n",
        "  print('I love this device')"
      ],
      "execution_count": null,
      "outputs": []
    },
    {
      "cell_type": "markdown",
      "metadata": {
        "id": "kPxF5_CHKw8t"
      },
      "source": [
        "Not meaningful. Add else."
      ]
    },
    {
      "cell_type": "code",
      "metadata": {
        "id": "oiGuEUTnKzuW"
      },
      "source": [
        "device = 'samsung'\n",
        "\n",
        "if device == 'apple':\n",
        "  print('I love this device')\n",
        "else :\n",
        "  print('I hate this device')"
      ],
      "execution_count": null,
      "outputs": []
    },
    {
      "cell_type": "markdown",
      "metadata": {
        "id": "wYk4iBAoS5iX"
      },
      "source": [
        "Multiple conditions"
      ]
    },
    {
      "cell_type": "code",
      "metadata": {
        "id": "ucOtGtS8K_GH"
      },
      "source": [
        "#device = 'samsung'\n",
        "device = 'motorola'\n",
        "\n",
        "if device == 'apple':\n",
        "  print('I love this device')\n",
        "elif device == 'samsung':\n",
        "  print('I like this device')\n",
        "else :\n",
        "  print('I hate this device')"
      ],
      "execution_count": null,
      "outputs": []
    },
    {
      "cell_type": "markdown",
      "metadata": {
        "id": "Em7AqqjaSYv6"
      },
      "source": [
        "Slighly complex example\n",
        "\n",
        "Meal plan\n",
        "\n",
        "On monday if I get out at 5 I make veg salad. But if get out after 7, I get Chik Fil A. On Tuesday, no matter when I get out, I get tacos. On Wed, if I get out at 5, I make chicken salad. But if I get out at 7, I get McD. On Thrs, if I get out at 5, I make pasta. But, if I get out at 7, I get indian food. On Friday, no matter when I get out, I get wingstop. On any day, if I am very hungry, I get 2 portions. Otherwise I get one portion."
      ]
    },
    {
      "cell_type": "code",
      "metadata": {
        "colab": {
          "base_uri": "https://localhost:8080/"
        },
        "id": "hOYwTSInVny_",
        "outputId": "017bacf7-89a5-48f8-d937-7d433b399857"
      },
      "source": [
        "day_of_week = \"Tues\" # character\n",
        "time_of_day =  6  # int\n",
        "very_hungry =  True  # boolean\n",
        "\n",
        "if day_of_week == \"Mon\":\n",
        "  if time_of_day > 5 and time_of_day < 7:\n",
        "    if very_hungry == True:\n",
        "      print('Make 2 portions of veg salad.')\n",
        "    else :\n",
        "      print('Make 1 portion of veg salad.')\n",
        "  elif time_of_day > 7:\n",
        "    if very_hungry == True:\n",
        "      print('Buy 2 Spicy chicken sandwich.')\n",
        "    else :\n",
        "      print('Buy 1 Spicy chicken sandwich.')\n",
        "elif day_of_week == \"Tues\":\n",
        "  if very_hungry == True:\n",
        "    print('Buy 2 Big Macs')\n",
        "  else:\n",
        "    print('Buy 1 Big Mac')"
      ],
      "execution_count": null,
      "outputs": [
        {
          "output_type": "stream",
          "text": [
            "Buy 2 Big Macs\n"
          ],
          "name": "stdout"
        }
      ]
    },
    {
      "cell_type": "markdown",
      "metadata": {
        "id": "-Nj51w0yLX7V"
      },
      "source": [
        "# Loops"
      ]
    },
    {
      "cell_type": "markdown",
      "metadata": {
        "id": "-AcWrTggLmGx"
      },
      "source": [
        "While loop"
      ]
    },
    {
      "cell_type": "code",
      "metadata": {
        "id": "TnDZKmGHLZbb"
      },
      "source": [
        "temp = 75\n",
        "\n",
        "# The AC can only go up to 68. \n",
        "while temp > 68:\n",
        "  print('Its too hot. Turn up the AC!')\n",
        "  print(temp)\n",
        "  temp = temp - 1"
      ],
      "execution_count": null,
      "outputs": []
    },
    {
      "cell_type": "markdown",
      "metadata": {
        "id": "lO7SxY6jOl-n"
      },
      "source": [
        "While loop mixed with conditions"
      ]
    },
    {
      "cell_type": "code",
      "metadata": {
        "id": "rE-vUPlLM7Ev"
      },
      "source": [
        "temp = 75\n",
        "\n",
        "# The AC can only go up to 68. \n",
        "while temp > 68:\n",
        "  # if above 72 say something\n",
        "  if temp > 72:\n",
        "    print('Its too hot. Please reduce the temperature.')\n",
        "    print(temp)\n",
        "    temp = temp - 1\n",
        "  elif temp > 70 and temp < 73:\n",
        "    print('Ahh much better. But I still need it to be cooler.')\n",
        "    print(temp)\n",
        "    temp = temp - 1\n",
        "  else :\n",
        "    print('Perfect. But I wouldnt mind if you reduced it further')\n",
        "    print(temp)\n",
        "    temp = temp - 1"
      ],
      "execution_count": null,
      "outputs": []
    },
    {
      "cell_type": "markdown",
      "metadata": {
        "id": "QbLp9yWtOqJ2"
      },
      "source": [
        "For loop"
      ]
    },
    {
      "cell_type": "code",
      "metadata": {
        "id": "yJXJ3YI9OpXp"
      },
      "source": [
        "prices = [1200,100,3,30,100]\n",
        "\n",
        "for item_price in prices:\n",
        "  print(item_price)"
      ],
      "execution_count": null,
      "outputs": []
    },
    {
      "cell_type": "markdown",
      "metadata": {
        "id": "7Tl3kLziPrBv"
      },
      "source": [
        "Using a for loop to iterate over a list only gives you access to every list element in each run, one after the other. If you also want to access the index information, so where the list element you're iterating over is located, you can use enumerate()."
      ]
    },
    {
      "cell_type": "code",
      "metadata": {
        "id": "LUQUO3zUPqRV"
      },
      "source": [
        "for item,item_price in enumerate(prices):\n",
        "  #print(\"Item\" + item + 'costs $' + item_price)\n",
        "  print(\"Item \" + str(item) + ' costs $' + str(item_price))"
      ],
      "execution_count": null,
      "outputs": []
    },
    {
      "cell_type": "markdown",
      "metadata": {
        "id": "hCAtaulfR84_"
      },
      "source": [
        "Correct the item index"
      ]
    },
    {
      "cell_type": "code",
      "metadata": {
        "id": "7R7W16O9QXcc"
      },
      "source": [
        "for item,item_price in enumerate(prices):\n",
        "  item_corrected = item + 1\n",
        "  print(\"Item \" + str(item_corrected) + ' costs $' + str(item_price))"
      ],
      "execution_count": null,
      "outputs": []
    },
    {
      "cell_type": "markdown",
      "metadata": {
        "id": "QdT22Fs4R_BD"
      },
      "source": [
        "Add meaningful names"
      ]
    },
    {
      "cell_type": "code",
      "metadata": {
        "id": "n7-et8I0Qgur"
      },
      "source": [
        "item_names = [\"laptop\",\"monitor\",\"notebook\",\"chair\",\"table\"]\n",
        "\n",
        "for item,item_price in enumerate(prices):\n",
        "  item_name = item_names[item]\n",
        "  print(item_name)"
      ],
      "execution_count": null,
      "outputs": []
    },
    {
      "cell_type": "code",
      "metadata": {
        "id": "NnkcP0dwQ_LE"
      },
      "source": [
        "item_names = [\"laptop\",\"monitor\",\"notebook\",\"chair\",\"table\"]\n",
        "\n",
        "for item,item_price in enumerate(prices):\n",
        "  item_name = item_names[item]\n",
        "  print(item_name + ' costs $' + str(item_price))"
      ],
      "execution_count": null,
      "outputs": []
    },
    {
      "cell_type": "markdown",
      "metadata": {
        "id": "u-eW5h9ER44K"
      },
      "source": [
        "Iterating over multiple lists"
      ]
    },
    {
      "cell_type": "code",
      "metadata": {
        "id": "5QZqnWE6RQRW"
      },
      "source": [
        "item_names = [\"laptop\",\"monitor\",\"notebook\",\"chair\",\"table\"]\n",
        "item_prices = [1200,100,3,30,100]\n",
        "\n",
        "for item_name,item_price in zip(item_names,item_prices):\n",
        "  print(item_name + ' costs $' + str(item_price))"
      ],
      "execution_count": null,
      "outputs": []
    },
    {
      "cell_type": "markdown",
      "metadata": {
        "id": "YJn2rXHOSCJs"
      },
      "source": [
        "Iterate over list of lists"
      ]
    },
    {
      "cell_type": "code",
      "metadata": {
        "id": "sBd1IKWTRruR"
      },
      "source": [
        "# price list of lists\n",
        "prices = [[\"laptop\",1200],[\"monitor\",100],[\"notebook\",3],[\"chair\",30],[\"table\",100]]\n",
        "         \n",
        "# Build a for loop from scratch\n",
        "for set in prices:\n",
        "    print(set[0] + ' costs $' + str(set[1]))"
      ],
      "execution_count": null,
      "outputs": []
    }
  ]
}