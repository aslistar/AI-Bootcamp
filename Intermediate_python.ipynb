{
  "nbformat": 4,
  "nbformat_minor": 0,
  "metadata": {
    "colab": {
      "name": "Intermediate python.ipynb",
      "provenance": [],
      "collapsed_sections": [],
      "toc_visible": true,
      "authorship_tag": "ABX9TyOrPUC2UdSDHgakktM0EV25",
      "include_colab_link": true
    },
    "kernelspec": {
      "name": "python3",
      "display_name": "Python 3"
    },
    "language_info": {
      "name": "python"
    }
  },
  "cells": [
    {
      "cell_type": "markdown",
      "metadata": {
        "id": "view-in-github",
        "colab_type": "text"
      },
      "source": [
        "<a href=\"https://colab.research.google.com/github/pallavrouth/AI-Bootcamp/blob/main/Intermediate_python.ipynb\" target=\"_parent\"><img src=\"https://colab.research.google.com/assets/colab-badge.svg\" alt=\"Open In Colab\"/></a>"
      ]
    },
    {
      "cell_type": "markdown",
      "metadata": {
        "id": "FaJYM7OY_bpU"
      },
      "source": [
        "# Dictionaries"
      ]
    },
    {
      "cell_type": "markdown",
      "metadata": {
        "id": "Vv5E1nM2E7GZ"
      },
      "source": [
        "Why do I need a dictionary?\n",
        "\n",
        "An exercise : create 2 lists and get a specific information of second list "
      ]
    },
    {
      "cell_type": "code",
      "metadata": {
        "id": "y0AesLGd-0Qu"
      },
      "source": [
        "# Definition of cities and population\n",
        "city_names = ['houston','san antonio','dallas','austin','fort worth']\n",
        "city_pop = [2.31,1.51,1.33,0.95,0.87]"
      ],
      "execution_count": null,
      "outputs": []
    },
    {
      "cell_type": "code",
      "metadata": {
        "colab": {
          "base_uri": "https://localhost:8080/"
        },
        "id": "NgsDqdPkDify",
        "outputId": "27f0ef04-57d3-47eb-e15d-f93ee84cb098"
      },
      "source": [
        "# at what position is san antonio\n",
        "indx_sa = city_names.index('san antonio')\n",
        "print(indx_sa)"
      ],
      "execution_count": null,
      "outputs": [
        {
          "output_type": "stream",
          "text": [
            "1\n"
          ],
          "name": "stdout"
        }
      ]
    },
    {
      "cell_type": "code",
      "metadata": {
        "colab": {
          "base_uri": "https://localhost:8080/"
        },
        "id": "jBBLmQ3RD7Rl",
        "outputId": "f38074df-7523-4761-affc-332e1e567b84"
      },
      "source": [
        "# use that position to get the population of san antonio\n",
        "print(city_pop[indx_sa])"
      ],
      "execution_count": null,
      "outputs": [
        {
          "output_type": "stream",
          "text": [
            "1.51\n"
          ],
          "name": "stdout"
        }
      ]
    },
    {
      "cell_type": "code",
      "metadata": {
        "colab": {
          "base_uri": "https://localhost:8080/"
        },
        "id": "D-Dq7vlBDwel",
        "outputId": "6d37477e-7e16-42fa-82e0-a856da8a83ac"
      },
      "source": [
        "# print\n",
        "print('Population of San Antonio is ',city_pop[indx_sa],\" million approx\")"
      ],
      "execution_count": null,
      "outputs": [
        {
          "output_type": "stream",
          "text": [
            "Population of San Antonio is  1.51  million approx\n"
          ],
          "name": "stdout"
        }
      ]
    },
    {
      "cell_type": "markdown",
      "metadata": {
        "id": "pgc447o5FIWf"
      },
      "source": [
        "Easier to acheive this with dictionaries"
      ]
    },
    {
      "cell_type": "code",
      "metadata": {
        "colab": {
          "base_uri": "https://localhost:8080/"
        },
        "id": "ybTM5ZcKEKqD",
        "outputId": "b3f7e669-89c7-4a7a-8de6-6c887a285438"
      },
      "source": [
        "# Definition of cities and population\n",
        "city_names = ['houston','san antonio','dallas','austin','fort worth']\n",
        "city_pop = [2.31,1.51,1.33,0.95,0.87]\n",
        "\n",
        "# From string in countries and capitals, create dictionary europe\n",
        "texas = {'houston': 2.31, 'san antonio': 1.51, 'dallas': 1.33, 'austin': 0.95, 'fort worth': 0.87}\n",
        "\n",
        "# Print europe\n",
        "print(texas)"
      ],
      "execution_count": null,
      "outputs": [
        {
          "output_type": "stream",
          "text": [
            "{'houston': 2.31, 'san antonio': 1.51, 'dallas': 1.33, 'austin': 0.95, 'fort worth': 0.87}\n"
          ],
          "name": "stdout"
        }
      ]
    },
    {
      "cell_type": "code",
      "metadata": {
        "colab": {
          "base_uri": "https://localhost:8080/"
        },
        "id": "1m4HAal1FMX3",
        "outputId": "150e28b0-9781-44aa-de4a-00b62e5685c5"
      },
      "source": [
        "print(texas.keys())\n",
        "print(texas.values())"
      ],
      "execution_count": null,
      "outputs": [
        {
          "output_type": "stream",
          "text": [
            "dict_keys(['houston', 'san antonio', 'dallas', 'austin', 'fort worth'])\n",
            "dict_values([2.31, 1.51, 1.33, 0.95, 0.87])\n"
          ],
          "name": "stdout"
        }
      ]
    },
    {
      "cell_type": "code",
      "metadata": {
        "colab": {
          "base_uri": "https://localhost:8080/"
        },
        "id": "iMhCCVbcFZEr",
        "outputId": "d6745580-6019-4d0c-fa04-b43ed77f8821"
      },
      "source": [
        "print(texas['san antonio'])"
      ],
      "execution_count": null,
      "outputs": [
        {
          "output_type": "stream",
          "text": [
            "1.51\n"
          ],
          "name": "stdout"
        }
      ]
    },
    {
      "cell_type": "markdown",
      "metadata": {
        "id": "gsmjwxMRFmnb"
      },
      "source": [
        "Add entry to dictionary"
      ]
    },
    {
      "cell_type": "code",
      "metadata": {
        "colab": {
          "base_uri": "https://localhost:8080/"
        },
        "id": "GzJDbN6pFoiz",
        "outputId": "311efa4a-3c1d-4bc5-81ff-363fe893546d"
      },
      "source": [
        "texas['El paso'] = 0.67\n",
        "print(texas)\n",
        "print('El paso' in texas)"
      ],
      "execution_count": null,
      "outputs": [
        {
          "output_type": "stream",
          "text": [
            "{'houston': 2.31, 'san antonio': 1.51, 'dallas': 1.33, 'austin': 0.95, 'fort worth': 0.87, 'El paso': 0.67}\n",
            "True\n"
          ],
          "name": "stdout"
        }
      ]
    },
    {
      "cell_type": "code",
      "metadata": {
        "colab": {
          "base_uri": "https://localhost:8080/"
        },
        "id": "FtFBQRkDGD0L",
        "outputId": "57a1204d-2875-4478-efd3-7c81c1a5cd83"
      },
      "source": [
        "texas['El paso'] = 0.68\n",
        "print(texas)"
      ],
      "execution_count": null,
      "outputs": [
        {
          "output_type": "stream",
          "text": [
            "{'houston': 2.31, 'san antonio': 1.51, 'dallas': 1.33, 'austin': 0.95, 'fort worth': 0.87, 'El paso': 0.68}\n"
          ],
          "name": "stdout"
        }
      ]
    },
    {
      "cell_type": "code",
      "metadata": {
        "colab": {
          "base_uri": "https://localhost:8080/"
        },
        "id": "UEZAu_8uGLCk",
        "outputId": "d2327f9e-5899-43f1-84a3-251d17304ea7"
      },
      "source": [
        "del(texas['El paso'])\n",
        "print(texas)"
      ],
      "execution_count": null,
      "outputs": [
        {
          "output_type": "stream",
          "text": [
            "{'houston': 2.31, 'san antonio': 1.51, 'dallas': 1.33, 'austin': 0.95, 'fort worth': 0.87}\n"
          ],
          "name": "stdout"
        }
      ]
    },
    {
      "cell_type": "markdown",
      "metadata": {
        "id": "aOuy-sRMGWvt"
      },
      "source": [
        "Dictionary of dictionaries"
      ]
    },
    {
      "cell_type": "code",
      "metadata": {
        "id": "Q-wLR3YFGY1T"
      },
      "source": [
        "texas = {'houston': {'pop':2.31,'area':669,'mayor':'sylvester turner'},\n",
        "         'san antonio': {'pop':1.51,'area':505,'mayor':'ron nirenberg'},\n",
        "         'dallas': {'pop':1.33,'area':383,'mayor':'eric johnson'},\n",
        "         'austin': {'pop':0.95,'area':271,'mayor':'steve adler'}}"
      ],
      "execution_count": null,
      "outputs": []
    },
    {
      "cell_type": "code",
      "metadata": {
        "colab": {
          "base_uri": "https://localhost:8080/"
        },
        "id": "dwsHu_ntH8Qe",
        "outputId": "46bd9ee2-7817-48bc-f3ff-c74c7030d1cf"
      },
      "source": [
        "print(texas['san antonio']['mayor'])"
      ],
      "execution_count": null,
      "outputs": [
        {
          "output_type": "stream",
          "text": [
            "ron nirenberg\n"
          ],
          "name": "stdout"
        }
      ]
    },
    {
      "cell_type": "code",
      "metadata": {
        "colab": {
          "base_uri": "https://localhost:8080/"
        },
        "id": "q35WB-X_ILeM",
        "outputId": "53029c8f-2952-4e46-f7a3-82758861958d"
      },
      "source": [
        "add_data = {'pop':1.51,'area':505,'mayor':'ron nirenberg','acode':210}\n",
        "texas['san antonio'] = add_data\n",
        "print(texas)"
      ],
      "execution_count": null,
      "outputs": [
        {
          "output_type": "stream",
          "text": [
            "{'houston': {'pop': 2.31, 'area': 669, 'mayor': 'sylvester turner'}, 'san antonio': {'pop': 1.51, 'area': 505, 'mayor': 'ron nirenberg', 'acode': 210}, 'dallas': {'pop': 1.33, 'area': 383, 'mayor': 'eric johnson'}, 'austin': {'pop': 0.95, 'area': 271, 'mayor': 'steve adler'}}\n"
          ],
          "name": "stdout"
        }
      ]
    },
    {
      "cell_type": "markdown",
      "metadata": {
        "id": "YY3nhUNbI0iq"
      },
      "source": [
        "\n",
        "# Comparison, logical, membership and identity operators"
      ]
    },
    {
      "cell_type": "markdown",
      "metadata": {
        "id": "KGizBIzNJXCy"
      },
      "source": [
        "**Equality**"
      ]
    },
    {
      "cell_type": "markdown",
      "metadata": {
        "id": "Y_0adSR4R7tn"
      },
      "source": [
        "Are 2 quantities that are of the same type same?"
      ]
    },
    {
      "cell_type": "code",
      "metadata": {
        "colab": {
          "base_uri": "https://localhost:8080/"
        },
        "id": "URfEHYFEROko",
        "outputId": "04274354-074c-4f10-ca8b-fcc23c48b038"
      },
      "source": [
        "# check if two strings are the same\n",
        "# is pallav = Pallav\n",
        "# for strings python compares the ascii values\n",
        "my_name = \"Pallav\"\n",
        "print(\"Ironman\" == my_name)\n",
        "print(\"pallav\" == my_name)\n",
        "print(\"PALLAV\" ==  my_name)"
      ],
      "execution_count": null,
      "outputs": [
        {
          "output_type": "stream",
          "text": [
            "False\n",
            "False\n",
            "False\n"
          ],
          "name": "stdout"
        }
      ]
    },
    {
      "cell_type": "code",
      "metadata": {
        "colab": {
          "base_uri": "https://localhost:8080/"
        },
        "id": "5ldN4jS2jRtL",
        "outputId": "8a8c5971-de24-461f-e9c7-c0529e3ad8c0"
      },
      "source": [
        "print(ord(\"P\"))\n",
        "print(ord(\"I\"))"
      ],
      "execution_count": null,
      "outputs": [
        {
          "output_type": "stream",
          "text": [
            "80\n",
            "73\n"
          ],
          "name": "stdout"
        }
      ]
    },
    {
      "cell_type": "markdown",
      "metadata": {
        "id": "RR54QSJRSq2b"
      },
      "source": [
        "Store the result of the comparison in an object"
      ]
    },
    {
      "cell_type": "code",
      "metadata": {
        "colab": {
          "base_uri": "https://localhost:8080/"
        },
        "id": "kpxOdn4nSqGZ",
        "outputId": "e8cf2701-b35e-4ce9-9122-1fcafbecb929"
      },
      "source": [
        "same_name = \"Ironman\" == my_name\n",
        "print(same_name)"
      ],
      "execution_count": null,
      "outputs": [
        {
          "output_type": "stream",
          "text": [
            "False\n"
          ],
          "name": "stdout"
        }
      ]
    },
    {
      "cell_type": "markdown",
      "metadata": {
        "id": "3Pxuk8n3S6Mi"
      },
      "source": [
        "In fact you can check if this object is true or false"
      ]
    },
    {
      "cell_type": "code",
      "metadata": {
        "colab": {
          "base_uri": "https://localhost:8080/"
        },
        "id": "fzEB5L9uS-tL",
        "outputId": "f12e1d8e-a79d-420e-cd8a-0ed1babd9cae"
      },
      "source": [
        "same_name == False"
      ],
      "execution_count": null,
      "outputs": [
        {
          "output_type": "execute_result",
          "data": {
            "text/plain": [
              "True"
            ]
          },
          "metadata": {},
          "execution_count": 5
        }
      ]
    },
    {
      "cell_type": "code",
      "metadata": {
        "colab": {
          "base_uri": "https://localhost:8080/"
        },
        "id": "MZeWAaLtTTGL",
        "outputId": "7182d12a-62da-4a2c-cb65-0079c3e874ed"
      },
      "source": [
        "my_age = 29\n",
        "print(my_age == 25)"
      ],
      "execution_count": null,
      "outputs": [
        {
          "output_type": "stream",
          "text": [
            "False\n"
          ],
          "name": "stdout"
        }
      ]
    },
    {
      "cell_type": "markdown",
      "metadata": {
        "id": "HsQNTxmEThQ4"
      },
      "source": [
        "In most cases comparing the equality of objects that are different yeilds FALSE\n"
      ]
    },
    {
      "cell_type": "code",
      "metadata": {
        "colab": {
          "base_uri": "https://localhost:8080/"
        },
        "id": "UBxjM4kmTg3A",
        "outputId": "92aba67b-e588-41d2-8223-917407f86ebd"
      },
      "source": [
        "print('Pallav' == 28)\n",
        "print([1,2,3] == 2)"
      ],
      "execution_count": null,
      "outputs": [
        {
          "output_type": "stream",
          "text": [
            "False\n",
            "False\n"
          ],
          "name": "stdout"
        }
      ]
    },
    {
      "cell_type": "markdown",
      "metadata": {
        "id": "8FpeWj66UZZf"
      },
      "source": [
        "Except booleans and integers"
      ]
    },
    {
      "cell_type": "code",
      "metadata": {
        "colab": {
          "base_uri": "https://localhost:8080/"
        },
        "id": "NLFGUNkNUc4X",
        "outputId": "46ac412e-8261-4df5-822b-d46bfc38edeb"
      },
      "source": [
        "print(True == 1)\n",
        "print(False == 0)"
      ],
      "execution_count": null,
      "outputs": [
        {
          "output_type": "stream",
          "text": [
            "True\n",
            "True\n"
          ],
          "name": "stdout"
        }
      ]
    },
    {
      "cell_type": "markdown",
      "metadata": {
        "id": "jaaxslAFW-A6"
      },
      "source": [
        "The reverse of equal to is not equal to"
      ]
    },
    {
      "cell_type": "code",
      "metadata": {
        "colab": {
          "base_uri": "https://localhost:8080/"
        },
        "id": "v7rVaQxwW9jo",
        "outputId": "07b53539-f389-40c1-d6a3-6b7f26badd95"
      },
      "source": [
        "print(\"Pallav\" != \"Ironman\")"
      ],
      "execution_count": null,
      "outputs": [
        {
          "output_type": "stream",
          "text": [
            "True\n"
          ],
          "name": "stdout"
        }
      ]
    },
    {
      "cell_type": "markdown",
      "metadata": {
        "id": "tZIZ4fnOVJIK"
      },
      "source": [
        "**Greater than or less than** "
      ]
    },
    {
      "cell_type": "code",
      "metadata": {
        "colab": {
          "base_uri": "https://localhost:8080/"
        },
        "id": "-nAaxqhrVLFd",
        "outputId": "a5819d03-38d9-4590-da14-c7b2755e4376"
      },
      "source": [
        "# is 2 greater than 1\n",
        "print(2 > 1)\n",
        "print(100 > 100 - 2)\n",
        "print(\"Pallav\" > \"Pallav Routh\")\n",
        "print(\"Pallav\" > \"Ironman\")"
      ],
      "execution_count": null,
      "outputs": [
        {
          "output_type": "stream",
          "text": [
            "True\n",
            "True\n",
            "False\n",
            "True\n"
          ],
          "name": "stdout"
        }
      ]
    },
    {
      "cell_type": "markdown",
      "metadata": {
        "id": "8hXsSkn4JZG5"
      },
      "source": [
        "**Greater or Less than equal to**"
      ]
    },
    {
      "cell_type": "code",
      "metadata": {
        "colab": {
          "base_uri": "https://localhost:8080/"
        },
        "id": "uMTKpVxfJN8i",
        "outputId": "e0600001-b6d8-4170-b561-fe358f17fa7f"
      },
      "source": [
        "#Is 3 greater than equal to 2?\n",
        "print(3 >= 2)\n",
        "print(3 <= 2)\n",
        "print('Pallav' >= 'pallav')"
      ],
      "execution_count": null,
      "outputs": [
        {
          "output_type": "stream",
          "text": [
            "True\n",
            "False\n",
            "False\n"
          ],
          "name": "stdout"
        }
      ]
    },
    {
      "cell_type": "markdown",
      "metadata": {
        "id": "zYpTWXzMJed-"
      },
      "source": [
        "Multiple comparison conditions using logical operators `and` and `or` \n",
        "\n"
      ]
    },
    {
      "cell_type": "code",
      "metadata": {
        "colab": {
          "base_uri": "https://localhost:8080/"
        },
        "id": "De713eZdJUsX",
        "outputId": "1708678e-c770-47ce-a4bd-d54bed32eb12"
      },
      "source": [
        "# Define variables\n",
        "laptop = 1000\n",
        "monitor = 100\n",
        "\n",
        "# laptop costlier than $500 and monitor cheaper than $200? are both true\n",
        "print(laptop > 500 and monitor < 200)\n",
        "\n",
        "# laptop costlier than $500 and monitor cheaper than $200? is one of them true\n",
        "print(laptop > 500 or monitor < 50)"
      ],
      "execution_count": null,
      "outputs": [
        {
          "output_type": "stream",
          "text": [
            "True\n",
            "True\n"
          ],
          "name": "stdout"
        }
      ]
    },
    {
      "cell_type": "markdown",
      "metadata": {
        "id": "SsYCromTk8W0"
      },
      "source": [
        "**Membership operators** \n",
        "\n",
        "Python’s membership operators test for membership in a sequence"
      ]
    },
    {
      "cell_type": "code",
      "metadata": {
        "colab": {
          "base_uri": "https://localhost:8080/"
        },
        "id": "xHO6sVOPk7SF",
        "outputId": "e43b6ba5-fe8b-490c-a330-e50df4290a2e"
      },
      "source": [
        "# is monitor in this sequence\n",
        "prices = [\"laptop\",\"monitor\",\"notebook\",\"chair\",\"table\"]\n",
        "print(\"monitor\" in prices)\n",
        "print(\"mug\" in prices)\n",
        "print(\"mug\" not in prices)"
      ],
      "execution_count": null,
      "outputs": [
        {
          "output_type": "stream",
          "text": [
            "True\n",
            "False\n",
            "True\n"
          ],
          "name": "stdout"
        }
      ]
    },
    {
      "cell_type": "markdown",
      "metadata": {
        "id": "OySgJEDGl93y"
      },
      "source": [
        "**Also meaningful for strings**"
      ]
    },
    {
      "cell_type": "code",
      "metadata": {
        "colab": {
          "base_uri": "https://localhost:8080/"
        },
        "id": "jYuCWLahmA3U",
        "outputId": "e49fc832-6fff-4b32-ebe8-35f739d570a3"
      },
      "source": [
        "print(\"p\" in \"pallav\")"
      ],
      "execution_count": null,
      "outputs": [
        {
          "output_type": "stream",
          "text": [
            "True\n"
          ],
          "name": "stdout"
        }
      ]
    },
    {
      "cell_type": "code",
      "metadata": {
        "colab": {
          "base_uri": "https://localhost:8080/"
        },
        "id": "Nlpv0Mdlma81",
        "outputId": "8f17b39e-1d8a-4306-a26c-a4a3ac6a273d"
      },
      "source": [
        "2 is 'two'"
      ],
      "execution_count": null,
      "outputs": [
        {
          "output_type": "execute_result",
          "data": {
            "text/plain": [
              "False"
            ]
          },
          "metadata": {},
          "execution_count": 41
        }
      ]
    },
    {
      "cell_type": "markdown",
      "metadata": {
        "id": "GqDbEji5n2S-"
      },
      "source": [
        "**Important : equality versus identity**\n"
      ]
    },
    {
      "cell_type": "code",
      "metadata": {
        "colab": {
          "base_uri": "https://localhost:8080/"
        },
        "id": "oX915_2bn9Dx",
        "outputId": "0ece32f6-0397-4f1f-83e3-2c8481db6235"
      },
      "source": [
        "list1 = [1,2,3]\n",
        "list2 = [1,2,3]\n",
        "print(list1 == list2)\n",
        "print(list1 is list2)"
      ],
      "execution_count": null,
      "outputs": [
        {
          "output_type": "stream",
          "text": [
            "True\n",
            "False\n"
          ],
          "name": "stdout"
        }
      ]
    },
    {
      "cell_type": "markdown",
      "metadata": {
        "id": "1k_DaS83oK0q"
      },
      "source": [
        "Equality is about whether these two objects represent the same value, whether they're essentially the same thing.\n",
        "\n",
        "The `is` operator asks about identity.\n",
        "\n",
        "Unlike `==`, the is operator doesn't even look at the objects that x and y point to. Instead, is asks if the variables x and y are pointing to the same object.\n",
        "\n",
        "The `is` operator answers the question do two object references actually point to the same object? The expression x `is` y checks the memory location that x and y are pointing to (by their id) and checks to see if those locations are the same."
      ]
    },
    {
      "cell_type": "code",
      "metadata": {
        "colab": {
          "base_uri": "https://localhost:8080/"
        },
        "id": "fbhi_zGjoX8H",
        "outputId": "e521ab9d-8193-4384-8a0d-77eb2444bb75"
      },
      "source": [
        "print(id(list1),id(list2))"
      ],
      "execution_count": null,
      "outputs": [
        {
          "output_type": "stream",
          "text": [
            "139930068445216 139930069038336\n"
          ],
          "name": "stdout"
        }
      ]
    },
    {
      "cell_type": "markdown",
      "metadata": {
        "id": "N3j0Df32o3k1"
      },
      "source": [
        "The context in which they are used sometimes values. its more common to use is when we are say checking the class or special values"
      ]
    },
    {
      "cell_type": "code",
      "metadata": {
        "colab": {
          "base_uri": "https://localhost:8080/"
        },
        "id": "Zu4zTjTEo28l",
        "outputId": "172d8a18-082f-457d-8266-a192435b9f47"
      },
      "source": [
        "some_value = None\n",
        "print(some_value is None)\n",
        "\n",
        "my_name = \"Pallav\"\n",
        "class_of_object = type(my_name)\n",
        "print(class_of_object)\n",
        "print(class_of_object is str)"
      ],
      "execution_count": null,
      "outputs": [
        {
          "output_type": "stream",
          "text": [
            "True\n",
            "<class 'str'>\n",
            "True\n"
          ],
          "name": "stdout"
        }
      ]
    },
    {
      "cell_type": "markdown",
      "metadata": {
        "id": "Yl2xryluKcq1"
      },
      "source": [
        "# Control flow"
      ]
    },
    {
      "cell_type": "markdown",
      "metadata": {
        "id": "icrJclCiSVxd"
      },
      "source": [
        "**Only if**"
      ]
    },
    {
      "cell_type": "code",
      "metadata": {
        "id": "CNdMPEJeKezk"
      },
      "source": [
        "device = 'apple'\n",
        "\n",
        "if device == 'apple':\n",
        "  print('I love this device')"
      ],
      "execution_count": null,
      "outputs": []
    },
    {
      "cell_type": "code",
      "metadata": {
        "id": "VGhcrIHPKoyy"
      },
      "source": [
        "device = 'samsung'\n",
        "\n",
        "if device == 'apple':\n",
        "  print('I love this device')"
      ],
      "execution_count": null,
      "outputs": []
    },
    {
      "cell_type": "markdown",
      "metadata": {
        "id": "kPxF5_CHKw8t"
      },
      "source": [
        "**Not meaningful. Add else.**"
      ]
    },
    {
      "cell_type": "code",
      "metadata": {
        "id": "oiGuEUTnKzuW"
      },
      "source": [
        "device = 'samsung'\n",
        "\n",
        "if device == 'apple':\n",
        "  print('I love this device')\n",
        "else :\n",
        "  print('I hate this device')"
      ],
      "execution_count": null,
      "outputs": []
    },
    {
      "cell_type": "markdown",
      "metadata": {
        "id": "wYk4iBAoS5iX"
      },
      "source": [
        "**Multiple conditions**"
      ]
    },
    {
      "cell_type": "code",
      "metadata": {
        "id": "ucOtGtS8K_GH"
      },
      "source": [
        "#device = 'samsung'\n",
        "device = 'motorola'\n",
        "\n",
        "if device == 'apple':\n",
        "  print('I love this device')\n",
        "elif device == 'samsung':\n",
        "  print('I like this device')\n",
        "else :\n",
        "  print('I hate this device')"
      ],
      "execution_count": null,
      "outputs": []
    },
    {
      "cell_type": "markdown",
      "metadata": {
        "id": "Em7AqqjaSYv6"
      },
      "source": [
        "**Slighly complex example**\n",
        "\n",
        "*Meal plan*\n",
        "\n",
        "On monday if I get out at 5 I make veg salad. But if get out after 7, I get Chik Fil A. On Tuesday, no matter when I get out, I get tacos. On Wed, if I get out at 5, I make chicken salad. But if I get out at 7, I get McD. On Thrs, if I get out at 5, I make pasta. But, if I get out at 7, I get indian food. On Friday, no matter when I get out, I get wingstop. On any day, if I am very hungry, I get 2 portions. Otherwise I get one portion."
      ]
    },
    {
      "cell_type": "code",
      "metadata": {
        "colab": {
          "base_uri": "https://localhost:8080/"
        },
        "id": "hOYwTSInVny_",
        "outputId": "017bacf7-89a5-48f8-d937-7d433b399857"
      },
      "source": [
        "day_of_week = \"Tues\" # character\n",
        "time_of_day =  6  # int\n",
        "very_hungry =  True  # boolean\n",
        "\n",
        "if day_of_week == \"Mon\":\n",
        "  if time_of_day > 5 and time_of_day < 7:\n",
        "    if very_hungry == True:\n",
        "      print('Make 2 portions of veg salad.')\n",
        "    else :\n",
        "      print('Make 1 portion of veg salad.')\n",
        "  elif time_of_day > 7:\n",
        "    if very_hungry == True:\n",
        "      print('Buy 2 Spicy chicken sandwich.')\n",
        "    else :\n",
        "      print('Buy 1 Spicy chicken sandwich.')\n",
        "elif day_of_week == \"Tues\":\n",
        "  if very_hungry == True:\n",
        "    print('Buy 2 Big Macs')\n",
        "  else:\n",
        "    print('Buy 1 Big Mac')"
      ],
      "execution_count": null,
      "outputs": [
        {
          "output_type": "stream",
          "text": [
            "Buy 2 Big Macs\n"
          ],
          "name": "stdout"
        }
      ]
    },
    {
      "cell_type": "markdown",
      "metadata": {
        "id": "-Nj51w0yLX7V"
      },
      "source": [
        "# Loops"
      ]
    },
    {
      "cell_type": "markdown",
      "metadata": {
        "id": "-AcWrTggLmGx"
      },
      "source": [
        "**While loop**"
      ]
    },
    {
      "cell_type": "code",
      "metadata": {
        "id": "TnDZKmGHLZbb"
      },
      "source": [
        "temp = 75\n",
        "\n",
        "# The AC can only go up to 68. \n",
        "while temp > 68:\n",
        "  print('Its too hot. Turn up the AC!')\n",
        "  print(temp)\n",
        "  temp = temp - 1"
      ],
      "execution_count": null,
      "outputs": []
    },
    {
      "cell_type": "markdown",
      "metadata": {
        "id": "lO7SxY6jOl-n"
      },
      "source": [
        "**While loop mixed with conditions**"
      ]
    },
    {
      "cell_type": "code",
      "metadata": {
        "id": "rE-vUPlLM7Ev"
      },
      "source": [
        "temp = 75\n",
        "\n",
        "# The AC can only go up to 68. \n",
        "while temp > 68:\n",
        "  # if above 72 say something\n",
        "  if temp > 72:\n",
        "    print('Its too hot. Please reduce the temperature.')\n",
        "    print(temp)\n",
        "    temp = temp - 1\n",
        "  elif temp > 70 and temp < 73:\n",
        "    print('Ahh much better. But I still need it to be cooler.')\n",
        "    print(temp)\n",
        "    temp = temp - 1\n",
        "  else :\n",
        "    print('Perfect. But I wouldnt mind if you reduced it further')\n",
        "    print(temp)\n",
        "    temp = temp - 1"
      ],
      "execution_count": null,
      "outputs": []
    },
    {
      "cell_type": "markdown",
      "metadata": {
        "id": "QbLp9yWtOqJ2"
      },
      "source": [
        "**For loop**"
      ]
    },
    {
      "cell_type": "code",
      "metadata": {
        "id": "yJXJ3YI9OpXp"
      },
      "source": [
        "prices = [1200,100,3,30,100]\n",
        "\n",
        "for item_price in prices:\n",
        "  print(item_price)"
      ],
      "execution_count": null,
      "outputs": []
    },
    {
      "cell_type": "markdown",
      "metadata": {
        "id": "7Tl3kLziPrBv"
      },
      "source": [
        "Using a for loop to iterate over a list only gives you access to every list element in each run, one after the other. If you also want to access the index information (so where the list element you're iterating over is located) you can use `enumerate()`."
      ]
    },
    {
      "cell_type": "code",
      "metadata": {
        "id": "LUQUO3zUPqRV"
      },
      "source": [
        "for item,item_price in enumerate(prices):\n",
        "  print(\"Item \" + str(item) + ' costs $' + str(item_price))"
      ],
      "execution_count": null,
      "outputs": []
    },
    {
      "cell_type": "markdown",
      "metadata": {
        "id": "hCAtaulfR84_"
      },
      "source": [
        "Correct the item index"
      ]
    },
    {
      "cell_type": "code",
      "metadata": {
        "id": "7R7W16O9QXcc"
      },
      "source": [
        "for item,item_price in enumerate(prices):\n",
        "  item_corrected = item + 1\n",
        "  print(\"Item \" + str(item_corrected) + ' costs $' + str(item_price))"
      ],
      "execution_count": null,
      "outputs": []
    },
    {
      "cell_type": "markdown",
      "metadata": {
        "id": "QdT22Fs4R_BD"
      },
      "source": [
        "Add meaningful names"
      ]
    },
    {
      "cell_type": "code",
      "metadata": {
        "id": "n7-et8I0Qgur"
      },
      "source": [
        "item_names = [\"laptop\",\"monitor\",\"notebook\",\"chair\",\"table\"]\n",
        "\n",
        "for item,item_price in enumerate(prices):\n",
        "  item_name = item_names[item]\n",
        "  print(item_name)"
      ],
      "execution_count": null,
      "outputs": []
    },
    {
      "cell_type": "code",
      "metadata": {
        "id": "NnkcP0dwQ_LE"
      },
      "source": [
        "item_names = [\"laptop\",\"monitor\",\"notebook\",\"chair\",\"table\"]\n",
        "\n",
        "for item,item_price in enumerate(prices):\n",
        "  item_name = item_names[item]\n",
        "  print(item_name + ' costs $' + str(item_price))"
      ],
      "execution_count": null,
      "outputs": []
    },
    {
      "cell_type": "markdown",
      "metadata": {
        "id": "u-eW5h9ER44K"
      },
      "source": [
        "**Iterating over multiple lists**"
      ]
    },
    {
      "cell_type": "code",
      "metadata": {
        "id": "5QZqnWE6RQRW"
      },
      "source": [
        "item_names = [\"laptop\",\"monitor\",\"notebook\",\"chair\",\"table\"]\n",
        "item_prices = [1200,100,3,30,100]\n",
        "\n",
        "for item_name,item_price in zip(item_names,item_prices):\n",
        "  print(item_name + ' costs $' + str(item_price))"
      ],
      "execution_count": null,
      "outputs": []
    },
    {
      "cell_type": "markdown",
      "metadata": {
        "id": "YJn2rXHOSCJs"
      },
      "source": [
        "**Iterate over list of lists**"
      ]
    },
    {
      "cell_type": "code",
      "metadata": {
        "id": "sBd1IKWTRruR"
      },
      "source": [
        "# price list of lists\n",
        "prices = [[\"laptop\",1200],[\"monitor\",100],[\"notebook\",3],[\"chair\",30],[\"table\",100]]\n",
        "         \n",
        "# Build a for loop from scratch\n",
        "for set in prices:\n",
        "    print(set[0] + ' costs $' + str(set[1]))"
      ],
      "execution_count": null,
      "outputs": []
    },
    {
      "cell_type": "markdown",
      "metadata": {
        "id": "Im73CITzUhyF"
      },
      "source": [
        "# Plotting"
      ]
    },
    {
      "cell_type": "markdown",
      "metadata": {
        "id": "2WeHHHbyUrfr"
      },
      "source": [
        "Basic line plot"
      ]
    },
    {
      "cell_type": "code",
      "metadata": {
        "id": "b9eF7RA8Ukun"
      },
      "source": [
        "import matplotlib.pyplot as plt\n",
        "import pandas as pd"
      ],
      "execution_count": null,
      "outputs": []
    },
    {
      "cell_type": "code",
      "metadata": {
        "id": "-yEK3trGUu31"
      },
      "source": [
        "# get some data from  sample data folder\n",
        "data = pd.read_csv(\"/content/sample_data/california_housing_train.csv\")"
      ],
      "execution_count": null,
      "outputs": []
    },
    {
      "cell_type": "code",
      "metadata": {
        "id": "DxyQt8feWJku"
      },
      "source": [
        "# extract two random columns\n",
        "age = list(data['housing_median_age'])\n",
        "rooms = list(data['total_rooms'])"
      ],
      "execution_count": null,
      "outputs": []
    },
    {
      "cell_type": "markdown",
      "metadata": {
        "id": "jsusz03zEpf2"
      },
      "source": [
        "**Basic line plot**"
      ]
    },
    {
      "cell_type": "code",
      "metadata": {
        "id": "dFTz-gBkWqoM"
      },
      "source": [
        "# not a great example \n",
        "# typically x axis is time\n",
        "plt.plot(age,rooms)"
      ],
      "execution_count": null,
      "outputs": []
    },
    {
      "cell_type": "markdown",
      "metadata": {
        "id": "0GlmM6ZuEuLs"
      },
      "source": [
        "**Customize x axis**"
      ]
    },
    {
      "cell_type": "code",
      "metadata": {
        "id": "mojIvhSFXII1"
      },
      "source": [
        "plt.xscale(\"log\")"
      ],
      "execution_count": null,
      "outputs": []
    },
    {
      "cell_type": "markdown",
      "metadata": {
        "id": "uRVI8al8Ez97"
      },
      "source": [
        "**Scatter plot**"
      ]
    },
    {
      "cell_type": "code",
      "metadata": {
        "id": "wfI3Vb82EzNo"
      },
      "source": [
        "plt.scatter(age,rooms)"
      ],
      "execution_count": null,
      "outputs": []
    },
    {
      "cell_type": "markdown",
      "metadata": {
        "id": "SJ6odSL3E59N"
      },
      "source": [
        "**Histogram**"
      ]
    },
    {
      "cell_type": "code",
      "metadata": {
        "id": "2MflWxoUXg0N"
      },
      "source": [
        "plt.hist(age)\n",
        "plt.clf()\n",
        "# histogram with bins\n",
        "plt.hist(age,bins=30)"
      ],
      "execution_count": null,
      "outputs": []
    },
    {
      "cell_type": "markdown",
      "metadata": {
        "id": "A72I57tSX7oA"
      },
      "source": [
        "**Add axis labelst**\n",
        "```\n",
        "plt.xlabel(xlab)  \n",
        "plt.ylabel(ylab)  \n",
        "plt.title(title)\n",
        "```\n",
        "**Example of tick_val and tick_lab**\n",
        "\n",
        "```\n",
        "tick_val = [1000,10000,100000]  \n",
        "tick_lab = ['1k','10k','100k'] \n",
        "``` \n",
        "\n",
        "**Example of setting size**\n",
        "\n",
        "```\n",
        "# plt.scatter(x,y, s = z)\n",
        "```"
      ]
    },
    {
      "cell_type": "markdown",
      "metadata": {
        "id": "oQeoI7Z4Yv2M"
      },
      "source": [
        "# Pandas"
      ]
    },
    {
      "cell_type": "code",
      "metadata": {
        "id": "hzeF-rmgYvUn"
      },
      "source": [
        "# Some pre-defined lists\n",
        "names = ['Earth', 'Mars', 'Jupiter', 'Saturn', 'Uranus', 'Venus', 'Mercury']\n",
        "moons =  [True, False, True, True, True, False, False]\n",
        "radius = [6378, 3396, 71492, 60268, 25559, 6051, 2439]\n",
        "\n",
        "# Import pandas as pd\n",
        "import pandas as pd\n",
        "\n",
        "# Create dictionary \n",
        "solar_system_dict = {'planet':names, 'has_moons':moons, 'radius':radius}\n",
        "\n",
        "# Build a DataFrame \n",
        "solar_system = pd.DataFrame(solar_system_dict)"
      ],
      "execution_count": 2,
      "outputs": []
    },
    {
      "cell_type": "code",
      "metadata": {
        "colab": {
          "base_uri": "https://localhost:8080/",
          "height": 266
        },
        "id": "5OTZqAIDbbAD",
        "outputId": "423dbd21-0436-4514-c623-72ad8390d79e"
      },
      "source": [
        "solar_system"
      ],
      "execution_count": 34,
      "outputs": [
        {
          "output_type": "execute_result",
          "data": {
            "text/html": [
              "<div>\n",
              "<style scoped>\n",
              "    .dataframe tbody tr th:only-of-type {\n",
              "        vertical-align: middle;\n",
              "    }\n",
              "\n",
              "    .dataframe tbody tr th {\n",
              "        vertical-align: top;\n",
              "    }\n",
              "\n",
              "    .dataframe thead th {\n",
              "        text-align: right;\n",
              "    }\n",
              "</style>\n",
              "<table border=\"1\" class=\"dataframe\">\n",
              "  <thead>\n",
              "    <tr style=\"text-align: right;\">\n",
              "      <th></th>\n",
              "      <th>planet</th>\n",
              "      <th>has_moons</th>\n",
              "      <th>radius</th>\n",
              "    </tr>\n",
              "  </thead>\n",
              "  <tbody>\n",
              "    <tr>\n",
              "      <th>3</th>\n",
              "      <td>Earth</td>\n",
              "      <td>True</td>\n",
              "      <td>6378</td>\n",
              "    </tr>\n",
              "    <tr>\n",
              "      <th>4</th>\n",
              "      <td>Mars</td>\n",
              "      <td>False</td>\n",
              "      <td>3396</td>\n",
              "    </tr>\n",
              "    <tr>\n",
              "      <th>5</th>\n",
              "      <td>Jupiter</td>\n",
              "      <td>True</td>\n",
              "      <td>71492</td>\n",
              "    </tr>\n",
              "    <tr>\n",
              "      <th>6</th>\n",
              "      <td>Saturn</td>\n",
              "      <td>True</td>\n",
              "      <td>60268</td>\n",
              "    </tr>\n",
              "    <tr>\n",
              "      <th>7</th>\n",
              "      <td>Uranus</td>\n",
              "      <td>True</td>\n",
              "      <td>25559</td>\n",
              "    </tr>\n",
              "    <tr>\n",
              "      <th>2</th>\n",
              "      <td>Venus</td>\n",
              "      <td>False</td>\n",
              "      <td>6051</td>\n",
              "    </tr>\n",
              "    <tr>\n",
              "      <th>1</th>\n",
              "      <td>Mercury</td>\n",
              "      <td>False</td>\n",
              "      <td>2439</td>\n",
              "    </tr>\n",
              "  </tbody>\n",
              "</table>\n",
              "</div>"
            ],
            "text/plain": [
              "    planet  has_moons  radius\n",
              "3    Earth       True    6378\n",
              "4     Mars      False    3396\n",
              "5  Jupiter       True   71492\n",
              "6   Saturn       True   60268\n",
              "7   Uranus       True   25559\n",
              "2    Venus      False    6051\n",
              "1  Mercury      False    2439"
            ]
          },
          "metadata": {},
          "execution_count": 34
        }
      ]
    },
    {
      "cell_type": "code",
      "metadata": {
        "id": "tAM1MOyXbdII"
      },
      "source": [
        "# Definition of row_labels\n",
        "# define row labels as the position of the planet from sun\n",
        "row_labels = ['3', '4', '5', '6', '7', '2', '1']\n",
        "# Specify row labels of cars\n",
        "solar_system.index = row_labels"
      ],
      "execution_count": 4,
      "outputs": []
    },
    {
      "cell_type": "markdown",
      "metadata": {
        "id": "29LChfr0cC-X"
      },
      "source": [
        "**Indexing**\n",
        "\n",
        "The simplest, but not the most powerful way, is to use square brackets.\n",
        "\n",
        "The single bracket version gives a Pandas Series, the double bracket version gives a Pandas DataFrame.\n",
        "\n",
        "Stick to one - for subsetting I like to use `[[]]`"
      ]
    },
    {
      "cell_type": "code",
      "metadata": {
        "id": "uQql1byqcB3M"
      },
      "source": [
        "# Print out has moons column as Pandas Series - single quotes\n",
        "print(solar_system['has_moons'])\n",
        "# Print out has moons column as Pandas DataFrame - double quotes\n",
        "print(solar_system[['has_moons']])\n",
        "# Print out DataFrame with radius and has moons\n",
        "print(solar_system[['radius','has_moons']])"
      ],
      "execution_count": null,
      "outputs": []
    },
    {
      "cell_type": "markdown",
      "metadata": {
        "id": "h8kxyiUHce26"
      },
      "source": [
        "Square brackets can do more than just selecting columns. You can also use them to get rows, or observations, from a DataFrame. The following call selects the first five rows from the cars DataFrame: `df[0:5]`\n",
        "\n",
        "The result is another DataFrame containing only the rows you specified.\n",
        "\n",
        "**Pay attention: You can only select rows using square brackets if you specify a slice, like 0:4. Also, you're using the integer indexes of the rows here, not the row labels!**"
      ]
    },
    {
      "cell_type": "code",
      "metadata": {
        "id": "rLRpKQHtcSso"
      },
      "source": [
        "# Print out first 3 observations\n",
        "print(solar_system[0:3])\n",
        "# Print out fourth, fifth and sixth observation\n",
        "print(solar_system[3:6])"
      ],
      "execution_count": null,
      "outputs": []
    },
    {
      "cell_type": "markdown",
      "metadata": {
        "id": "oC7cKm_2r8IO"
      },
      "source": [
        "Using loc and iloc to get rows more flexibly"
      ]
    },
    {
      "cell_type": "code",
      "metadata": {
        "colab": {
          "base_uri": "https://localhost:8080/",
          "height": 80
        },
        "id": "xwjP65aIikxR",
        "outputId": "bdb6b52a-0d32-482d-a1f5-c2d31630eae1"
      },
      "source": [
        "# row that corresponds to index with position from sun = 3\n",
        "solar_system.loc['3']\n",
        "solar_system.loc[['3']]"
      ],
      "execution_count": 42,
      "outputs": [
        {
          "output_type": "execute_result",
          "data": {
            "text/html": [
              "<div>\n",
              "<style scoped>\n",
              "    .dataframe tbody tr th:only-of-type {\n",
              "        vertical-align: middle;\n",
              "    }\n",
              "\n",
              "    .dataframe tbody tr th {\n",
              "        vertical-align: top;\n",
              "    }\n",
              "\n",
              "    .dataframe thead th {\n",
              "        text-align: right;\n",
              "    }\n",
              "</style>\n",
              "<table border=\"1\" class=\"dataframe\">\n",
              "  <thead>\n",
              "    <tr style=\"text-align: right;\">\n",
              "      <th></th>\n",
              "      <th>planet</th>\n",
              "      <th>has_moons</th>\n",
              "      <th>radius</th>\n",
              "    </tr>\n",
              "  </thead>\n",
              "  <tbody>\n",
              "    <tr>\n",
              "      <th>3</th>\n",
              "      <td>Earth</td>\n",
              "      <td>True</td>\n",
              "      <td>6378</td>\n",
              "    </tr>\n",
              "  </tbody>\n",
              "</table>\n",
              "</div>"
            ],
            "text/plain": [
              "  planet  has_moons  radius\n",
              "3  Earth       True    6378"
            ]
          },
          "metadata": {},
          "execution_count": 42
        }
      ]
    },
    {
      "cell_type": "code",
      "metadata": {
        "colab": {
          "base_uri": "https://localhost:8080/",
          "height": 80
        },
        "id": "l0u52R6hjAjU",
        "outputId": "6e50fbf4-ccc5-44a7-d515-e80bf85b7e47"
      },
      "source": [
        "# But this is the 3rd (0,1,2) row in data\n",
        "solar_system.iloc[2]\n",
        "solar_system.iloc[[2]]"
      ],
      "execution_count": 45,
      "outputs": [
        {
          "output_type": "execute_result",
          "data": {
            "text/html": [
              "<div>\n",
              "<style scoped>\n",
              "    .dataframe tbody tr th:only-of-type {\n",
              "        vertical-align: middle;\n",
              "    }\n",
              "\n",
              "    .dataframe tbody tr th {\n",
              "        vertical-align: top;\n",
              "    }\n",
              "\n",
              "    .dataframe thead th {\n",
              "        text-align: right;\n",
              "    }\n",
              "</style>\n",
              "<table border=\"1\" class=\"dataframe\">\n",
              "  <thead>\n",
              "    <tr style=\"text-align: right;\">\n",
              "      <th></th>\n",
              "      <th>planet</th>\n",
              "      <th>has_moons</th>\n",
              "      <th>radius</th>\n",
              "    </tr>\n",
              "  </thead>\n",
              "  <tbody>\n",
              "    <tr>\n",
              "      <th>5</th>\n",
              "      <td>Jupiter</td>\n",
              "      <td>True</td>\n",
              "      <td>71492</td>\n",
              "    </tr>\n",
              "  </tbody>\n",
              "</table>\n",
              "</div>"
            ],
            "text/plain": [
              "    planet  has_moons  radius\n",
              "5  Jupiter       True   71492"
            ]
          },
          "metadata": {},
          "execution_count": 45
        }
      ]
    },
    {
      "cell_type": "markdown",
      "metadata": {
        "id": "Xum9MctilZov"
      },
      "source": [
        "Select row and column using loc and iloc. General syntax dataframe.iloc[[row selection],[column selection]]"
      ]
    },
    {
      "cell_type": "code",
      "metadata": {
        "colab": {
          "base_uri": "https://localhost:8080/",
          "height": 111
        },
        "id": "MYuPw-QjsTNX",
        "outputId": "be25fcab-9eb7-4b33-9c39-23e359eb145f"
      },
      "source": [
        "# pick out rows 2nd and 3rd (0,1,2) and 3rd (0,1,2) column\n",
        "solar_system.iloc[[1,2],[2]]"
      ],
      "execution_count": 52,
      "outputs": [
        {
          "output_type": "execute_result",
          "data": {
            "text/html": [
              "<div>\n",
              "<style scoped>\n",
              "    .dataframe tbody tr th:only-of-type {\n",
              "        vertical-align: middle;\n",
              "    }\n",
              "\n",
              "    .dataframe tbody tr th {\n",
              "        vertical-align: top;\n",
              "    }\n",
              "\n",
              "    .dataframe thead th {\n",
              "        text-align: right;\n",
              "    }\n",
              "</style>\n",
              "<table border=\"1\" class=\"dataframe\">\n",
              "  <thead>\n",
              "    <tr style=\"text-align: right;\">\n",
              "      <th></th>\n",
              "      <th>radius</th>\n",
              "    </tr>\n",
              "  </thead>\n",
              "  <tbody>\n",
              "    <tr>\n",
              "      <th>4</th>\n",
              "      <td>3396</td>\n",
              "    </tr>\n",
              "    <tr>\n",
              "      <th>5</th>\n",
              "      <td>71492</td>\n",
              "    </tr>\n",
              "  </tbody>\n",
              "</table>\n",
              "</div>"
            ],
            "text/plain": [
              "   radius\n",
              "4    3396\n",
              "5   71492"
            ]
          },
          "metadata": {},
          "execution_count": 52
        }
      ]
    },
    {
      "cell_type": "markdown",
      "metadata": {
        "id": "0olQmmfYu3EI"
      },
      "source": [
        "Selecting all rows or columns. One can use the : symbol. However, when you use this there is no need to wrap this around [] brackets"
      ]
    },
    {
      "cell_type": "code",
      "metadata": {
        "id": "C2lrPT0fuKMP"
      },
      "source": [
        "# selecting all rows\n",
        "solar_system.iloc[:,[0,1]]"
      ],
      "execution_count": null,
      "outputs": []
    },
    {
      "cell_type": "code",
      "metadata": {
        "colab": {
          "base_uri": "https://localhost:8080/",
          "height": 111
        },
        "id": "DRG-3eHiuk5A",
        "outputId": "2e3d4977-952c-418a-f7ae-b13baf8f6f7e"
      },
      "source": [
        "# selecting all cols\n",
        "solar_system.iloc[[0,1,2],:]\n",
        "solar_system.iloc[0:2,:]"
      ],
      "execution_count": 60,
      "outputs": [
        {
          "output_type": "execute_result",
          "data": {
            "text/html": [
              "<div>\n",
              "<style scoped>\n",
              "    .dataframe tbody tr th:only-of-type {\n",
              "        vertical-align: middle;\n",
              "    }\n",
              "\n",
              "    .dataframe tbody tr th {\n",
              "        vertical-align: top;\n",
              "    }\n",
              "\n",
              "    .dataframe thead th {\n",
              "        text-align: right;\n",
              "    }\n",
              "</style>\n",
              "<table border=\"1\" class=\"dataframe\">\n",
              "  <thead>\n",
              "    <tr style=\"text-align: right;\">\n",
              "      <th></th>\n",
              "      <th>planet</th>\n",
              "      <th>has_moons</th>\n",
              "      <th>radius</th>\n",
              "    </tr>\n",
              "  </thead>\n",
              "  <tbody>\n",
              "    <tr>\n",
              "      <th>3</th>\n",
              "      <td>Earth</td>\n",
              "      <td>True</td>\n",
              "      <td>6378</td>\n",
              "    </tr>\n",
              "    <tr>\n",
              "      <th>4</th>\n",
              "      <td>Mars</td>\n",
              "      <td>False</td>\n",
              "      <td>3396</td>\n",
              "    </tr>\n",
              "  </tbody>\n",
              "</table>\n",
              "</div>"
            ],
            "text/plain": [
              "  planet  has_moons  radius\n",
              "3  Earth       True    6378\n",
              "4   Mars      False    3396"
            ]
          },
          "metadata": {},
          "execution_count": 60
        }
      ]
    },
    {
      "cell_type": "markdown",
      "metadata": {
        "id": "row6jw9tntV-"
      },
      "source": [
        "**Filter rows**\n",
        "\n",
        "Here I prefer to use Pandas Series. So stick to single brackets `[]`"
      ]
    },
    {
      "cell_type": "code",
      "metadata": {
        "colab": {
          "base_uri": "https://localhost:8080/",
          "height": 173
        },
        "id": "fXDu9mzUnvXw",
        "outputId": "835604ee-f94d-48cc-cf4b-57b22f1c18d4"
      },
      "source": [
        "# get selection where moons is true\n",
        "moon_true = solar_system['has_moons'] == True\n",
        "# then subset using sq brackets\n",
        "selection = solar_system[moon_true]\n",
        "selection"
      ],
      "execution_count": 3,
      "outputs": [
        {
          "output_type": "execute_result",
          "data": {
            "text/html": [
              "<div>\n",
              "<style scoped>\n",
              "    .dataframe tbody tr th:only-of-type {\n",
              "        vertical-align: middle;\n",
              "    }\n",
              "\n",
              "    .dataframe tbody tr th {\n",
              "        vertical-align: top;\n",
              "    }\n",
              "\n",
              "    .dataframe thead th {\n",
              "        text-align: right;\n",
              "    }\n",
              "</style>\n",
              "<table border=\"1\" class=\"dataframe\">\n",
              "  <thead>\n",
              "    <tr style=\"text-align: right;\">\n",
              "      <th></th>\n",
              "      <th>planet</th>\n",
              "      <th>has_moons</th>\n",
              "      <th>radius</th>\n",
              "    </tr>\n",
              "  </thead>\n",
              "  <tbody>\n",
              "    <tr>\n",
              "      <th>0</th>\n",
              "      <td>Earth</td>\n",
              "      <td>True</td>\n",
              "      <td>6378</td>\n",
              "    </tr>\n",
              "    <tr>\n",
              "      <th>2</th>\n",
              "      <td>Jupiter</td>\n",
              "      <td>True</td>\n",
              "      <td>71492</td>\n",
              "    </tr>\n",
              "    <tr>\n",
              "      <th>3</th>\n",
              "      <td>Saturn</td>\n",
              "      <td>True</td>\n",
              "      <td>60268</td>\n",
              "    </tr>\n",
              "    <tr>\n",
              "      <th>4</th>\n",
              "      <td>Uranus</td>\n",
              "      <td>True</td>\n",
              "      <td>25559</td>\n",
              "    </tr>\n",
              "  </tbody>\n",
              "</table>\n",
              "</div>"
            ],
            "text/plain": [
              "    planet  has_moons  radius\n",
              "0    Earth       True    6378\n",
              "2  Jupiter       True   71492\n",
              "3   Saturn       True   60268\n",
              "4   Uranus       True   25559"
            ]
          },
          "metadata": {},
          "execution_count": 3
        }
      ]
    },
    {
      "cell_type": "markdown",
      "metadata": {
        "id": "3UIAwvgAyYc8"
      },
      "source": [
        "In one shot. Syntax : `df[df[col] & condition]`\n",
        "\n"
      ]
    },
    {
      "cell_type": "code",
      "metadata": {
        "colab": {
          "base_uri": "https://localhost:8080/",
          "height": 173
        },
        "id": "AcSmI2iCpQ-l",
        "outputId": "218947ef-4025-41fc-8d48-71f962e28624"
      },
      "source": [
        "solar_system[solar_system['has_moons'] == True]"
      ],
      "execution_count": 64,
      "outputs": [
        {
          "output_type": "execute_result",
          "data": {
            "text/html": [
              "<div>\n",
              "<style scoped>\n",
              "    .dataframe tbody tr th:only-of-type {\n",
              "        vertical-align: middle;\n",
              "    }\n",
              "\n",
              "    .dataframe tbody tr th {\n",
              "        vertical-align: top;\n",
              "    }\n",
              "\n",
              "    .dataframe thead th {\n",
              "        text-align: right;\n",
              "    }\n",
              "</style>\n",
              "<table border=\"1\" class=\"dataframe\">\n",
              "  <thead>\n",
              "    <tr style=\"text-align: right;\">\n",
              "      <th></th>\n",
              "      <th>planet</th>\n",
              "      <th>has_moons</th>\n",
              "      <th>radius</th>\n",
              "    </tr>\n",
              "  </thead>\n",
              "  <tbody>\n",
              "    <tr>\n",
              "      <th>3</th>\n",
              "      <td>Earth</td>\n",
              "      <td>True</td>\n",
              "      <td>6378</td>\n",
              "    </tr>\n",
              "    <tr>\n",
              "      <th>5</th>\n",
              "      <td>Jupiter</td>\n",
              "      <td>True</td>\n",
              "      <td>71492</td>\n",
              "    </tr>\n",
              "    <tr>\n",
              "      <th>6</th>\n",
              "      <td>Saturn</td>\n",
              "      <td>True</td>\n",
              "      <td>60268</td>\n",
              "    </tr>\n",
              "    <tr>\n",
              "      <th>7</th>\n",
              "      <td>Uranus</td>\n",
              "      <td>True</td>\n",
              "      <td>25559</td>\n",
              "    </tr>\n",
              "  </tbody>\n",
              "</table>\n",
              "</div>"
            ],
            "text/plain": [
              "    planet  has_moons  radius\n",
              "3    Earth       True    6378\n",
              "5  Jupiter       True   71492\n",
              "6   Saturn       True   60268\n",
              "7   Uranus       True   25559"
            ]
          },
          "metadata": {},
          "execution_count": 64
        }
      ]
    },
    {
      "cell_type": "code",
      "metadata": {
        "colab": {
          "base_uri": "https://localhost:8080/",
          "height": 142
        },
        "id": "lhv8Yu64phr4",
        "outputId": "1653afd1-9498-4dbb-efba-cca38f02c008"
      },
      "source": [
        "large_planet = solar_system[solar_system['radius'] > 25500]\n",
        "large_planet"
      ],
      "execution_count": 31,
      "outputs": [
        {
          "output_type": "execute_result",
          "data": {
            "text/html": [
              "<div>\n",
              "<style scoped>\n",
              "    .dataframe tbody tr th:only-of-type {\n",
              "        vertical-align: middle;\n",
              "    }\n",
              "\n",
              "    .dataframe tbody tr th {\n",
              "        vertical-align: top;\n",
              "    }\n",
              "\n",
              "    .dataframe thead th {\n",
              "        text-align: right;\n",
              "    }\n",
              "</style>\n",
              "<table border=\"1\" class=\"dataframe\">\n",
              "  <thead>\n",
              "    <tr style=\"text-align: right;\">\n",
              "      <th></th>\n",
              "      <th>planet</th>\n",
              "      <th>has_moons</th>\n",
              "      <th>radius</th>\n",
              "    </tr>\n",
              "  </thead>\n",
              "  <tbody>\n",
              "    <tr>\n",
              "      <th>5</th>\n",
              "      <td>Jupiter</td>\n",
              "      <td>True</td>\n",
              "      <td>71492</td>\n",
              "    </tr>\n",
              "    <tr>\n",
              "      <th>6</th>\n",
              "      <td>Saturn</td>\n",
              "      <td>True</td>\n",
              "      <td>60268</td>\n",
              "    </tr>\n",
              "    <tr>\n",
              "      <th>7</th>\n",
              "      <td>Uranus</td>\n",
              "      <td>True</td>\n",
              "      <td>25559</td>\n",
              "    </tr>\n",
              "  </tbody>\n",
              "</table>\n",
              "</div>"
            ],
            "text/plain": [
              "    planet  has_moons  radius\n",
              "5  Jupiter       True   71492\n",
              "6   Saturn       True   60268\n",
              "7   Uranus       True   25559"
            ]
          },
          "metadata": {},
          "execution_count": 31
        }
      ]
    }
  ]
}