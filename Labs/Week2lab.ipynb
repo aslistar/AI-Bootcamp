{
  "nbformat": 4,
  "nbformat_minor": 0,
  "metadata": {
    "colab": {
      "name": "Week2lab.ipynb",
      "provenance": [],
      "mount_file_id": "1IJQjaaBFyoRXBF87HnS6E1efY0v9SgqI",
      "authorship_tag": "ABX9TyNSgbfLu0i+NYTmiq8yNhSs",
      "include_colab_link": true
    },
    "kernelspec": {
      "name": "python3",
      "display_name": "Python 3"
    },
    "language_info": {
      "name": "python"
    }
  },
  "cells": [
    {
      "cell_type": "markdown",
      "metadata": {
        "id": "view-in-github",
        "colab_type": "text"
      },
      "source": [
        "<a href=\"https://colab.research.google.com/github/pallavrouth/AI-Bootcamp/blob/main/Labs/Week2lab.ipynb\" target=\"_parent\"><img src=\"https://colab.research.google.com/assets/colab-badge.svg\" alt=\"Open In Colab\"/></a>"
      ]
    },
    {
      "cell_type": "markdown",
      "metadata": {
        "id": "8qm_nwA0yb0F"
      },
      "source": [
        "# Monday"
      ]
    },
    {
      "cell_type": "code",
      "metadata": {
        "id": "Il6eOiQeyZHq"
      },
      "source": [
        "# a list of prices\n",
        "prices = [1200,100,600,50,30]"
      ],
      "execution_count": null,
      "outputs": []
    },
    {
      "cell_type": "code",
      "metadata": {
        "id": "4lgcgGMqK88G"
      },
      "source": [
        "# task : print these prices\n",
        "for i in prices:\n",
        "  print(i)"
      ],
      "execution_count": null,
      "outputs": []
    },
    {
      "cell_type": "code",
      "metadata": {
        "id": "RsWA3OwcMNDW"
      },
      "source": [
        "# use a meaningful name to refer to each element in the list\n",
        "for price in prices:\n",
        "  print(price)"
      ],
      "execution_count": null,
      "outputs": []
    },
    {
      "cell_type": "code",
      "metadata": {
        "id": "aM5u6U9zNNSv",
        "colab": {
          "base_uri": "https://localhost:8080/"
        },
        "outputId": "3854f1a8-47e5-4e30-8d70-bae63003e20a"
      },
      "source": [
        "# task 2 : assign whether or not each item is costly\n",
        "# and then store it instead of printing\n",
        "\n",
        "# a empty list where you will store the information\n",
        "output = []\n",
        "\n",
        "for price in prices:\n",
        "  # pay attention to the indentation here\n",
        "  # if else for whether or not a price is costly\n",
        "  if price > 100:\n",
        "    result = \"expensive\"\n",
        "    # append this information to output list\n",
        "    output.append(result)\n",
        "  else :\n",
        "    result = \"cheap\"\n",
        "    output.append(result)\n",
        "\n",
        "print(output)"
      ],
      "execution_count": null,
      "outputs": [
        {
          "output_type": "stream",
          "text": [
            "['expensive', 'cheap', 'expensive', 'cheap', 'cheap']\n"
          ],
          "name": "stdout"
        }
      ]
    },
    {
      "cell_type": "code",
      "metadata": {
        "id": "FIwfoifrPur1"
      },
      "source": [
        "# Instead of the simple output above, I want something more meaningful/detailed\n",
        "# the output should return a tuple with the item name, item price and whether or \n",
        "# not it is expensive\n",
        "meaningful_output = [('laptop',1200,'expensive'),\n",
        "                     ('monitor',100,'cheap'),\n",
        "                     ('phone',600,'expensive'),\n",
        "                     ('keyboard',50,'cheap'),\n",
        "                     ('mouse',30,'cheap')]"
      ],
      "execution_count": null,
      "outputs": []
    },
    {
      "cell_type": "code",
      "metadata": {
        "id": "ercwKuxIQUKl"
      },
      "source": [
        "# a empty list where you will store the information\n",
        "meaninful_output2 = []\n",
        "\n",
        "for price in prices:\n",
        "  if price > 100:\n",
        "    # create a tuple with item price and whether or not expensive\n",
        "    result = (price,\"expensive\")\n",
        "    # append this information to meaningful output list\n",
        "    meaninful_output2.append(result)\n",
        "  else :\n",
        "    result = (price,\"cheap\")\n",
        "    meaninful_output2.append(result)"
      ],
      "execution_count": null,
      "outputs": []
    },
    {
      "cell_type": "code",
      "metadata": {
        "colab": {
          "base_uri": "https://localhost:8080/"
        },
        "id": "YZhEoxYnQ5ql",
        "outputId": "cfa37417-e7e7-4ed4-8650-eace286210aa"
      },
      "source": [
        "print(meaninful_output2)"
      ],
      "execution_count": null,
      "outputs": [
        {
          "output_type": "stream",
          "text": [
            "[(1200, 'expensive'), (100, 'cheap'), (600, 'expensive'), (50, 'cheap'), (30, 'cheap')]\n"
          ],
          "name": "stdout"
        }
      ]
    },
    {
      "cell_type": "code",
      "metadata": {
        "id": "5EjDjyPQRCnk",
        "colab": {
          "base_uri": "https://localhost:8080/",
          "height": 37
        },
        "outputId": "eaa576d5-f066-4133-e16c-b5ec39ff3dd1"
      },
      "source": [
        "# But how do we add the item name for each corresponding prices\n",
        "prices = [1200,100,600,50,30]\n",
        "room_items = ['laptop','monitor','phone','keyboard','mouse']\n",
        "# This can be done by accessing the index/positions of the price list.\n",
        "# I can use the index of price list to look up the items\n",
        "# So price of 1200 has an index/position of 0. room_items[0] gives us 'laptop'\n",
        "room_items[0]"
      ],
      "execution_count": null,
      "outputs": [
        {
          "output_type": "execute_result",
          "data": {
            "application/vnd.google.colaboratory.intrinsic+json": {
              "type": "string"
            },
            "text/plain": [
              "'laptop'"
            ]
          },
          "metadata": {},
          "execution_count": 7
        }
      ]
    },
    {
      "cell_type": "code",
      "metadata": {
        "colab": {
          "base_uri": "https://localhost:8080/"
        },
        "id": "qHEKdmaeS3jA",
        "outputId": "9c7eb0b1-c176-4090-c115-18466a960f31"
      },
      "source": [
        "# to see how this works \n",
        "# print out the index of \n",
        "# each price in prices list\n",
        "# also you have to use enumerate now\n",
        "# pay attention to the for statement\n",
        "# it follows this general syntax\n",
        "# for index,item in enumerate(list_name)\n",
        "for position,i in enumerate(prices):\n",
        "  print(position,i)"
      ],
      "execution_count": null,
      "outputs": [
        {
          "output_type": "stream",
          "text": [
            "0 1200\n",
            "1 100\n",
            "2 600\n",
            "3 50\n",
            "4 30\n"
          ],
          "name": "stdout"
        }
      ]
    },
    {
      "cell_type": "code",
      "metadata": {
        "id": "UAi2BzTXRNXH",
        "colab": {
          "base_uri": "https://localhost:8080/"
        },
        "outputId": "96bfcae3-7d61-4382-ebb7-7a9de42c7751"
      },
      "source": [
        "# now use the above tool to add item name information\n",
        "meaninful_output2 = []\n",
        "\n",
        "for position,price in enumerate(prices):\n",
        "  if price > 100:\n",
        "    # I am accessing item name using the position/index information\n",
        "    item = room_items[position]\n",
        "    # saving all of that in a tuple\n",
        "    result = (item,price,\"expensive\")\n",
        "    # append this information to meaningful output list\n",
        "    meaninful_output2.append(result)\n",
        "  else :\n",
        "    item = room_items[position]\n",
        "    result = (item,price,\"cheap\")\n",
        "    meaninful_output2.append(result)\n",
        "\n",
        "meaninful_output2"
      ],
      "execution_count": null,
      "outputs": [
        {
          "output_type": "execute_result",
          "data": {
            "text/plain": [
              "[('laptop', 1200, 'expensive'),\n",
              " ('monitor', 100, 'cheap'),\n",
              " ('phone', 600, 'expensive'),\n",
              " ('keyboard', 50, 'cheap'),\n",
              " ('mouse', 30, 'cheap')]"
            ]
          },
          "metadata": {},
          "execution_count": 8
        }
      ]
    },
    {
      "cell_type": "code",
      "metadata": {
        "colab": {
          "base_uri": "https://localhost:8080/"
        },
        "id": "y9tAa5rBVMvp",
        "outputId": "df8f1d80-4846-4e60-d227-ba7d2f55960b"
      },
      "source": [
        "meaninful_output2 = []\n",
        "\n",
        "for position,price in enumerate(prices):\n",
        "  if price > 100:\n",
        "    # I am accessing item name using the position/index information\n",
        "    item = room_items[position]\n",
        "    price_dollar = '$' + str(price)\n",
        "    # saving all of that in a tuple\n",
        "    result = (item,price_dollar,\"expensive\")\n",
        "    # append this information to meaningful output list\n",
        "    meaninful_output2.append(result)\n",
        "  else :\n",
        "    item = room_items[position]\n",
        "    price_dollar = '$' + str(price)\n",
        "    result = (item,price_dollar,\"cheap\")\n",
        "    meaninful_output2.append(result)\n",
        "\n",
        "print(meaninful_output2)"
      ],
      "execution_count": null,
      "outputs": [
        {
          "output_type": "stream",
          "text": [
            "[('laptop', '$1200', 'expensive'), ('monitor', '$100', 'cheap'), ('phone', '$600', 'expensive'), ('keyboard', '$50', 'cheap'), ('mouse', '$30', 'cheap')]\n"
          ],
          "name": "stdout"
        }
      ]
    },
    {
      "cell_type": "markdown",
      "metadata": {
        "id": "pa-1rR8_3aZC"
      },
      "source": [
        "Exercise on function"
      ]
    },
    {
      "cell_type": "code",
      "metadata": {
        "id": "SVsD7bJQW9nf"
      },
      "source": [
        "famous_quotes = [\"The greatest glory in living lies not in never falling, but in rising every time we fall.\",\n",
        "                 \"The way to get started is to quit talking and begin doing.\",\n",
        "                 \"If life were predictable it would cease to be life, and be without flavor.\",\n",
        "                 \"If you look at what you have in life, you'll always have more. If you look at what you don't have in life, you'll never have enough.\",\n",
        "                 \"If you set your goals ridiculously high and it's a failure, you will fail above everyone else's success.\"]"
      ],
      "execution_count": null,
      "outputs": []
    },
    {
      "cell_type": "code",
      "metadata": {
        "colab": {
          "base_uri": "https://localhost:8080/",
          "height": 37
        },
        "id": "Jse55S1eXJdN",
        "outputId": "21bc3b1b-5c64-4c53-a4db-e9d1d0218c66"
      },
      "source": [
        "# how do I calculate the number of words\n",
        "# for each sentence above\n",
        "# input - sentence/quote\n",
        "example = famous_quotes[0]\n",
        "example\n",
        "# I split by white space\n",
        "my_list = example.split(' ')\n",
        "# Count the number of words after \n",
        "# splitting using len\n",
        "len(my_list)"
      ],
      "execution_count": null,
      "outputs": [
        {
          "output_type": "execute_result",
          "data": {
            "application/vnd.google.colaboratory.intrinsic+json": {
              "type": "string"
            },
            "text/plain": [
              "'The greatest glory in living lies not in never falling, but in rising every time we fall.'"
            ]
          },
          "metadata": {},
          "execution_count": 13
        }
      ]
    },
    {
      "cell_type": "code",
      "metadata": {
        "id": "L9cwHnwyYQJO"
      },
      "source": [
        "# Incorporate above logic in a function\n",
        "def word_counter(sentence):\n",
        "  all_words = sentence.split(' ')\n",
        "  length_sentence = len(all_words)\n",
        "  return length_sentence"
      ],
      "execution_count": null,
      "outputs": []
    },
    {
      "cell_type": "code",
      "metadata": {
        "colab": {
          "base_uri": "https://localhost:8080/"
        },
        "id": "VifqTTv-Ytxo",
        "outputId": "4f6b85ac-55da-4c9e-aebc-6a8dbf0bf9cb"
      },
      "source": [
        "# test it on a function\n",
        "word_counter(famous_quotes[0])"
      ],
      "execution_count": null,
      "outputs": [
        {
          "output_type": "execute_result",
          "data": {
            "text/plain": [
              "27"
            ]
          },
          "metadata": {},
          "execution_count": 27
        }
      ]
    },
    {
      "cell_type": "code",
      "metadata": {
        "id": "gRBYP4_3ZKpD"
      },
      "source": [
        "# simply write a for loop to \n",
        "# apply your function to all \n",
        "# famous quotes\n",
        "for i in famous_quotes:\n",
        "  print(word_counter(i))"
      ],
      "execution_count": null,
      "outputs": []
    },
    {
      "cell_type": "code",
      "metadata": {
        "id": "Pe4gca-7Z4ti"
      },
      "source": [
        "# task 2 : for every quote assign \n",
        "# whether or not the quote is\n",
        "# too short or too long\n",
        "def word_counter(sentence):\n",
        "  all_words = sentence.split(' ')\n",
        "  length_sentence = len(all_words)\n",
        "  if length_sentence < 15 :\n",
        "    return 'short quote'\n",
        "  else :\n",
        "    return 'too long to memorise'"
      ],
      "execution_count": null,
      "outputs": []
    },
    {
      "cell_type": "code",
      "metadata": {
        "colab": {
          "base_uri": "https://localhost:8080/"
        },
        "id": "7ZRtlWdiaOtH",
        "outputId": "df5e48dc-5bf0-49ad-f441-9c4b3c9f6ce3"
      },
      "source": [
        "# again print this\n",
        "for i in famous_quotes:\n",
        "  print(word_counter(i))"
      ],
      "execution_count": null,
      "outputs": [
        {
          "output_type": "stream",
          "text": [
            "too long to memorise\n",
            "short quote\n",
            "short quote\n",
            "too long to memorise\n",
            "too long to memorise\n"
          ],
          "name": "stdout"
        }
      ]
    },
    {
      "cell_type": "code",
      "metadata": {
        "id": "qtlOpPDEaVCM"
      },
      "source": [
        "# we can re program our function to include \n",
        "# what threshold we want by using an additional\n",
        "# argument called threshold\n",
        "def word_counter(sentence,threshold):\n",
        "  all_words = sentence.split(' ')\n",
        "  length_sentence = len(all_words)\n",
        "  if length_sentence < threshold :\n",
        "    return 'short quote'\n",
        "  else :\n",
        "    return 'too long to memorise'"
      ],
      "execution_count": null,
      "outputs": []
    },
    {
      "cell_type": "code",
      "metadata": {
        "colab": {
          "base_uri": "https://localhost:8080/"
        },
        "id": "r80CFsgkae_x",
        "outputId": "c0a68e69-0c90-4284-a6ec-d6da6262781b"
      },
      "source": [
        "# dont forget to now use the second argument \n",
        "# threshold every time you call the function\n",
        "word_counter(sentence = famous_quotes[3],threshold = 30)\n",
        "\n",
        "# apply this function to all quotes with threshold set to 15\n",
        "for i in famous_quotes:\n",
        "  print(word_counter(i,15))"
      ],
      "execution_count": null,
      "outputs": [
        {
          "output_type": "stream",
          "text": [
            "too long to memorise\n",
            "short quote\n",
            "short quote\n",
            "too long to memorise\n",
            "too long to memorise\n"
          ],
          "name": "stdout"
        }
      ]
    },
    {
      "cell_type": "code",
      "metadata": {
        "colab": {
          "base_uri": "https://localhost:8080/"
        },
        "id": "KycnrokUbZU6",
        "outputId": "6a7001bc-01bb-493f-b3e9-a50e2af927b3"
      },
      "source": [
        "# apply this function to all quotes with threshold set to 20\n",
        "for i in famous_quotes:\n",
        "  print(word_counter(i,20))"
      ],
      "execution_count": null,
      "outputs": [
        {
          "output_type": "stream",
          "text": [
            "short quote\n",
            "short quote\n",
            "short quote\n",
            "too long to memorise\n",
            "short quote\n"
          ],
          "name": "stdout"
        }
      ]
    },
    {
      "cell_type": "code",
      "metadata": {
        "id": "e5lnnR5HcHLO"
      },
      "source": [
        "# instead of printing let save the output to a \n",
        "# list. Gives us the chance to save more\n",
        "# detailed output which we can use later\n",
        "# Save this output in a list. but we can use\n",
        "# tuples instead\n",
        "def word_counter(sentence,threshold):\n",
        "  all_words = sentence.split(' ')\n",
        "  length_sentence = len(all_words)\n",
        "  if length_sentence < threshold :\n",
        "    # return a list with the quot and\n",
        "    # whether or not its long or short\n",
        "    return [sentence,'short quote']\n",
        "  else :\n",
        "    return [sentence,'too long to memorise']"
      ],
      "execution_count": null,
      "outputs": []
    },
    {
      "cell_type": "code",
      "metadata": {
        "id": "L3QZh_JHdYfz",
        "colab": {
          "base_uri": "https://localhost:8080/"
        },
        "outputId": "48417cc0-edac-4cb5-b788-d3a320b8785a"
      },
      "source": [
        "# to apply this over all the items\n",
        "# again create an empty list\n",
        "# and then loop over the quotes\n",
        "all_lengths = []\n",
        "\n",
        "for i in famous_quotes:\n",
        "  result = word_counter(i,15)\n",
        "  all_lengths.append(result)\n",
        "\n",
        "all_lengths"
      ],
      "execution_count": null,
      "outputs": [
        {
          "output_type": "execute_result",
          "data": {
            "text/plain": [
              "[['The greatest glory in living lies not in never falling, but in rising every time we fall.',\n",
              "  'too long to memorise'],\n",
              " ['The way to get started is to quit talking and begin doing.', 'short quote'],\n",
              " ['If life were predictable it would cease to be life, and be without flavor.',\n",
              "  'short quote'],\n",
              " [\"If you look at what you have in life, you'll always have more. If you look at what you don't have in life, you'll never have enough.\",\n",
              "  'too long to memorise'],\n",
              " [\"If you set your goals ridiculously high and it's a failure, you will fail above everyone else's success.\",\n",
              "  'too long to memorise']]"
            ]
          },
          "metadata": {},
          "execution_count": 24
        }
      ]
    },
    {
      "cell_type": "code",
      "metadata": {
        "colab": {
          "base_uri": "https://localhost:8080/"
        },
        "id": "ORFfdKBafRYu",
        "outputId": "a76c783d-d1f5-4a9d-b542-f2f285f0b033"
      },
      "source": [
        "# what if you wanted to add more information as you\n",
        "# loop over each quote and apply the function?\n",
        "# you can use an input function and take the result \n",
        "# of that input and then add it to a list\n",
        "# again create an empty list to store the information\n",
        "all_output_with_input = []\n",
        "\n",
        "# loop over to apply the function\n",
        "for i in famous_quotes:\n",
        "  print(i)\n",
        "  agree = input('Do you agree with this quote?')\n",
        "  result = word_counter(i,15)\n",
        "  info = (agree,result)\n",
        "  all_output_with_input.append(info)\n",
        "  "
      ],
      "execution_count": null,
      "outputs": [
        {
          "output_type": "stream",
          "text": [
            "The greatest glory in living lies not in never falling, but in rising every time we fall.\n",
            "Do you agree with this quote?yes\n",
            "The way to get started is to quit talking and begin doing.\n",
            "Do you agree with this quote?yes\n",
            "If life were predictable it would cease to be life, and be without flavor.\n",
            "Do you agree with this quote?tes\n",
            "If you look at what you have in life, you'll always have more. If you look at what you don't have in life, you'll never have enough.\n",
            "Do you agree with this quote?no\n",
            "If you set your goals ridiculously high and it's a failure, you will fail above everyone else's success.\n",
            "Do you agree with this quote?no\n"
          ],
          "name": "stdout"
        }
      ]
    },
    {
      "cell_type": "code",
      "metadata": {
        "colab": {
          "base_uri": "https://localhost:8080/"
        },
        "id": "oosQK--TgTPV",
        "outputId": "38a0f187-2389-4281-88e2-09de5a294cf8"
      },
      "source": [
        "all_output_with_input"
      ],
      "execution_count": null,
      "outputs": [
        {
          "output_type": "execute_result",
          "data": {
            "text/plain": [
              "[('yes',\n",
              "  ['The greatest glory in living lies not in never falling, but in rising every time we fall.',\n",
              "   'too long to memorise']),\n",
              " ('yes',\n",
              "  ['The way to get started is to quit talking and begin doing.',\n",
              "   'short quote']),\n",
              " ('tes',\n",
              "  ['If life were predictable it would cease to be life, and be without flavor.',\n",
              "   'short quote']),\n",
              " ('no',\n",
              "  [\"If you look at what you have in life, you'll always have more. If you look at what you don't have in life, you'll never have enough.\",\n",
              "   'too long to memorise']),\n",
              " ('no',\n",
              "  [\"If you set your goals ridiculously high and it's a failure, you will fail above everyone else's success.\",\n",
              "   'too long to memorise'])]"
            ]
          },
          "metadata": {},
          "execution_count": 26
        }
      ]
    },
    {
      "cell_type": "markdown",
      "metadata": {
        "id": "hw0sTUvA38Q8"
      },
      "source": [
        "# Friday"
      ]
    },
    {
      "cell_type": "code",
      "metadata": {
        "id": "U0cB_kox3-8t"
      },
      "source": [
        "import pandas as pd\n",
        "import numpy as np\n",
        "import matplotlib.pyplot as plt\n",
        "import seaborn as sbn"
      ],
      "execution_count": null,
      "outputs": []
    },
    {
      "cell_type": "code",
      "metadata": {
        "id": "QsiS8mEG4Jcp"
      },
      "source": [
        "cigarettes = pd.read_csv('https://raw.githubusercontent.com/pallavrouth/AI-Bootcamp/main/Data/cigarettes.csv',\n",
        "                         index_col = 0)"
      ],
      "execution_count": null,
      "outputs": []
    },
    {
      "cell_type": "code",
      "metadata": {
        "colab": {
          "base_uri": "https://localhost:8080/",
          "height": 204
        },
        "id": "atXLjuS6-Ohk",
        "outputId": "9a7f7170-39c2-4bd1-b10b-4ea71028fa17"
      },
      "source": [
        "cigarettes.head()"
      ],
      "execution_count": null,
      "outputs": [
        {
          "output_type": "execute_result",
          "data": {
            "text/html": [
              "<div>\n",
              "<style scoped>\n",
              "    .dataframe tbody tr th:only-of-type {\n",
              "        vertical-align: middle;\n",
              "    }\n",
              "\n",
              "    .dataframe tbody tr th {\n",
              "        vertical-align: top;\n",
              "    }\n",
              "\n",
              "    .dataframe thead th {\n",
              "        text-align: right;\n",
              "    }\n",
              "</style>\n",
              "<table border=\"1\" class=\"dataframe\">\n",
              "  <thead>\n",
              "    <tr style=\"text-align: right;\">\n",
              "      <th></th>\n",
              "      <th>state</th>\n",
              "      <th>year</th>\n",
              "      <th>cpi</th>\n",
              "      <th>population</th>\n",
              "      <th>packs</th>\n",
              "      <th>income</th>\n",
              "      <th>tax</th>\n",
              "      <th>price</th>\n",
              "      <th>taxs</th>\n",
              "    </tr>\n",
              "  </thead>\n",
              "  <tbody>\n",
              "    <tr>\n",
              "      <th>1</th>\n",
              "      <td>AL</td>\n",
              "      <td>1985</td>\n",
              "      <td>1.076</td>\n",
              "      <td>3973000.0</td>\n",
              "      <td>116.486282</td>\n",
              "      <td>46014968</td>\n",
              "      <td>32.500004</td>\n",
              "      <td>102.181671</td>\n",
              "      <td>33.348335</td>\n",
              "    </tr>\n",
              "    <tr>\n",
              "      <th>2</th>\n",
              "      <td>AR</td>\n",
              "      <td>1985</td>\n",
              "      <td>1.076</td>\n",
              "      <td>2327000.0</td>\n",
              "      <td>128.534592</td>\n",
              "      <td>26210736</td>\n",
              "      <td>37.000000</td>\n",
              "      <td>101.474998</td>\n",
              "      <td>37.000000</td>\n",
              "    </tr>\n",
              "    <tr>\n",
              "      <th>3</th>\n",
              "      <td>AZ</td>\n",
              "      <td>1985</td>\n",
              "      <td>1.076</td>\n",
              "      <td>3184000.0</td>\n",
              "      <td>104.522614</td>\n",
              "      <td>43956936</td>\n",
              "      <td>31.000000</td>\n",
              "      <td>108.578751</td>\n",
              "      <td>36.170418</td>\n",
              "    </tr>\n",
              "    <tr>\n",
              "      <th>4</th>\n",
              "      <td>CA</td>\n",
              "      <td>1985</td>\n",
              "      <td>1.076</td>\n",
              "      <td>26444000.0</td>\n",
              "      <td>100.363037</td>\n",
              "      <td>447102816</td>\n",
              "      <td>26.000000</td>\n",
              "      <td>107.837341</td>\n",
              "      <td>32.104000</td>\n",
              "    </tr>\n",
              "    <tr>\n",
              "      <th>5</th>\n",
              "      <td>CO</td>\n",
              "      <td>1985</td>\n",
              "      <td>1.076</td>\n",
              "      <td>3209000.0</td>\n",
              "      <td>112.963539</td>\n",
              "      <td>49466672</td>\n",
              "      <td>31.000000</td>\n",
              "      <td>94.266663</td>\n",
              "      <td>31.000000</td>\n",
              "    </tr>\n",
              "  </tbody>\n",
              "</table>\n",
              "</div>"
            ],
            "text/plain": [
              "  state  year    cpi  population  ...     income        tax       price       taxs\n",
              "1    AL  1985  1.076   3973000.0  ...   46014968  32.500004  102.181671  33.348335\n",
              "2    AR  1985  1.076   2327000.0  ...   26210736  37.000000  101.474998  37.000000\n",
              "3    AZ  1985  1.076   3184000.0  ...   43956936  31.000000  108.578751  36.170418\n",
              "4    CA  1985  1.076  26444000.0  ...  447102816  26.000000  107.837341  32.104000\n",
              "5    CO  1985  1.076   3209000.0  ...   49466672  31.000000   94.266663  31.000000\n",
              "\n",
              "[5 rows x 9 columns]"
            ]
          },
          "metadata": {},
          "execution_count": 6
        }
      ]
    },
    {
      "cell_type": "code",
      "metadata": {
        "id": "IiObFLx6-h_x"
      },
      "source": [
        "cigarettes.loc[:,['state','year','tax']].head()"
      ],
      "execution_count": null,
      "outputs": []
    },
    {
      "cell_type": "markdown",
      "metadata": {
        "id": "FYGPv81N_y0n"
      },
      "source": [
        "data.loc [ row information , column information ]\n",
        "\n",
        "col information area to select columns\n",
        "\n",
        "row information area to filter out certain rows that meet certain condition"
      ]
    },
    {
      "cell_type": "code",
      "metadata": {
        "id": "q0oPfyg2_GdD"
      },
      "source": [
        "cigarettes.loc[cigarettes['tax'] > 70,['state','year','tax']]"
      ],
      "execution_count": null,
      "outputs": []
    },
    {
      "cell_type": "code",
      "metadata": {
        "id": "MgpGkMnAAKW5"
      },
      "source": [
        "cigarettes_filtered = cigarettes.loc[cigarettes['tax'] > 70,['state','year','tax']]\n",
        "cigarettes_filtered.sort_values('tax')"
      ],
      "execution_count": null,
      "outputs": []
    },
    {
      "cell_type": "code",
      "metadata": {
        "id": "KbiQpzalAXbQ"
      },
      "source": [
        "cigarettes.loc[cigarettes['tax'] > 70,['state','year','tax']].sort_values('tax')"
      ],
      "execution_count": null,
      "outputs": []
    },
    {
      "cell_type": "code",
      "metadata": {
        "colab": {
          "base_uri": "https://localhost:8080/",
          "height": 204
        },
        "id": "snloaLrkBnfX",
        "outputId": "e815d8fd-d1c3-41ec-ad4d-d14e024c8f44"
      },
      "source": [
        "# want to filter out data set\n",
        "# cols - state, year, price and taxes\n",
        "# 1. tax > 50 and price > 100\n",
        "\n",
        "cigarettes.loc[(cigarettes['tax'] > 50) & \n",
        "               (cigarettes['price'] > 100) , ['state','year','price','tax']  ].head()"
      ],
      "execution_count": null,
      "outputs": [
        {
          "output_type": "execute_result",
          "data": {
            "text/html": [
              "<div>\n",
              "<style scoped>\n",
              "    .dataframe tbody tr th:only-of-type {\n",
              "        vertical-align: middle;\n",
              "    }\n",
              "\n",
              "    .dataframe tbody tr th {\n",
              "        vertical-align: top;\n",
              "    }\n",
              "\n",
              "    .dataframe thead th {\n",
              "        text-align: right;\n",
              "    }\n",
              "</style>\n",
              "<table border=\"1\" class=\"dataframe\">\n",
              "  <thead>\n",
              "    <tr style=\"text-align: right;\">\n",
              "      <th></th>\n",
              "      <th>state</th>\n",
              "      <th>year</th>\n",
              "      <th>price</th>\n",
              "      <th>tax</th>\n",
              "    </tr>\n",
              "  </thead>\n",
              "  <tbody>\n",
              "    <tr>\n",
              "      <th>50</th>\n",
              "      <td>AR</td>\n",
              "      <td>1995</td>\n",
              "      <td>175.542511</td>\n",
              "      <td>55.500000</td>\n",
              "    </tr>\n",
              "    <tr>\n",
              "      <th>51</th>\n",
              "      <td>AZ</td>\n",
              "      <td>1995</td>\n",
              "      <td>198.607498</td>\n",
              "      <td>65.333328</td>\n",
              "    </tr>\n",
              "    <tr>\n",
              "      <th>52</th>\n",
              "      <td>CA</td>\n",
              "      <td>1995</td>\n",
              "      <td>210.504669</td>\n",
              "      <td>61.000000</td>\n",
              "    </tr>\n",
              "    <tr>\n",
              "      <th>54</th>\n",
              "      <td>CT</td>\n",
              "      <td>1995</td>\n",
              "      <td>218.280502</td>\n",
              "      <td>74.000000</td>\n",
              "    </tr>\n",
              "    <tr>\n",
              "      <th>56</th>\n",
              "      <td>FL</td>\n",
              "      <td>1995</td>\n",
              "      <td>187.717178</td>\n",
              "      <td>57.900002</td>\n",
              "    </tr>\n",
              "  </tbody>\n",
              "</table>\n",
              "</div>"
            ],
            "text/plain": [
              "   state  year       price        tax\n",
              "50    AR  1995  175.542511  55.500000\n",
              "51    AZ  1995  198.607498  65.333328\n",
              "52    CA  1995  210.504669  61.000000\n",
              "54    CT  1995  218.280502  74.000000\n",
              "56    FL  1995  187.717178  57.900002"
            ]
          },
          "metadata": {},
          "execution_count": 16
        }
      ]
    },
    {
      "cell_type": "code",
      "metadata": {
        "colab": {
          "base_uri": "https://localhost:8080/",
          "height": 204
        },
        "id": "IkmCAlC5Dcby",
        "outputId": "395007ca-40da-48af-c3e7-31aade3e2b9c"
      },
      "source": [
        "cigarettes.loc[(cigarettes['tax'] > 50) & \n",
        "               (cigarettes['price'] > 100) , ['state','year','price','tax']  ].sort_values('tax',ascending = False).head()"
      ],
      "execution_count": null,
      "outputs": [
        {
          "output_type": "execute_result",
          "data": {
            "text/html": [
              "<div>\n",
              "<style scoped>\n",
              "    .dataframe tbody tr th:only-of-type {\n",
              "        vertical-align: middle;\n",
              "    }\n",
              "\n",
              "    .dataframe tbody tr th {\n",
              "        vertical-align: top;\n",
              "    }\n",
              "\n",
              "    .dataframe thead th {\n",
              "        text-align: right;\n",
              "    }\n",
              "</style>\n",
              "<table border=\"1\" class=\"dataframe\">\n",
              "  <thead>\n",
              "    <tr style=\"text-align: right;\">\n",
              "      <th></th>\n",
              "      <th>state</th>\n",
              "      <th>year</th>\n",
              "      <th>price</th>\n",
              "      <th>tax</th>\n",
              "    </tr>\n",
              "  </thead>\n",
              "  <tbody>\n",
              "    <tr>\n",
              "      <th>68</th>\n",
              "      <td>MI</td>\n",
              "      <td>1995</td>\n",
              "      <td>240.849670</td>\n",
              "      <td>99.0</td>\n",
              "    </tr>\n",
              "    <tr>\n",
              "      <th>93</th>\n",
              "      <td>WA</td>\n",
              "      <td>1995</td>\n",
              "      <td>239.109344</td>\n",
              "      <td>80.5</td>\n",
              "    </tr>\n",
              "    <tr>\n",
              "      <th>85</th>\n",
              "      <td>RI</td>\n",
              "      <td>1995</td>\n",
              "      <td>224.459244</td>\n",
              "      <td>80.0</td>\n",
              "    </tr>\n",
              "    <tr>\n",
              "      <th>80</th>\n",
              "      <td>NY</td>\n",
              "      <td>1995</td>\n",
              "      <td>221.858002</td>\n",
              "      <td>80.0</td>\n",
              "    </tr>\n",
              "    <tr>\n",
              "      <th>65</th>\n",
              "      <td>MA</td>\n",
              "      <td>1995</td>\n",
              "      <td>217.105011</td>\n",
              "      <td>75.0</td>\n",
              "    </tr>\n",
              "  </tbody>\n",
              "</table>\n",
              "</div>"
            ],
            "text/plain": [
              "   state  year       price   tax\n",
              "68    MI  1995  240.849670  99.0\n",
              "93    WA  1995  239.109344  80.5\n",
              "85    RI  1995  224.459244  80.0\n",
              "80    NY  1995  221.858002  80.0\n",
              "65    MA  1995  217.105011  75.0"
            ]
          },
          "metadata": {},
          "execution_count": 19
        }
      ]
    },
    {
      "cell_type": "code",
      "metadata": {
        "colab": {
          "base_uri": "https://localhost:8080/",
          "height": 204
        },
        "id": "iDpWiEjkDw0h",
        "outputId": "4dd50ab6-5634-4168-f2cf-1da20cc3711d"
      },
      "source": [
        "cigarettes.loc[:,['state','tax']].sort_values('tax').head()"
      ],
      "execution_count": null,
      "outputs": [
        {
          "output_type": "execute_result",
          "data": {
            "text/html": [
              "<div>\n",
              "<style scoped>\n",
              "    .dataframe tbody tr th:only-of-type {\n",
              "        vertical-align: middle;\n",
              "    }\n",
              "\n",
              "    .dataframe tbody tr th {\n",
              "        vertical-align: top;\n",
              "    }\n",
              "\n",
              "    .dataframe thead th {\n",
              "        text-align: right;\n",
              "    }\n",
              "</style>\n",
              "<table border=\"1\" class=\"dataframe\">\n",
              "  <thead>\n",
              "    <tr style=\"text-align: right;\">\n",
              "      <th></th>\n",
              "      <th>state</th>\n",
              "      <th>tax</th>\n",
              "    </tr>\n",
              "  </thead>\n",
              "  <tbody>\n",
              "    <tr>\n",
              "      <th>25</th>\n",
              "      <td>NC</td>\n",
              "      <td>18.000000</td>\n",
              "    </tr>\n",
              "    <tr>\n",
              "      <th>43</th>\n",
              "      <td>VA</td>\n",
              "      <td>18.500002</td>\n",
              "    </tr>\n",
              "    <tr>\n",
              "      <th>15</th>\n",
              "      <td>KY</td>\n",
              "      <td>19.000000</td>\n",
              "    </tr>\n",
              "    <tr>\n",
              "      <th>38</th>\n",
              "      <td>SC</td>\n",
              "      <td>23.000000</td>\n",
              "    </tr>\n",
              "    <tr>\n",
              "      <th>48</th>\n",
              "      <td>WY</td>\n",
              "      <td>24.000000</td>\n",
              "    </tr>\n",
              "  </tbody>\n",
              "</table>\n",
              "</div>"
            ],
            "text/plain": [
              "   state        tax\n",
              "25    NC  18.000000\n",
              "43    VA  18.500002\n",
              "15    KY  19.000000\n",
              "38    SC  23.000000\n",
              "48    WY  24.000000"
            ]
          },
          "metadata": {},
          "execution_count": 23
        }
      ]
    },
    {
      "cell_type": "code",
      "metadata": {
        "colab": {
          "base_uri": "https://localhost:8080/",
          "height": 204
        },
        "id": "Q9FzEod0GhaG",
        "outputId": "07b762c9-65bb-4e30-f2f7-e5c8f5c7f496"
      },
      "source": [
        "cigarettes.head()"
      ],
      "execution_count": null,
      "outputs": [
        {
          "output_type": "execute_result",
          "data": {
            "text/html": [
              "<div>\n",
              "<style scoped>\n",
              "    .dataframe tbody tr th:only-of-type {\n",
              "        vertical-align: middle;\n",
              "    }\n",
              "\n",
              "    .dataframe tbody tr th {\n",
              "        vertical-align: top;\n",
              "    }\n",
              "\n",
              "    .dataframe thead th {\n",
              "        text-align: right;\n",
              "    }\n",
              "</style>\n",
              "<table border=\"1\" class=\"dataframe\">\n",
              "  <thead>\n",
              "    <tr style=\"text-align: right;\">\n",
              "      <th></th>\n",
              "      <th>state</th>\n",
              "      <th>year</th>\n",
              "      <th>cpi</th>\n",
              "      <th>population</th>\n",
              "      <th>packs</th>\n",
              "      <th>income</th>\n",
              "      <th>tax</th>\n",
              "      <th>price</th>\n",
              "      <th>taxs</th>\n",
              "    </tr>\n",
              "  </thead>\n",
              "  <tbody>\n",
              "    <tr>\n",
              "      <th>1</th>\n",
              "      <td>AL</td>\n",
              "      <td>1985</td>\n",
              "      <td>1.076</td>\n",
              "      <td>3973000.0</td>\n",
              "      <td>116.486282</td>\n",
              "      <td>46014968</td>\n",
              "      <td>32.500004</td>\n",
              "      <td>102.181671</td>\n",
              "      <td>33.348335</td>\n",
              "    </tr>\n",
              "    <tr>\n",
              "      <th>2</th>\n",
              "      <td>AR</td>\n",
              "      <td>1985</td>\n",
              "      <td>1.076</td>\n",
              "      <td>2327000.0</td>\n",
              "      <td>128.534592</td>\n",
              "      <td>26210736</td>\n",
              "      <td>37.000000</td>\n",
              "      <td>101.474998</td>\n",
              "      <td>37.000000</td>\n",
              "    </tr>\n",
              "    <tr>\n",
              "      <th>3</th>\n",
              "      <td>AZ</td>\n",
              "      <td>1985</td>\n",
              "      <td>1.076</td>\n",
              "      <td>3184000.0</td>\n",
              "      <td>104.522614</td>\n",
              "      <td>43956936</td>\n",
              "      <td>31.000000</td>\n",
              "      <td>108.578751</td>\n",
              "      <td>36.170418</td>\n",
              "    </tr>\n",
              "    <tr>\n",
              "      <th>4</th>\n",
              "      <td>CA</td>\n",
              "      <td>1985</td>\n",
              "      <td>1.076</td>\n",
              "      <td>26444000.0</td>\n",
              "      <td>100.363037</td>\n",
              "      <td>447102816</td>\n",
              "      <td>26.000000</td>\n",
              "      <td>107.837341</td>\n",
              "      <td>32.104000</td>\n",
              "    </tr>\n",
              "    <tr>\n",
              "      <th>5</th>\n",
              "      <td>CO</td>\n",
              "      <td>1985</td>\n",
              "      <td>1.076</td>\n",
              "      <td>3209000.0</td>\n",
              "      <td>112.963539</td>\n",
              "      <td>49466672</td>\n",
              "      <td>31.000000</td>\n",
              "      <td>94.266663</td>\n",
              "      <td>31.000000</td>\n",
              "    </tr>\n",
              "  </tbody>\n",
              "</table>\n",
              "</div>"
            ],
            "text/plain": [
              "  state  year    cpi  population  ...     income        tax       price       taxs\n",
              "1    AL  1985  1.076   3973000.0  ...   46014968  32.500004  102.181671  33.348335\n",
              "2    AR  1985  1.076   2327000.0  ...   26210736  37.000000  101.474998  37.000000\n",
              "3    AZ  1985  1.076   3184000.0  ...   43956936  31.000000  108.578751  36.170418\n",
              "4    CA  1985  1.076  26444000.0  ...  447102816  26.000000  107.837341  32.104000\n",
              "5    CO  1985  1.076   3209000.0  ...   49466672  31.000000   94.266663  31.000000\n",
              "\n",
              "[5 rows x 9 columns]"
            ]
          },
          "metadata": {},
          "execution_count": 27
        }
      ]
    },
    {
      "cell_type": "code",
      "metadata": {
        "id": "lWXpvCCpFqQN"
      },
      "source": [
        "#cigarettes.loc[:,:]\n",
        "#cigarettes.loc[:,['year':'population']]"
      ],
      "execution_count": null,
      "outputs": []
    },
    {
      "cell_type": "code",
      "metadata": {
        "colab": {
          "base_uri": "https://localhost:8080/"
        },
        "id": "qSCvScHvGbPf",
        "outputId": "d6385973-47e5-4c90-e410-6aedfe264eed"
      },
      "source": [
        "cigarettes.columns.get_loc('cpi')\n",
        "#cigarettes.iloc[:,[1,2,3,6,7,8]]\n",
        "#cigarettes.loc[:,['year','cpi','population','income','tax','price']]"
      ],
      "execution_count": null,
      "outputs": [
        {
          "output_type": "execute_result",
          "data": {
            "text/plain": [
              "2"
            ]
          },
          "metadata": {},
          "execution_count": 39
        }
      ]
    },
    {
      "cell_type": "code",
      "metadata": {
        "id": "pxrXNMpiJZ57"
      },
      "source": [
        "sample_data = pd.read_csv('/content/sample_data/mnist_train_small.csv')"
      ],
      "execution_count": null,
      "outputs": []
    },
    {
      "cell_type": "code",
      "metadata": {
        "id": "PCOD1LuCJlot"
      },
      "source": [
        "sample_data.head()"
      ],
      "execution_count": null,
      "outputs": []
    },
    {
      "cell_type": "code",
      "metadata": {
        "id": "MBJKXfEyJ32A"
      },
      "source": [
        "cigarettes['price']"
      ],
      "execution_count": null,
      "outputs": []
    },
    {
      "cell_type": "code",
      "metadata": {
        "id": "hJQ1I6MIKHhQ"
      },
      "source": [
        "plt.hist(x = cigarettes['price'], bins = 30)"
      ],
      "execution_count": null,
      "outputs": []
    },
    {
      "cell_type": "code",
      "metadata": {
        "id": "VWlvBZhGLmuB"
      },
      "source": [
        "tips = sbn.load_dataset(\"tips\")"
      ],
      "execution_count": null,
      "outputs": []
    },
    {
      "cell_type": "code",
      "metadata": {
        "colab": {
          "base_uri": "https://localhost:8080/",
          "height": 419
        },
        "id": "Oid3d0L2LpM_",
        "outputId": "bb3c4dca-925b-4844-aeaf-4c72e0882652"
      },
      "source": [
        "tips"
      ],
      "execution_count": null,
      "outputs": [
        {
          "output_type": "execute_result",
          "data": {
            "text/html": [
              "<div>\n",
              "<style scoped>\n",
              "    .dataframe tbody tr th:only-of-type {\n",
              "        vertical-align: middle;\n",
              "    }\n",
              "\n",
              "    .dataframe tbody tr th {\n",
              "        vertical-align: top;\n",
              "    }\n",
              "\n",
              "    .dataframe thead th {\n",
              "        text-align: right;\n",
              "    }\n",
              "</style>\n",
              "<table border=\"1\" class=\"dataframe\">\n",
              "  <thead>\n",
              "    <tr style=\"text-align: right;\">\n",
              "      <th></th>\n",
              "      <th>total_bill</th>\n",
              "      <th>tip</th>\n",
              "      <th>sex</th>\n",
              "      <th>smoker</th>\n",
              "      <th>day</th>\n",
              "      <th>time</th>\n",
              "      <th>size</th>\n",
              "    </tr>\n",
              "  </thead>\n",
              "  <tbody>\n",
              "    <tr>\n",
              "      <th>0</th>\n",
              "      <td>16.99</td>\n",
              "      <td>1.01</td>\n",
              "      <td>Female</td>\n",
              "      <td>No</td>\n",
              "      <td>Sun</td>\n",
              "      <td>Dinner</td>\n",
              "      <td>2</td>\n",
              "    </tr>\n",
              "    <tr>\n",
              "      <th>1</th>\n",
              "      <td>10.34</td>\n",
              "      <td>1.66</td>\n",
              "      <td>Male</td>\n",
              "      <td>No</td>\n",
              "      <td>Sun</td>\n",
              "      <td>Dinner</td>\n",
              "      <td>3</td>\n",
              "    </tr>\n",
              "    <tr>\n",
              "      <th>2</th>\n",
              "      <td>21.01</td>\n",
              "      <td>3.50</td>\n",
              "      <td>Male</td>\n",
              "      <td>No</td>\n",
              "      <td>Sun</td>\n",
              "      <td>Dinner</td>\n",
              "      <td>3</td>\n",
              "    </tr>\n",
              "    <tr>\n",
              "      <th>3</th>\n",
              "      <td>23.68</td>\n",
              "      <td>3.31</td>\n",
              "      <td>Male</td>\n",
              "      <td>No</td>\n",
              "      <td>Sun</td>\n",
              "      <td>Dinner</td>\n",
              "      <td>2</td>\n",
              "    </tr>\n",
              "    <tr>\n",
              "      <th>4</th>\n",
              "      <td>24.59</td>\n",
              "      <td>3.61</td>\n",
              "      <td>Female</td>\n",
              "      <td>No</td>\n",
              "      <td>Sun</td>\n",
              "      <td>Dinner</td>\n",
              "      <td>4</td>\n",
              "    </tr>\n",
              "    <tr>\n",
              "      <th>...</th>\n",
              "      <td>...</td>\n",
              "      <td>...</td>\n",
              "      <td>...</td>\n",
              "      <td>...</td>\n",
              "      <td>...</td>\n",
              "      <td>...</td>\n",
              "      <td>...</td>\n",
              "    </tr>\n",
              "    <tr>\n",
              "      <th>239</th>\n",
              "      <td>29.03</td>\n",
              "      <td>5.92</td>\n",
              "      <td>Male</td>\n",
              "      <td>No</td>\n",
              "      <td>Sat</td>\n",
              "      <td>Dinner</td>\n",
              "      <td>3</td>\n",
              "    </tr>\n",
              "    <tr>\n",
              "      <th>240</th>\n",
              "      <td>27.18</td>\n",
              "      <td>2.00</td>\n",
              "      <td>Female</td>\n",
              "      <td>Yes</td>\n",
              "      <td>Sat</td>\n",
              "      <td>Dinner</td>\n",
              "      <td>2</td>\n",
              "    </tr>\n",
              "    <tr>\n",
              "      <th>241</th>\n",
              "      <td>22.67</td>\n",
              "      <td>2.00</td>\n",
              "      <td>Male</td>\n",
              "      <td>Yes</td>\n",
              "      <td>Sat</td>\n",
              "      <td>Dinner</td>\n",
              "      <td>2</td>\n",
              "    </tr>\n",
              "    <tr>\n",
              "      <th>242</th>\n",
              "      <td>17.82</td>\n",
              "      <td>1.75</td>\n",
              "      <td>Male</td>\n",
              "      <td>No</td>\n",
              "      <td>Sat</td>\n",
              "      <td>Dinner</td>\n",
              "      <td>2</td>\n",
              "    </tr>\n",
              "    <tr>\n",
              "      <th>243</th>\n",
              "      <td>18.78</td>\n",
              "      <td>3.00</td>\n",
              "      <td>Female</td>\n",
              "      <td>No</td>\n",
              "      <td>Thur</td>\n",
              "      <td>Dinner</td>\n",
              "      <td>2</td>\n",
              "    </tr>\n",
              "  </tbody>\n",
              "</table>\n",
              "<p>244 rows × 7 columns</p>\n",
              "</div>"
            ],
            "text/plain": [
              "     total_bill   tip     sex smoker   day    time  size\n",
              "0         16.99  1.01  Female     No   Sun  Dinner     2\n",
              "1         10.34  1.66    Male     No   Sun  Dinner     3\n",
              "2         21.01  3.50    Male     No   Sun  Dinner     3\n",
              "3         23.68  3.31    Male     No   Sun  Dinner     2\n",
              "4         24.59  3.61  Female     No   Sun  Dinner     4\n",
              "..          ...   ...     ...    ...   ...     ...   ...\n",
              "239       29.03  5.92    Male     No   Sat  Dinner     3\n",
              "240       27.18  2.00  Female    Yes   Sat  Dinner     2\n",
              "241       22.67  2.00    Male    Yes   Sat  Dinner     2\n",
              "242       17.82  1.75    Male     No   Sat  Dinner     2\n",
              "243       18.78  3.00  Female     No  Thur  Dinner     2\n",
              "\n",
              "[244 rows x 7 columns]"
            ]
          },
          "metadata": {},
          "execution_count": 49
        }
      ]
    },
    {
      "cell_type": "code",
      "metadata": {
        "id": "KYJWDoSqMBRW"
      },
      "source": [
        "counts_data = tips['day'].value_counts()"
      ],
      "execution_count": null,
      "outputs": []
    },
    {
      "cell_type": "code",
      "metadata": {
        "colab": {
          "base_uri": "https://localhost:8080/"
        },
        "id": "7xeFsifjMYz9",
        "outputId": "01dcb27c-d9c5-43a9-943d-f54063837bf8"
      },
      "source": [
        "day_of_week = counts_data.index\n",
        "day_of_week"
      ],
      "execution_count": null,
      "outputs": [
        {
          "output_type": "execute_result",
          "data": {
            "text/plain": [
              "CategoricalIndex(['Sat', 'Sun', 'Thur', 'Fri'], categories=['Thur', 'Fri', 'Sat', 'Sun'], ordered=False, dtype='category')"
            ]
          },
          "metadata": {},
          "execution_count": 54
        }
      ]
    },
    {
      "cell_type": "code",
      "metadata": {
        "colab": {
          "base_uri": "https://localhost:8080/"
        },
        "id": "_UhQMrHXM29z",
        "outputId": "71f9fd3a-afe3-41c2-a78e-dbd9fb2a9816"
      },
      "source": [
        "counts_by_day = counts_data.values\n",
        "counts_by_day"
      ],
      "execution_count": null,
      "outputs": [
        {
          "output_type": "execute_result",
          "data": {
            "text/plain": [
              "array([87, 76, 62, 19])"
            ]
          },
          "metadata": {},
          "execution_count": 56
        }
      ]
    },
    {
      "cell_type": "code",
      "metadata": {
        "colab": {
          "base_uri": "https://localhost:8080/",
          "height": 265
        },
        "id": "Of_NpjeDNc33",
        "outputId": "c0c0bf98-ed27-4e99-af83-cfbdbc96129e"
      },
      "source": [
        "plt.bar(x = day_of_week, height = counts_by_day)\n",
        "plt.show()"
      ],
      "execution_count": null,
      "outputs": [
        {
          "output_type": "display_data",
          "data": {
            "image/png": "[encoded data removed]",
            "text/plain": [
              "<Figure size 432x288 with 1 Axes>"
            ]
          },
          "metadata": {
            "needs_background": "light"
          }
        }
      ]
    },
    {
      "cell_type": "code",
      "metadata": {
        "colab": {
          "base_uri": "https://localhost:8080/"
        },
        "id": "saTUOqU2OBSR",
        "outputId": "b2eac524-b97b-47bb-acf9-6b9f7c04727d"
      },
      "source": [
        "tips.groupby('day').size()"
      ],
      "execution_count": null,
      "outputs": [
        {
          "output_type": "execute_result",
          "data": {
            "text/plain": [
              "day\n",
              "Thur    62\n",
              "Fri     19\n",
              "Sat     87\n",
              "Sun     76\n",
              "dtype: int64"
            ]
          },
          "metadata": {},
          "execution_count": 58
        }
      ]
    },
    {
      "cell_type": "code",
      "metadata": {
        "colab": {
          "base_uri": "https://localhost:8080/",
          "height": 142
        },
        "id": "NnwSV5YiOrQg",
        "outputId": "f19ea8c5-ebcc-4284-d800-845736442d56"
      },
      "source": [
        "tips.describe().loc[['mean','min','75%'],:]"
      ],
      "execution_count": null,
      "outputs": [
        {
          "output_type": "execute_result",
          "data": {
            "text/html": [
              "<div>\n",
              "<style scoped>\n",
              "    .dataframe tbody tr th:only-of-type {\n",
              "        vertical-align: middle;\n",
              "    }\n",
              "\n",
              "    .dataframe tbody tr th {\n",
              "        vertical-align: top;\n",
              "    }\n",
              "\n",
              "    .dataframe thead th {\n",
              "        text-align: right;\n",
              "    }\n",
              "</style>\n",
              "<table border=\"1\" class=\"dataframe\">\n",
              "  <thead>\n",
              "    <tr style=\"text-align: right;\">\n",
              "      <th></th>\n",
              "      <th>total_bill</th>\n",
              "      <th>tip</th>\n",
              "      <th>size</th>\n",
              "    </tr>\n",
              "  </thead>\n",
              "  <tbody>\n",
              "    <tr>\n",
              "      <th>mean</th>\n",
              "      <td>19.785943</td>\n",
              "      <td>2.998279</td>\n",
              "      <td>2.569672</td>\n",
              "    </tr>\n",
              "    <tr>\n",
              "      <th>min</th>\n",
              "      <td>3.070000</td>\n",
              "      <td>1.000000</td>\n",
              "      <td>1.000000</td>\n",
              "    </tr>\n",
              "    <tr>\n",
              "      <th>75%</th>\n",
              "      <td>24.127500</td>\n",
              "      <td>3.562500</td>\n",
              "      <td>3.000000</td>\n",
              "    </tr>\n",
              "  </tbody>\n",
              "</table>\n",
              "</div>"
            ],
            "text/plain": [
              "      total_bill       tip      size\n",
              "mean   19.785943  2.998279  2.569672\n",
              "min     3.070000  1.000000  1.000000\n",
              "75%    24.127500  3.562500  3.000000"
            ]
          },
          "metadata": {},
          "execution_count": 61
        }
      ]
    },
    {
      "cell_type": "code",
      "metadata": {
        "id": "YKYCIX2jPyRb"
      },
      "source": [
        "tips.describe().loc[['mean','min','75%'],['tip']]"
      ],
      "execution_count": null,
      "outputs": []
    },
    {
      "cell_type": "code",
      "metadata": {
        "id": "ZLfbDK0eS66f"
      },
      "source": [
        "boxplot_data = tips.loc[:,['tip','day']]\n",
        "boxplot_data.head()"
      ],
      "execution_count": null,
      "outputs": []
    },
    {
      "cell_type": "markdown",
      "metadata": {
        "id": "tvOK7bqHTmxs"
      },
      "source": [
        "cols : sun Satr Mond\n",
        "rows : "
      ]
    },
    {
      "cell_type": "code",
      "metadata": {
        "id": "WfI5tzpmTfuI"
      },
      "source": [
        "iris = pd.read_csv('https://raw.githubusercontent.com/dia1128/AIandDataScienceWorkshopwithPython/main/Week2/Assignment/iris.csv')"
      ],
      "execution_count": null,
      "outputs": []
    },
    {
      "cell_type": "code",
      "metadata": {
        "id": "OFOr44UyUxfZ"
      },
      "source": [
        "iris\n",
        "boxes = iris.loc[:,['sepal.length','sepal.width','petal.length','petal.width']]\n",
        "boxes"
      ],
      "execution_count": null,
      "outputs": []
    },
    {
      "cell_type": "code",
      "metadata": {
        "colab": {
          "base_uri": "https://localhost:8080/",
          "height": 282
        },
        "id": "aGp7YnioV9QM",
        "outputId": "0735a302-339f-4953-8a9f-40996235367b"
      },
      "source": [
        "boxes.boxplot()"
      ],
      "execution_count": null,
      "outputs": [
        {
          "output_type": "execute_result",
          "data": {
            "text/plain": [
              "<matplotlib.axes._subplots.AxesSubplot at 0x7f95b46fa610>"
            ]
          },
          "metadata": {},
          "execution_count": 78
        },
        {
          "output_type": "display_data",
          "data": {
            "image/png": "[encoded data removed]",
            "text/plain": [
              "<Figure size 432x288 with 1 Axes>"
            ]
          },
          "metadata": {
            "needs_background": "light"
          }
        }
      ]
    }
  ]
}