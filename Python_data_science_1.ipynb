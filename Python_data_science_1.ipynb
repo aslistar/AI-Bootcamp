{
  "nbformat": 4,
  "nbformat_minor": 0,
  "metadata": {
    "colab": {
      "name": "Python data science 1.ipynb",
      "provenance": [],
      "collapsed_sections": [],
      "authorship_tag": "ABX9TyNOxhj4/mbQxQx/HyYSEdKx",
      "include_colab_link": true
    },
    "kernelspec": {
      "name": "python3",
      "display_name": "Python 3"
    },
    "language_info": {
      "name": "python"
    }
  },
  "cells": [
    {
      "cell_type": "markdown",
      "metadata": {
        "id": "view-in-github",
        "colab_type": "text"
      },
      "source": [
        "<a href=\"https://colab.research.google.com/github/pallavrouth/AI-Bootcamp/blob/main/Python_data_science_1.ipynb\" target=\"_parent\"><img src=\"https://colab.research.google.com/assets/colab-badge.svg\" alt=\"Open In Colab\"/></a>"
      ]
    },
    {
      "cell_type": "markdown",
      "metadata": {
        "id": "xjC7e4XsZfuL"
      },
      "source": [
        "# Simple function"
      ]
    },
    {
      "cell_type": "markdown",
      "metadata": {
        "id": "D7nbBvw_Zppt"
      },
      "source": [
        "No parameter"
      ]
    },
    {
      "cell_type": "code",
      "metadata": {
        "colab": {
          "base_uri": "https://localhost:8080/"
        },
        "id": "7ctXCH4XqIMA",
        "outputId": "b4eb3f4e-c3fb-4212-aba9-b3243b356d32"
      },
      "source": [
        "def ask_question():\n",
        "  \"\"\"print a string that asks why\"\"\"\n",
        "  # Concatenate the strings\n",
        "  question = \"But, why\" + \"??\"\n",
        "  # print\n",
        "  print(question)\n",
        "\n",
        "# call this function\n",
        "ask_question()"
      ],
      "execution_count": 1,
      "outputs": [
        {
          "output_type": "stream",
          "text": [
            "But, why??\n"
          ],
          "name": "stdout"
        }
      ]
    },
    {
      "cell_type": "markdown",
      "metadata": {
        "id": "b5fFbDGhZrkb"
      },
      "source": [
        "One parameter"
      ]
    },
    {
      "cell_type": "code",
      "metadata": {
        "colab": {
          "base_uri": "https://localhost:8080/"
        },
        "id": "HPlbwSG5ZwlJ",
        "outputId": "602f100f-037b-42ac-fbf7-638f3379d72d"
      },
      "source": [
        "def ask_question(words):\n",
        "  \"\"\"print a string that asks why\"\"\"\n",
        "  # Concatenate the strings\n",
        "  question = words + \"??\"\n",
        "  # print\n",
        "  print(question)\n",
        "\n",
        "# call this function with a specific question\n",
        "ask_question(\"when are you coming home\")"
      ],
      "execution_count": 2,
      "outputs": [
        {
          "output_type": "stream",
          "text": [
            "when are you coming home??\n"
          ],
          "name": "stdout"
        }
      ]
    },
    {
      "cell_type": "markdown",
      "metadata": {
        "id": "K_cVWX9JZ7IC"
      },
      "source": [
        "Returning a value"
      ]
    },
    {
      "cell_type": "code",
      "metadata": {
        "id": "i7cYoHvbZ8k6",
        "colab": {
          "base_uri": "https://localhost:8080/"
        },
        "outputId": "fa6e165e-362e-4589-bbd9-7ccc9aad0abd"
      },
      "source": [
        "def ask_question(words):\n",
        "  \"\"\"print a string that asks why\"\"\"\n",
        "  # Concatenate the strings\n",
        "  question = words + \"??\"\n",
        "  # print\n",
        "  return question\n",
        "\n",
        "# Pass 'congratulations' to shout: yell\n",
        "my_question = ask_question('what will you eat for dinner')\n",
        "\n",
        "# Print yell\n",
        "print(my_question)"
      ],
      "execution_count": 4,
      "outputs": [
        {
          "output_type": "stream",
          "text": [
            "what will you eat for dinner??\n"
          ],
          "name": "stdout"
        }
      ]
    }
  ]
}