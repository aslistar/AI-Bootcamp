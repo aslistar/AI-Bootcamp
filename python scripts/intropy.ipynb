{
  "nbformat": 4,
  "nbformat_minor": 0,
  "metadata": {
    "colab": {
      "name": "intropy.ipynb",
      "provenance": [],
      "toc_visible": true,
      "authorship_tag": "ABX9TyM/MC+wRdsI3eD6zWLHW/CC",
      "include_colab_link": true
    },
    "kernelspec": {
      "name": "python3",
      "display_name": "Python 3"
    },
    "language_info": {
      "name": "python"
    }
  },
  "cells": [
    {
      "cell_type": "markdown",
      "metadata": {
        "id": "view-in-github",
        "colab_type": "text"
      },
      "source": [
        "<a href=\"https://colab.research.google.com/github/pallavrouth/AI-Bootcamp/blob/main/intropy.ipynb\" target=\"_parent\"><img src=\"https://colab.research.google.com/assets/colab-badge.svg\" alt=\"Open In Colab\"/></a>"
      ]
    },
    {
      "cell_type": "markdown",
      "metadata": {
        "id": "uChVzJLXtBJM"
      },
      "source": [
        "# Python as calculator"
      ]
    },
    {
      "cell_type": "code",
      "metadata": {
        "id": "H9OXPcP5s3Wi"
      },
      "source": [
        "# Addition and subtraction\n",
        "print(5 + 5)\n",
        "print(5 - 5)\n",
        "\n",
        "# Multiplication and division\n",
        "print(3 * 5)\n",
        "print(10 / 2)\n",
        "\n",
        "# Exponentiation\n",
        "print(4 ** 2)\n",
        "\n",
        "# Modulo\n",
        "print(18 % 7)\n",
        "\n",
        "# How much is your $100 worth after 7 years?\n",
        "print(100*1.1**7)"
      ],
      "execution_count": null,
      "outputs": []
    },
    {
      "cell_type": "markdown",
      "metadata": {
        "id": "_lNBU9UTtOfP"
      },
      "source": [
        "# Variable assignment and computations"
      ]
    },
    {
      "cell_type": "markdown",
      "metadata": {
        "id": "nAauZJX3wMIU"
      },
      "source": [
        "Income and savings"
      ]
    },
    {
      "cell_type": "code",
      "metadata": {
        "id": "x956HxPUtQpC",
        "colab": {
          "base_uri": "https://localhost:8080/"
        },
        "outputId": "9944e54f-4a47-4e36-ca6a-5a800efb12eb"
      },
      "source": [
        "# Create a variable savings\n",
        "savings = 100\n",
        "\n",
        "# Create a variable income\n",
        "income = 500\n",
        "\n",
        "# Print out savings\n",
        "print(savings)\n",
        "\n",
        "# Print out expense\n",
        "expense = income - savings\n",
        "print(expense)"
      ],
      "execution_count": null,
      "outputs": [
        {
          "output_type": "stream",
          "text": [
            "100\n",
            "400\n"
          ],
          "name": "stdout"
        }
      ]
    },
    {
      "cell_type": "markdown",
      "metadata": {
        "id": "scu_k8IgwO2T"
      },
      "source": [
        "Making money"
      ]
    },
    {
      "cell_type": "code",
      "metadata": {
        "id": "vOQboj_CtnPG"
      },
      "source": [
        "# Create a variable savings\n",
        "savings = 100\n",
        "\n",
        "# Create interest rate per year\n",
        "interest_rate = 10/100\n",
        "print(interest_rate)\n",
        "\n",
        "# Calculate growth in savings after a year\n",
        "growth_in_savings = savings + savings * interest_rate\n",
        "\n",
        "# Print out result\n",
        "print(growth_in_savings)\n",
        "\n",
        "# Calculate growth in savings after 2 years\n",
        "# growth_in_savings = savings + savings * interest_rate + savings * interest_rate\n",
        "# growth_in_savings = savings + 2 * ( savings * interest_rate ) \n",
        "n_years = 2\n",
        "growth_in_savings = savings + n_years * ( savings * interest_rate ) \n",
        "print(growth_in_savings)"
      ],
      "execution_count": null,
      "outputs": []
    },
    {
      "cell_type": "code",
      "metadata": {
        "id": "MkfwgnOLuq8m"
      },
      "source": [
        "# Create a variable desc\n",
        "interest_type = 'simple interest'\n",
        "\n",
        "# Create a variable profitable\n",
        "profitable = True"
      ],
      "execution_count": null,
      "outputs": []
    },
    {
      "cell_type": "markdown",
      "metadata": {
        "id": "_FSyPJ7w36li"
      },
      "source": [
        "Using the + operator to paste together two strings can be very useful in building custom messages.\n",
        "\n",
        "To fix the error, you'll need to explicitly convert the types of your variables. More specifically, you'll need str(), to convert a value into a string. str(savings), for example, will convert the integer savings to a string.\n",
        "\n",
        "Similar functions such as int(), float() and bool() will help you convert Python values into any type."
      ]
    },
    {
      "cell_type": "code",
      "metadata": {
        "id": "3klfByNe3m3s"
      },
      "source": [
        "# Fix the printout\n",
        "print(\"I started with $\" + str(savings) + \" and now have $\" + str(growth_in_savings) + \". Awesome!\")\n",
        "\n",
        "# Definition of pi_string\n",
        "pi_string = \"3.1415926\"\n",
        "\n",
        "# Convert pi_string into float: pi_float\n",
        "pi_float = float(pi_string)\n",
        "print(pi_float)"
      ],
      "execution_count": null,
      "outputs": []
    },
    {
      "cell_type": "code",
      "metadata": {
        "id": "PqYhdiuNu3Av",
        "colab": {
          "base_uri": "https://localhost:8080/"
        },
        "outputId": "7cb1b583-6a89-479e-c989-37de1a5f85b9"
      },
      "source": [
        "# Find types of variables\n",
        "print(type(interest_type))\n",
        "print(type(profitable))\n",
        "print(type(growth_in_savings))"
      ],
      "execution_count": null,
      "outputs": [
        {
          "output_type": "stream",
          "text": [
            "<class 'str'>\n",
            "<class 'bool'>\n",
            "<class 'float'>\n"
          ],
          "name": "stdout"
        }
      ]
    },
    {
      "cell_type": "markdown",
      "metadata": {
        "id": "XfO61_P1vWaF"
      },
      "source": [
        "# List"
      ]
    },
    {
      "cell_type": "markdown",
      "metadata": {
        "id": "cM3uRBXgvgLe"
      },
      "source": [
        "Things in my room and prices"
      ]
    },
    {
      "cell_type": "code",
      "metadata": {
        "id": "Kmid8u3FvYhq",
        "colab": {
          "base_uri": "https://localhost:8080/"
        },
        "outputId": "71f7504e-0ac0-4332-b8ad-8a088f806360"
      },
      "source": [
        "# area variables (in square meters)\n",
        "laptop = 1200.00\n",
        "monitor = 100.00\n",
        "notebook = 3.00\n",
        "chair = 30.00\n",
        "table = 100.00\n",
        "\n",
        "# Create list prices\n",
        "prices = [laptop,monitor,notebook,chair,table]\n",
        "\n",
        "# Print areas\n",
        "print(prices)"
      ],
      "execution_count": null,
      "outputs": [
        {
          "output_type": "stream",
          "text": [
            "[1200.0, 100.0, 3.0, 30.0, 100.0]\n"
          ],
          "name": "stdout"
        }
      ]
    },
    {
      "cell_type": "markdown",
      "metadata": {
        "id": "jp-NNVtNwTXo"
      },
      "source": [
        "A list can contain any Python type. Although it's not really common, a list can also contain a mix of Python types including strings, floats, booleans, etc.\n",
        "\n",
        "Add meaningful names"
      ]
    },
    {
      "cell_type": "code",
      "metadata": {
        "id": "UIg_bgOdwZQF",
        "colab": {
          "base_uri": "https://localhost:8080/"
        },
        "outputId": "38d402c6-c7e1-40a5-dfde-ddb6070905d1"
      },
      "source": [
        "prices = [\"laptop\",laptop,\"monitor\",monitor,\"notebook\",notebook,\"chair\",chair,\"table\",table]\n",
        "print(prices)"
      ],
      "execution_count": null,
      "outputs": [
        {
          "output_type": "stream",
          "text": [
            "['laptop', 1200.0, 'monitor', 100.0, 'notebook', 3.0, 'chair', 30.0, 'table', 100.0]\n"
          ],
          "name": "stdout"
        }
      ]
    },
    {
      "cell_type": "markdown",
      "metadata": {
        "id": "Ce9I26J3w2f-"
      },
      "source": [
        "More meaningful with list of list"
      ]
    },
    {
      "cell_type": "code",
      "metadata": {
        "id": "hVrzVGXkw48f",
        "colab": {
          "base_uri": "https://localhost:8080/"
        },
        "outputId": "1926c49d-5c80-481a-d166-275af1cac05b"
      },
      "source": [
        "prices = [[\"laptop\",laptop],[\"monitor\",monitor],[\"notebook\",notebook],[\"chair\",chair],[\"table\",table]]\n",
        "print(prices)"
      ],
      "execution_count": null,
      "outputs": [
        {
          "output_type": "stream",
          "text": [
            "[['laptop', 1200.0], ['monitor', 100.0], ['notebook', 3.0], ['chair', 30.0], ['table', 100.0]]\n"
          ],
          "name": "stdout"
        }
      ]
    },
    {
      "cell_type": "code",
      "metadata": {
        "id": "uA7tcs6ixEAO",
        "colab": {
          "base_uri": "https://localhost:8080/"
        },
        "outputId": "6276b722-75b0-4e79-a180-3ca77b3d3ba0"
      },
      "source": [
        "type(prices)"
      ],
      "execution_count": null,
      "outputs": [
        {
          "output_type": "execute_result",
          "data": {
            "text/plain": [
              "list"
            ]
          },
          "metadata": {},
          "execution_count": 19
        }
      ]
    },
    {
      "cell_type": "markdown",
      "metadata": {
        "id": "FdAJKQbvxMMi"
      },
      "source": [
        "**Subsetting lists**"
      ]
    },
    {
      "cell_type": "code",
      "metadata": {
        "id": "djGTOdPNxN1I",
        "colab": {
          "base_uri": "https://localhost:8080/"
        },
        "outputId": "29bd08c3-79f3-4102-8b2d-59755f4cdfd8"
      },
      "source": [
        "prices[0]\n",
        "prices[1]\n",
        "prices[-1]"
      ],
      "execution_count": null,
      "outputs": [
        {
          "output_type": "execute_result",
          "data": {
            "text/plain": [
              "['laptop', 1200.0]"
            ]
          },
          "metadata": {},
          "execution_count": 20
        }
      ]
    },
    {
      "cell_type": "markdown",
      "metadata": {
        "id": "6-UL_u0ixdiQ"
      },
      "source": [
        "**Subset and calculate**"
      ]
    },
    {
      "cell_type": "code",
      "metadata": {
        "id": "pTJzONOZxfru"
      },
      "source": [
        "# The prices list again\n",
        "prices = [\"laptop\",laptop,\"monitor\",monitor,\"notebook\",notebook,\"chair\",chair,\"table\",table]\n",
        "\n",
        "# Sum of price of electronics\n",
        "sum_price_electronics = prices[1] + prices[3]\n",
        "\n",
        "# Print the variable eat_sleep_area\n",
        "print(sum_price_electronics)"
      ],
      "execution_count": null,
      "outputs": []
    },
    {
      "cell_type": "markdown",
      "metadata": {
        "id": "yWFtSWB41Lfy"
      },
      "source": [
        "A Python list can contain practically anything; even other lists! To subset lists of lists, you can use the same technique as before: square brackets. "
      ]
    },
    {
      "cell_type": "markdown",
      "metadata": {
        "id": "LSt_n-Q6x-0b"
      },
      "source": [
        "**Slicing and dicing**\n",
        "\n",
        "Selecting single values from a list is just one part of the story. It's also possible to slice your list, which means selecting multiple elements from your list. Use the following syntax: `list[start:end]`\n",
        "\n",
        "*The start index will be included, while the end index is not.*\n",
        "\n",
        "However, it's also possible not to specify these indexes. If you don't specify the begin index, Python figures out that you want to start your slice at the beginning of your list. If you don't specify the end index, the slice will go all the way to the last element of your list. "
      ]
    },
    {
      "cell_type": "code",
      "metadata": {
        "id": "VQGsGj_Lx94h"
      },
      "source": [
        "laptop = 1200\n",
        "monitor = 100\n",
        "notebook = 3\n",
        "chair = 30\n",
        "table = 100\n",
        "\n",
        "prices = [1200,100,3,30,100]\n",
        "\n",
        "# Use slicing to create electronics\n",
        "electronics = prices[:2]\n",
        "\n",
        "# Use slicing to create furniture\n",
        "furniture = prices[3:]\n",
        "\n",
        "# Print out downstairs and upstairs\n",
        "print(electronics)\n",
        "print(furniture)"
      ],
      "execution_count": null,
      "outputs": []
    },
    {
      "cell_type": "markdown",
      "metadata": {
        "id": "v4M7KeBI0HQI"
      },
      "source": [
        "Modify list"
      ]
    },
    {
      "cell_type": "code",
      "metadata": {
        "id": "w8bAmD_nz6Wc"
      },
      "source": [
        "# add element to list\n",
        "prices = [\"laptop\",laptop,\"monitor\",monitor,\"notebook\",notebook,\"chair\",chair,\"table\",table]\n",
        "prices[-2] = \"height adjustable table\"\n",
        "print(prices)"
      ],
      "execution_count": null,
      "outputs": []
    },
    {
      "cell_type": "code",
      "metadata": {
        "id": "O-Am53HB0tfV"
      },
      "source": [
        "# add lists by pasting them\n",
        "prices = [\"laptop\",laptop,\"monitor\",monitor,\"notebook\",notebook,\"chair\",chair,\"table\",table] + [\"cup\",10]\n",
        "print(prices)"
      ],
      "execution_count": null,
      "outputs": []
    },
    {
      "cell_type": "markdown",
      "metadata": {
        "id": "j3qtDr5F1UNt"
      },
      "source": [
        "Finally, you can also remove elements from your list. You can do this with the `del` statement\n",
        "\n",
        "```\n",
        "x = [\"a\", \"b\", \"c\", \"d\"]\n",
        "del(x[1])\n",
        "```\n",
        "\n",
        "The Python code in the script already creates a list with the name areas and a copy named areas_copy. Next, the first element in the areas_copy list is changed and the areas list is printed out. If you hit Run Code you'll see that, although you've changed areas_copy, the change also takes effect in the areas list. That's because areas and areas_copy point to the same list.\n",
        "\n",
        "If you want to prevent changes in areas_copy from also taking effect in areas, you'll have to do a more explicit copy of the areas list. You can do this with `list()` or by using `[:]`."
      ]
    },
    {
      "cell_type": "code",
      "metadata": {
        "id": "VIZFSnMY1alp",
        "colab": {
          "base_uri": "https://localhost:8080/"
        },
        "outputId": "e2d9e56b-85cc-46c2-e932-2a5de367601d"
      },
      "source": [
        "prices = [1200,100,3,30,100]\n",
        "# not an explicit copy\n",
        "prices_copy = prices\n",
        "prices_copy[0] = 1205\n",
        "print(prices)"
      ],
      "execution_count": null,
      "outputs": [
        {
          "output_type": "stream",
          "text": [
            "[1205, 100, 3, 30, 100]\n"
          ],
          "name": "stdout"
        }
      ]
    },
    {
      "cell_type": "code",
      "metadata": {
        "id": "fY5DVBnX3I7J"
      },
      "source": [
        "prices = [1200,100,3,30,100]\n",
        "# explicit compy\n",
        "prices_copy = prices[:]\n",
        "prices_copy[0] = 1205\n",
        "print(prices)"
      ],
      "execution_count": null,
      "outputs": []
    },
    {
      "cell_type": "markdown",
      "metadata": {
        "id": "hBqg1Qnt4Hrb"
      },
      "source": [
        "# Functions and packages"
      ]
    },
    {
      "cell_type": "markdown",
      "metadata": {
        "id": "9s5TPDTY4Yel"
      },
      "source": [
        "Simple functions we already use. Uses the syntax function_name(args)"
      ]
    },
    {
      "cell_type": "code",
      "metadata": {
        "id": "gaPHgM8i4QNY"
      },
      "source": [
        "print(len(prices))\n",
        "print(type(savings))"
      ],
      "execution_count": null,
      "outputs": []
    },
    {
      "cell_type": "code",
      "metadata": {
        "id": "9V58JwwG4ry_"
      },
      "source": [
        "?len"
      ],
      "execution_count": null,
      "outputs": []
    },
    {
      "cell_type": "markdown",
      "metadata": {
        "id": "fm_9JokC5yV8"
      },
      "source": [
        "Multiple arguments"
      ]
    },
    {
      "cell_type": "code",
      "metadata": {
        "id": "c7BH0GoB5xeG",
        "colab": {
          "base_uri": "https://localhost:8080/"
        },
        "outputId": "d0dc588b-2181-4511-c205-4df0b7bde5a4"
      },
      "source": [
        "print(prices)\n",
        "#print(sorted(prices))\n",
        "#print(sorted(prices,reverse = True))"
      ],
      "execution_count": null,
      "outputs": [
        {
          "output_type": "stream",
          "text": [
            "['laptop', 1200.0, 'monitor', 100.0, 'notebook', 3.0, 'chair', 30.0, 'table', 100.0, 'cup', 10]\n"
          ],
          "name": "stdout"
        }
      ]
    },
    {
      "cell_type": "markdown",
      "metadata": {
        "id": "ngz7RdUZ8pc2"
      },
      "source": [
        "**Methods** are special functions that only operate only objects that has a specific class. For example the append method for list and the upper method for strings. They follow the syntax `object.method(args)`\n",
        "\n",
        "Functions are executed as `function_name(args)` and not necessarily created with objects in minds. They are generally `package_name.function_name(args)`"
      ]
    },
    {
      "cell_type": "code",
      "metadata": {
        "id": "SQn3Sdah9Vqo",
        "colab": {
          "base_uri": "https://localhost:8080/"
        },
        "outputId": "b4825a10-c82d-4e6c-c992-233905983385"
      },
      "source": [
        "# string to experiment with: room\n",
        "place = \"poolhouse\"\n",
        "\n",
        "# Use upper() on room: room_up\n",
        "place_up = place.upper()\n",
        "\n",
        "# Print out room and room_up\n",
        "print(place)\n",
        "print(place_up)\n",
        "\n",
        "# Print out the number of o's in room\n",
        "print(place.count(\"o\"))"
      ],
      "execution_count": null,
      "outputs": [
        {
          "output_type": "stream",
          "text": [
            "poolhouse\n",
            "POOLHOUSE\n",
            "3\n"
          ],
          "name": "stdout"
        }
      ]
    },
    {
      "cell_type": "code",
      "metadata": {
        "id": "poJ_TFTc9ZmD",
        "colab": {
          "base_uri": "https://localhost:8080/"
        },
        "outputId": "9f284dee-48bc-4509-e6c2-f5adcd9a7d29"
      },
      "source": [
        "# Create list areas\n",
        "areas = [11.25, 18.0, 20.0, 10.75, 9.50]\n",
        "\n",
        "# Print out the index of the element 20.0\n",
        "print(areas.index(20.0))\n",
        "\n",
        "# Print out how often 14.5 appears in areas\n",
        "print(areas.count(9.50))"
      ],
      "execution_count": null,
      "outputs": [
        {
          "output_type": "stream",
          "text": [
            "2\n",
            "1\n"
          ],
          "name": "stdout"
        }
      ]
    },
    {
      "cell_type": "code",
      "metadata": {
        "id": "lpyx1gGQ9fNC",
        "colab": {
          "base_uri": "https://localhost:8080/"
        },
        "outputId": "d5086844-1d31-42e9-d5e0-a1794a028d7d"
      },
      "source": [
        "# Create list areas\n",
        "areas = [11.25, 18.0, 20.0, 10.75, 9.50]\n",
        "\n",
        "# Use append twice to add poolhouse and garage size\n",
        "areas.append(24.5)\n",
        "areas.append(15.45)\n",
        "\n",
        "# Print out areas\n",
        "print(areas)\n",
        "\n",
        "# Reverse the orders of the elements in areas\n",
        "areas.reverse()\n",
        "\n",
        "# Print out areas\n",
        "print(areas)"
      ],
      "execution_count": null,
      "outputs": [
        {
          "output_type": "stream",
          "text": [
            "[11.25, 18.0, 20.0, 10.75, 9.5, 24.5, 15.45]\n",
            "[15.45, 24.5, 9.5, 10.75, 20.0, 18.0, 11.25]\n"
          ],
          "name": "stdout"
        }
      ]
    },
    {
      "cell_type": "code",
      "metadata": {
        "id": "XPGzfEpV9ocj",
        "colab": {
          "base_uri": "https://localhost:8080/"
        },
        "outputId": "874f3fca-0480-469b-cf48-c3cec7fa600e"
      },
      "source": [
        "# Definition of radius\n",
        "r = 0.43\n",
        "\n",
        "# Import the math package\n",
        "import math\n",
        "\n",
        "# Calculate C\n",
        "C = 2*math.pi*r\n",
        "\n",
        "# Calculate A\n",
        "A = math.pi*r**2\n",
        "\n",
        "# Build printout\n",
        "print(\"Circumference: \" + str(C))\n",
        "print(\"Area: \" + str(A))"
      ],
      "execution_count": null,
      "outputs": [
        {
          "output_type": "stream",
          "text": [
            "Circumference: 2.701769682087222\n",
            "Area: 0.5808804816487527\n"
          ],
          "name": "stdout"
        }
      ]
    },
    {
      "cell_type": "code",
      "metadata": {
        "id": "t7CrGaF29uRS"
      },
      "source": [
        "# Definition of radius\n",
        "r = 192500\n",
        "\n",
        "# Import radians function of math package\n",
        "from math import radians\n",
        "\n",
        "# Travel distance of Moon over 12 degrees. Store in dist.\n",
        "phi = radians(12)\n",
        "dist = r*phi\n",
        "\n",
        "# Print out dist\n",
        "print(dist)"
      ],
      "execution_count": null,
      "outputs": []
    },
    {
      "cell_type": "markdown",
      "metadata": {
        "id": "1tcOTrBNRV0l"
      },
      "source": [
        "# Numpy"
      ]
    },
    {
      "cell_type": "code",
      "metadata": {
        "id": "--qcuiHCRYzI"
      },
      "source": [
        "import numpy as np"
      ],
      "execution_count": null,
      "outputs": []
    },
    {
      "cell_type": "markdown",
      "metadata": {
        "id": "VSruPRpDSL7-"
      },
      "source": [
        "Heart disease since 2015 \n",
        "\n"
      ]
    },
    {
      "cell_type": "code",
      "metadata": {
        "id": "Ra-g2BVjR--z"
      },
      "source": [
        "heart_disease = [0.633,0.635,0.647,0.657,0.659,0.690]"
      ],
      "execution_count": null,
      "outputs": []
    },
    {
      "cell_type": "code",
      "metadata": {
        "colab": {
          "base_uri": "https://localhost:8080/"
        },
        "id": "1xcTMnW4SgCi",
        "outputId": "5a97e5db-26e5-44df-d894-56d038737911"
      },
      "source": [
        "print(np.array(heart_disease))\n",
        "print(type(np.array(heart_disease)))"
      ],
      "execution_count": null,
      "outputs": [
        {
          "output_type": "stream",
          "text": [
            "[2.71 2.74 2.81 2.83 2.85 3.35]\n",
            "<class 'numpy.ndarray'>\n"
          ],
          "name": "stdout"
        }
      ]
    },
    {
      "cell_type": "code",
      "metadata": {
        "colab": {
          "base_uri": "https://localhost:8080/"
        },
        "id": "mPUxsUeCSyoZ",
        "outputId": "6cadea0e-b069-480c-ad8f-8bc8cf899564"
      },
      "source": [
        "np_heart_disease = np.array(heart_disease)\n",
        "# simple operations\n",
        "np_heart_disease * 10e6"
      ],
      "execution_count": null,
      "outputs": [
        {
          "output_type": "execute_result",
          "data": {
            "text/plain": [
              "array([6330000., 6350000., 6470000., 6570000., 6590000., 6900000.])"
            ]
          },
          "metadata": {},
          "execution_count": 10
        }
      ]
    },
    {
      "cell_type": "code",
      "metadata": {
        "id": "FBm-dDY3TwYv"
      },
      "source": [
        "# cancer deaths since 2015\n",
        "np_cancer = np.array([0.595,0.598,0.599,0.599,0.599,0.598])"
      ],
      "execution_count": null,
      "outputs": []
    },
    {
      "cell_type": "markdown",
      "metadata": {
        "id": "HlI2Xz9yVIR0"
      },
      "source": [
        "**Element by element operation**"
      ]
    },
    {
      "cell_type": "code",
      "metadata": {
        "colab": {
          "base_uri": "https://localhost:8080/"
        },
        "id": "JscinvNgUtGH",
        "outputId": "b8547677-42e7-4d8f-9a80-5f0d4704335d"
      },
      "source": [
        "ratio = np_heart_disease / np_cancer\n",
        "print(ratio)"
      ],
      "execution_count": null,
      "outputs": [
        {
          "output_type": "stream",
          "text": [
            "[1.06386555 1.06187291 1.08013356 1.09682805 1.10016694 1.15384615]\n"
          ],
          "name": "stdout"
        }
      ]
    },
    {
      "cell_type": "markdown",
      "metadata": {
        "id": "GYK2bvl3VOCM"
      },
      "source": [
        "More intuitive to subset compared to lists. To subset both regular Python lists and numpy arrays, you can use square brackets. For numpy specifically, you can also use boolean numpy arrays:"
      ]
    },
    {
      "cell_type": "code",
      "metadata": {
        "colab": {
          "base_uri": "https://localhost:8080/"
        },
        "id": "0ymbWuKrVRLt",
        "outputId": "df31bbdd-e498-40a2-a05d-49fb7bc0286e"
      },
      "source": [
        "# heart disease cases less than 0.65\n",
        "print(np_heart_disease < 0.65)\n",
        "# assign this to object low\n",
        "low = np_heart_disease < 0.65\n",
        "# now subset\n",
        "print(np_heart_disease[low])"
      ],
      "execution_count": null,
      "outputs": [
        {
          "output_type": "stream",
          "text": [
            "[ True  True  True False False False]\n",
            "[0.633 0.635 0.647]\n"
          ],
          "name": "stdout"
        }
      ]
    },
    {
      "cell_type": "markdown",
      "metadata": {
        "id": "sgUY_3fJV2Ta"
      },
      "source": [
        "Numpy arrays cannot **contain elements with different types**. If you try to build such a list, some of the elements' types are changed to end up with a homogeneous list. This is known as type coercion."
      ]
    },
    {
      "cell_type": "markdown",
      "metadata": {
        "id": "DV0ZHs9DWbso"
      },
      "source": [
        "**2 D numpy arrays**"
      ]
    },
    {
      "cell_type": "code",
      "metadata": {
        "id": "XfYmBS-RWawZ"
      },
      "source": [
        "# heart disease deaths and year information\n",
        "heart_disease = [[2015,0.633],\n",
        "                 [2016,0.635],\n",
        "                 [2017,0.647],\n",
        "                 [2018,0.657],\n",
        "                 [2019,0.659],\n",
        "                 [2020,0.690]]\n",
        "\n",
        "# create a 2D numpy array\n",
        "heart_disease_2d = np.array(heart_disease)\n",
        "\n",
        "print(heart_disease_2d)"
      ],
      "execution_count": null,
      "outputs": []
    },
    {
      "cell_type": "code",
      "metadata": {
        "colab": {
          "base_uri": "https://localhost:8080/"
        },
        "id": "BGj1Nsm9XU8m",
        "outputId": "91457ac3-db4e-4fc5-f029-e2d0dd8f59de"
      },
      "source": [
        "heart_disease_2d.shape\n",
        "heart_disease_2d[3,:]\n",
        "heart_disease_2d[:,1]"
      ],
      "execution_count": null,
      "outputs": [
        {
          "output_type": "execute_result",
          "data": {
            "text/plain": [
              "array([0.633, 0.635, 0.647, 0.657, 0.659, 0.69 ])"
            ]
          },
          "metadata": {},
          "execution_count": 27
        }
      ]
    },
    {
      "cell_type": "markdown",
      "metadata": {
        "id": "leaZ7bMgJUsh"
      },
      "source": [
        "Easy to perform simple arithmetic operations"
      ]
    },
    {
      "cell_type": "code",
      "metadata": {
        "colab": {
          "base_uri": "https://localhost:8080/"
        },
        "id": "9mu_gvg2Xzqy",
        "outputId": "21fcd778-f2c9-48c6-f197-93dddd5d513a"
      },
      "source": [
        "# mean\n",
        "np.mean(heart_disease_2d[:,1])"
      ],
      "execution_count": null,
      "outputs": [
        {
          "output_type": "execute_result",
          "data": {
            "text/plain": [
              "0.6535"
            ]
          },
          "metadata": {},
          "execution_count": 30
        }
      ]
    }
  ]
}
