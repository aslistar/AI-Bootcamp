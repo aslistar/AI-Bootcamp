{
  "nbformat": 4,
  "nbformat_minor": 0,
  "metadata": {
    "colab": {
      "name": "functionspy.ipynb",
      "provenance": [],
      "collapsed_sections": [],
      "toc_visible": true,
      "authorship_tag": "ABX9TyMwPN8rL7AWjKmJhKMiWJ9z",
      "include_colab_link": true
    },
    "kernelspec": {
      "name": "python3",
      "display_name": "Python 3"
    },
    "language_info": {
      "name": "python"
    }
  },
  "cells": [
    {
      "cell_type": "markdown",
      "metadata": {
        "id": "view-in-github",
        "colab_type": "text"
      },
      "source": [
        "<a href=\"https://colab.research.google.com/github/pallavrouth/AI-Bootcamp/blob/main/functionspy.ipynb\" target=\"_parent\"><img src=\"https://colab.research.google.com/assets/colab-badge.svg\" alt=\"Open In Colab\"/></a>"
      ]
    },
    {
      "cell_type": "markdown",
      "metadata": {
        "id": "xjC7e4XsZfuL"
      },
      "source": [
        "# Simple function"
      ]
    },
    {
      "cell_type": "markdown",
      "metadata": {
        "id": "D7nbBvw_Zppt"
      },
      "source": [
        "**Simple function with no parameter**"
      ]
    },
    {
      "cell_type": "code",
      "metadata": {
        "colab": {
          "base_uri": "https://localhost:8080/"
        },
        "id": "7ctXCH4XqIMA",
        "outputId": "b4eb3f4e-c3fb-4212-aba9-b3243b356d32"
      },
      "source": [
        "def ask_question():\n",
        "  \"\"\"print a string that asks why\"\"\"\n",
        "  # Concatenate the strings\n",
        "  question = \"But, why\" + \"??\"\n",
        "  # print\n",
        "  print(question)\n",
        "\n",
        "# call this function\n",
        "ask_question()"
      ],
      "execution_count": null,
      "outputs": [
        {
          "output_type": "stream",
          "text": [
            "But, why??\n"
          ],
          "name": "stdout"
        }
      ]
    },
    {
      "cell_type": "markdown",
      "metadata": {
        "id": "b5fFbDGhZrkb"
      },
      "source": [
        "**One parameter**"
      ]
    },
    {
      "cell_type": "code",
      "metadata": {
        "colab": {
          "base_uri": "https://localhost:8080/"
        },
        "id": "HPlbwSG5ZwlJ",
        "outputId": "602f100f-037b-42ac-fbf7-638f3379d72d"
      },
      "source": [
        "def ask_question(words):\n",
        "  \"\"\"print a string that asks why\"\"\"\n",
        "  # Concatenate the strings\n",
        "  question = words + \"??\"\n",
        "  # print\n",
        "  print(question)\n",
        "\n",
        "# call this function with a specific question\n",
        "ask_question(\"when are you coming home\")"
      ],
      "execution_count": null,
      "outputs": [
        {
          "output_type": "stream",
          "text": [
            "when are you coming home??\n"
          ],
          "name": "stdout"
        }
      ]
    },
    {
      "cell_type": "markdown",
      "metadata": {
        "id": "K_cVWX9JZ7IC"
      },
      "source": [
        "**Returning a value**"
      ]
    },
    {
      "cell_type": "code",
      "metadata": {
        "id": "i7cYoHvbZ8k6",
        "colab": {
          "base_uri": "https://localhost:8080/"
        },
        "outputId": "fa6e165e-362e-4589-bbd9-7ccc9aad0abd"
      },
      "source": [
        "def ask_question(words):\n",
        "  \"\"\"print a string that asks why\"\"\"\n",
        "  # Concatenate the strings\n",
        "  question = words + \"??\"\n",
        "  # print\n",
        "  return question\n",
        "\n",
        "# Pass 'congratulations' to shout: yell\n",
        "my_question = ask_question('what will you eat for dinner')\n",
        "\n",
        "# Print yell\n",
        "print(my_question)"
      ],
      "execution_count": null,
      "outputs": [
        {
          "output_type": "stream",
          "text": [
            "what will you eat for dinner??\n"
          ],
          "name": "stdout"
        }
      ]
    },
    {
      "cell_type": "markdown",
      "metadata": {
        "id": "KjZUWTIu3JNT"
      },
      "source": [
        "**Bit complex function.** \n",
        "\n",
        "I am given a set of sentences. I need to create a function that counts the number of words for each sentence. "
      ]
    },
    {
      "cell_type": "code",
      "metadata": {
        "id": "NFpYuCqT3Id9"
      },
      "source": [
        "famous_quotes = [\"The greatest glory in living lies not in never falling, but in rising every time we fall.\",\n",
        "                 \"The way to get started is to quit talking and begin doing.\",\n",
        "                 \"If life were predictable it would cease to be life, and be without flavor.\",\n",
        "                 \"If you look at what you have in life, you'll always have more. If you look at what you don't have in life, you'll never have enough.\",\n",
        "                 \"If you set your goals ridiculously high and it's a failure, you will fail above everyone else's success.\"]"
      ],
      "execution_count": null,
      "outputs": []
    },
    {
      "cell_type": "code",
      "metadata": {
        "colab": {
          "base_uri": "https://localhost:8080/"
        },
        "id": "6qqGqf7h31un",
        "outputId": "9eff770b-a62b-4fff-838d-3e6adcb9fb4d"
      },
      "source": [
        "print(famous_quotes[1])"
      ],
      "execution_count": null,
      "outputs": [
        {
          "output_type": "stream",
          "text": [
            "The way to get started is to quit talking and begin doing.\n"
          ],
          "name": "stdout"
        }
      ]
    },
    {
      "cell_type": "markdown",
      "metadata": {
        "id": "c3rM3Xr0z4LA"
      },
      "source": [
        "1. What strategy should I use?\n",
        "2. The internal steps of the function using a simple example"
      ]
    },
    {
      "cell_type": "code",
      "metadata": {
        "id": "SRcwZpxb3488"
      },
      "source": [
        "# how do we count the number of words?\n",
        "example_sentence = \"My name is Pallav\"\n",
        "# a simple strategy is to split this sentence by white space\n",
        "# and then count the number of elements using the len command\n",
        "print(example_sentence.split(' '))\n",
        "words_list = example_sentence.split(' ')\n",
        "words_list_length = len(words_list)\n",
        "print(words_list_length)"
      ],
      "execution_count": null,
      "outputs": []
    },
    {
      "cell_type": "code",
      "metadata": {
        "id": "LwynzLJ_4nBK"
      },
      "source": [
        "def get_length(sentence):\n",
        "  # enter docstring\n",
        "  # split words \n",
        "  words = sentence.split(' ')\n",
        "  # get length of list\n",
        "  words_length = len(words_list)\n",
        "  return words_list_length"
      ],
      "execution_count": null,
      "outputs": []
    },
    {
      "cell_type": "code",
      "metadata": {
        "colab": {
          "base_uri": "https://localhost:8080/"
        },
        "id": "Tr6eiHqg5Hyv",
        "outputId": "cff08459-6003-443d-968c-107dfd64ba66"
      },
      "source": [
        "get_length(famous_quotes[0])\n",
        "get_length(famous_quotes[1])"
      ],
      "execution_count": null,
      "outputs": [
        {
          "output_type": "execute_result",
          "data": {
            "text/plain": [
              "12"
            ]
          },
          "metadata": {},
          "execution_count": 14
        }
      ]
    },
    {
      "cell_type": "code",
      "metadata": {
        "colab": {
          "base_uri": "https://localhost:8080/"
        },
        "id": "YPWw4oO45Yic",
        "outputId": "e90f9f58-550f-4948-975e-0390ef7f7acf"
      },
      "source": [
        "# iterate over the quotes \n",
        "for quote in famous_quotes:\n",
        "  num_words = get_length(quote)\n",
        "  print('This quote is: ',quote)\n",
        "  print('The number of words in this quote are: ',num_words)"
      ],
      "execution_count": null,
      "outputs": [
        {
          "output_type": "stream",
          "text": [
            "This quote is:  The greatest glory in living lies not in never falling, but in rising every time we fall.\n",
            "The number of words in this quote are:  17\n",
            "This quote is:  The way to get started is to quit talking and begin doing.\n",
            "The number of words in this quote are:  12\n",
            "This quote is:  If life were predictable it would cease to be life, and be without flavor.\n",
            "The number of words in this quote are:  14\n",
            "This quote is:  If you look at what you have in life, you'll always have more. If you look at what you don't have in life, you'll never have enough.\n",
            "The number of words in this quote are:  27\n",
            "This quote is:  If you set your goals ridiculously high and it's a failure, you will fail above everyone else's success.\n",
            "The number of words in this quote are:  18\n"
          ],
          "name": "stdout"
        }
      ]
    },
    {
      "cell_type": "markdown",
      "metadata": {
        "id": "dhr8mFDKOPG-"
      },
      "source": [
        "Instead of printing, store result"
      ]
    },
    {
      "cell_type": "code",
      "metadata": {
        "id": "sO_mewzT51N7"
      },
      "source": [
        "# initiate list to store result\n",
        "quote_length = []\n",
        "\n",
        "for quote in famous_quotes:\n",
        "  num_words = get_length(quote)\n",
        "  quote_length.append(num_words)"
      ],
      "execution_count": null,
      "outputs": []
    },
    {
      "cell_type": "code",
      "metadata": {
        "colab": {
          "base_uri": "https://localhost:8080/"
        },
        "id": "g5LiRdnA6HLo",
        "outputId": "b02627fd-fe19-45c9-95b4-28e89d4def1a"
      },
      "source": [
        "print(quote_length)"
      ],
      "execution_count": null,
      "outputs": [
        {
          "output_type": "stream",
          "text": [
            "[17, 12, 14, 27, 18]\n"
          ],
          "name": "stdout"
        }
      ]
    },
    {
      "cell_type": "markdown",
      "metadata": {
        "id": "WDakl3m306uv"
      },
      "source": [
        "**A function that loops over the list**\n"
      ]
    },
    {
      "cell_type": "code",
      "metadata": {
        "id": "D4QUi_uI6Kym"
      },
      "source": [
        "def word_length_list(lst):\n",
        "  # initiate list to store result\n",
        "  result = []\n",
        "  for sentence in lst:\n",
        "    # split the sentence\n",
        "    words = sentence.split(' ')\n",
        "    # find length\n",
        "    len_words = len(words)\n",
        "    result.append(len_words)\n",
        "  return(result)"
      ],
      "execution_count": null,
      "outputs": []
    },
    {
      "cell_type": "code",
      "metadata": {
        "colab": {
          "base_uri": "https://localhost:8080/"
        },
        "id": "4nR1ipBC8Vlk",
        "outputId": "f25b430f-ecd6-4486-deac-9001fe786790"
      },
      "source": [
        "word_length_list(famous_quotes)"
      ],
      "execution_count": null,
      "outputs": [
        {
          "output_type": "execute_result",
          "data": {
            "text/plain": [
              "[17, 12, 14, 27, 18]"
            ]
          },
          "metadata": {},
          "execution_count": 28
        }
      ]
    },
    {
      "cell_type": "markdown",
      "metadata": {
        "id": "2Cx3_LO40Jg7"
      },
      "source": [
        "**One step further:**\n",
        "\n",
        "I am given a set of sentences. I have to do the following - Given a sentence, I have to calculate the number of words. If the number of words, exceed a certain threshold (15), then I want to classify this sentence as a \"long sentence\" else I want to classify this as a short sentence."
      ]
    },
    {
      "cell_type": "code",
      "metadata": {
        "id": "ACYnTrsNzuM8"
      },
      "source": [
        "def describe_sentence(sentence):\n",
        "  words = sentence.split(' ')\n",
        "  num_words = len(words)\n",
        "  # add logic for threshold\n",
        "  if num_words > 15:\n",
        "    result = 'The number of words are ' + str(num_words) + '. So, this is a long quote'\n",
        "  else:\n",
        "    result = 'The number of words are ' + str(num_words) + '. So, this is a short quote'\n",
        "  return result"
      ],
      "execution_count": null,
      "outputs": []
    },
    {
      "cell_type": "code",
      "metadata": {
        "colab": {
          "base_uri": "https://localhost:8080/",
          "height": 37
        },
        "id": "2yVJbR9L2vHy",
        "outputId": "40333341-0718-49e1-a2ab-94285261754f"
      },
      "source": [
        "describe_sentence(famous_quotes[1])"
      ],
      "execution_count": null,
      "outputs": [
        {
          "output_type": "execute_result",
          "data": {
            "application/vnd.google.colaboratory.intrinsic+json": {
              "type": "string"
            },
            "text/plain": [
              "'The number of words are 12. So, this is a short quote'"
            ]
          },
          "metadata": {},
          "execution_count": 56
        }
      ]
    },
    {
      "cell_type": "markdown",
      "metadata": {
        "id": "SDv71mU63Eg-"
      },
      "source": [
        "Add threshold as an additional input"
      ]
    },
    {
      "cell_type": "code",
      "metadata": {
        "id": "PlDcp0EG3CLI"
      },
      "source": [
        "def describe_sentence(sentence,threshold):\n",
        "  words = sentence.split(' ')\n",
        "  num_words = len(words)\n",
        "  # add logic for threshold\n",
        "  if num_words > threshold:\n",
        "    result = 'The number of words are ' + str(num_words) + '. So, this is a long quote'\n",
        "  else:\n",
        "    result = 'The number of words are ' + str(num_words) + '. So, this is a short quote'\n",
        "  return result\n",
        "\n",
        "describe_sentence(famous_quotes[3],19)  "
      ],
      "execution_count": null,
      "outputs": []
    },
    {
      "cell_type": "markdown",
      "metadata": {
        "id": "uW1l5KL8PFrV"
      },
      "source": [
        "**Get desired output**"
      ]
    },
    {
      "cell_type": "code",
      "metadata": {
        "colab": {
          "base_uri": "https://localhost:8080/"
        },
        "id": "0j1GSfag3X-M",
        "outputId": "b173730f-5916-4c70-fdaf-c190aac3e927"
      },
      "source": [
        "# loop over all quotes to get output\n",
        "for quote in famous_quotes:\n",
        "  print(describe_sentence(quote,15))"
      ],
      "execution_count": null,
      "outputs": [
        {
          "output_type": "stream",
          "text": [
            "The number of words are 17. So, this is a long quote\n",
            "The number of words are 12. So, this is a short quote\n",
            "The number of words are 14. So, this is a short quote\n",
            "The number of words are 27. So, this is a long quote\n",
            "The number of words are 18. So, this is a long quote\n"
          ],
          "name": "stdout"
        }
      ]
    },
    {
      "cell_type": "code",
      "metadata": {
        "id": "QEyNnA2L6jB_"
      },
      "source": [
        "# store the result in list instead of printing\n",
        "quote_description = []\n",
        "for quote in famous_quotes:\n",
        "  quote_info = describe_sentence(quote,15)\n",
        "  quote_description.append(quote_info)"
      ],
      "execution_count": null,
      "outputs": []
    },
    {
      "cell_type": "code",
      "metadata": {
        "colab": {
          "base_uri": "https://localhost:8080/"
        },
        "id": "HYSl968l66ds",
        "outputId": "91829dde-fb27-49b9-b9da-6a2ff471892b"
      },
      "source": [
        "print(quote_description)"
      ],
      "execution_count": null,
      "outputs": [
        {
          "output_type": "stream",
          "text": [
            "['The number of words are 17. So, this is a long quote', 'The number of words are 12. So, this is a short quote', 'The number of words are 14. So, this is a short quote', 'The number of words are 27. So, this is a long quote', 'The number of words are 18. So, this is a long quote']\n"
          ],
          "name": "stdout"
        }
      ]
    },
    {
      "cell_type": "markdown",
      "metadata": {
        "id": "gWeqeZuUCl_z"
      },
      "source": [
        "Default argument"
      ]
    },
    {
      "cell_type": "code",
      "metadata": {
        "id": "gFZzefo6CNHh"
      },
      "source": [
        "# use threshold as default argument\n",
        "def describe_sentence(sentence,threshold = 15):\n",
        "  words = sentence.split(' ')\n",
        "  num_words = len(words)\n",
        "  if num_words > threshold:\n",
        "    result = 'The number of words are ' + str(num_words) + '. So, this is a long quote'\n",
        "  else:\n",
        "    result = 'The number of words are ' + str(num_words) + '. So, this is a short quote'\n",
        "  return result"
      ],
      "execution_count": null,
      "outputs": []
    },
    {
      "cell_type": "code",
      "metadata": {
        "colab": {
          "base_uri": "https://localhost:8080/",
          "height": 37
        },
        "id": "84bAWte5Cp-Z",
        "outputId": "271fdba5-20a4-4a1c-806d-475b121f129d"
      },
      "source": [
        "describe_sentence(famous_quotes[1])"
      ],
      "execution_count": null,
      "outputs": [
        {
          "output_type": "execute_result",
          "data": {
            "application/vnd.google.colaboratory.intrinsic+json": {
              "type": "string"
            },
            "text/plain": [
              "'The number of words are 12. So, this is a short quote'"
            ]
          },
          "metadata": {},
          "execution_count": 83
        }
      ]
    },
    {
      "cell_type": "markdown",
      "metadata": {
        "id": "YEJSstgi7mnd"
      },
      "source": [
        "**A step further: Return multiple values** \n",
        "\n",
        "Store in a short condensed format.\n",
        "\n",
        "\n",
        "\n"
      ]
    },
    {
      "cell_type": "code",
      "metadata": {
        "id": "KsD3TG6u7Yen"
      },
      "source": [
        "def describe_sentence(sentence,threshold):\n",
        "  words = sentence.split(' ')\n",
        "  num_words = len(words)\n",
        "  if num_words > threshold:\n",
        "    classification = 'long'\n",
        "  else:\n",
        "    classification = 'short'\n",
        "  # store result in tuple format  \n",
        "  return (num_words,classification)"
      ],
      "execution_count": null,
      "outputs": []
    },
    {
      "cell_type": "code",
      "metadata": {
        "colab": {
          "base_uri": "https://localhost:8080/"
        },
        "id": "q7SQFuOm7rSB",
        "outputId": "b227a309-8352-4339-8f49-7c4e562bd87e"
      },
      "source": [
        "describe_sentence(famous_quotes[0],15)"
      ],
      "execution_count": null,
      "outputs": [
        {
          "output_type": "execute_result",
          "data": {
            "text/plain": [
              "(17, 'long')"
            ]
          },
          "metadata": {},
          "execution_count": 73
        }
      ]
    },
    {
      "cell_type": "code",
      "metadata": {
        "id": "6KC9FzWe72Oz"
      },
      "source": [
        "# iterate and store result\n",
        "quote_description = []\n",
        "for quote in famous_quotes:\n",
        "  quote_info = describe_sentence(quote,15)\n",
        "  quote_description.append(quote_info)"
      ],
      "execution_count": null,
      "outputs": []
    },
    {
      "cell_type": "code",
      "metadata": {
        "colab": {
          "base_uri": "https://localhost:8080/"
        },
        "id": "mY033Xir8MNZ",
        "outputId": "525a55f1-3427-4499-db73-bad33cacfd67"
      },
      "source": [
        "print(quote_description)"
      ],
      "execution_count": null,
      "outputs": [
        {
          "output_type": "stream",
          "text": [
            "[(17, 'long'), (12, 'short'), (14, 'short'), (27, 'long'), (18, 'long')]\n"
          ],
          "name": "stdout"
        }
      ]
    },
    {
      "cell_type": "code",
      "metadata": {
        "colab": {
          "base_uri": "https://localhost:8080/"
        },
        "id": "V5zqCSOz8P4O",
        "outputId": "92728029-48bf-4d0b-9abb-6d02b859df47"
      },
      "source": [
        "# then print in nice way\n",
        "for item in quote_description:\n",
        "  print('The number of words are '+str(item[0])+'. So this is a '+item[1],\"quote.\")"
      ],
      "execution_count": null,
      "outputs": [
        {
          "output_type": "stream",
          "text": [
            "The number of words are 17. So this is a long quote.\n",
            "The number of words are 12. So this is a short quote.\n",
            "The number of words are 14. So this is a short quote.\n",
            "The number of words are 27. So this is a long quote.\n",
            "The number of words are 18. So this is a long quote.\n"
          ],
          "name": "stdout"
        }
      ]
    },
    {
      "cell_type": "markdown",
      "metadata": {
        "id": "H037CJ37_uUH"
      },
      "source": [
        "# Scope"
      ]
    },
    {
      "cell_type": "markdown",
      "metadata": {
        "id": "3r39Lc2y_yKB"
      },
      "source": [
        "A little bit on scope: not all objects are accessible everywhere. Scope: part of the program where an object may be accessible. \n",
        "\n",
        "1.   **Global scope** : object defined in the main body of the script\n",
        "2.   **Local scope** : object defined in the function. But not accessible outside the function.\n",
        "3. **Built in scope** : objects or names that built into python\n",
        "\n"
      ]
    },
    {
      "cell_type": "code",
      "metadata": {
        "id": "sH5LB26KAtyN"
      },
      "source": [
        "def square_num(a):\n",
        "  result = a ** 2\n",
        "  return result"
      ],
      "execution_count": null,
      "outputs": []
    },
    {
      "cell_type": "code",
      "metadata": {
        "colab": {
          "base_uri": "https://localhost:8080/"
        },
        "id": "42Ryq2NlA4ga",
        "outputId": "b3d9f7a7-18bc-4753-dc3c-7cefdb3f1762"
      },
      "source": [
        "square_num(10)"
      ],
      "execution_count": null,
      "outputs": [
        {
          "output_type": "execute_result",
          "data": {
            "text/plain": [
              "100"
            ]
          },
          "metadata": {},
          "execution_count": 2
        }
      ]
    },
    {
      "cell_type": "code",
      "metadata": {
        "id": "QNGIpELAA7PY"
      },
      "source": [
        "#print(result)\n",
        "result = 200"
      ],
      "execution_count": null,
      "outputs": []
    },
    {
      "cell_type": "code",
      "metadata": {
        "colab": {
          "base_uri": "https://localhost:8080/"
        },
        "id": "pBrdK2HCBSWF",
        "outputId": "e1496ae5-8963-4299-c328-15298c3fafef"
      },
      "source": [
        "print(square_num(10))\n",
        "print(result)"
      ],
      "execution_count": null,
      "outputs": [
        {
          "output_type": "stream",
          "text": [
            "100\n",
            "200\n"
          ],
          "name": "stdout"
        }
      ]
    },
    {
      "cell_type": "markdown",
      "metadata": {
        "id": "zr6greNyCPZj"
      },
      "source": [
        "# Lambda"
      ]
    },
    {
      "cell_type": "code",
      "metadata": {
        "id": "5Gvz4S21COqw"
      },
      "source": [
        "def get_length(sentence):\n",
        "  words_list = sentence.split(' ')\n",
        "  words_list_length = len(words_list)\n",
        "  return words_list_length"
      ],
      "execution_count": null,
      "outputs": []
    },
    {
      "cell_type": "code",
      "metadata": {
        "id": "6c5--hOLB4aN"
      },
      "source": [
        "get_length2 = lambda sentence : len(sentence.split(' '))"
      ],
      "execution_count": null,
      "outputs": []
    },
    {
      "cell_type": "code",
      "metadata": {
        "colab": {
          "base_uri": "https://localhost:8080/"
        },
        "id": "cZZiGxQRCTOE",
        "outputId": "74294cd6-0961-4a10-e3da-024339ad075f"
      },
      "source": [
        "get_length2(famous_quotes[1])"
      ],
      "execution_count": null,
      "outputs": [
        {
          "output_type": "execute_result",
          "data": {
            "text/plain": [
              "12"
            ]
          },
          "metadata": {},
          "execution_count": 10
        }
      ]
    },
    {
      "cell_type": "markdown",
      "metadata": {
        "id": "1mAsv5PeCeqy"
      },
      "source": [
        "Allows you to write a function in a quick way. however you loose out on the details. but there are situations where it is handy. For example when the function is small. And you dont want to unncessarily name this function. \n",
        "\n",
        "It can also be combined with map"
      ]
    },
    {
      "cell_type": "code",
      "metadata": {
        "colab": {
          "base_uri": "https://localhost:8080/"
        },
        "id": "KOK0k8qNCtpS",
        "outputId": "ec3607b3-225a-4a40-b7b8-383e109d73f5"
      },
      "source": [
        "map(lambda sentence : len(sentence.split(' ')),famous_quotes)"
      ],
      "execution_count": null,
      "outputs": [
        {
          "output_type": "execute_result",
          "data": {
            "text/plain": [
              "<map at 0x7f4922d18ad0>"
            ]
          },
          "metadata": {},
          "execution_count": 11
        }
      ]
    },
    {
      "cell_type": "code",
      "metadata": {
        "colab": {
          "base_uri": "https://localhost:8080/"
        },
        "id": "0dbjWXtlC7Qd",
        "outputId": "932cfab6-a2a9-4305-829d-bfce66408fdb"
      },
      "source": [
        "list(map(lambda sentence : len(sentence.split(' ')),famous_quotes))"
      ],
      "execution_count": null,
      "outputs": [
        {
          "output_type": "execute_result",
          "data": {
            "text/plain": [
              "[17, 12, 14, 27, 18]"
            ]
          },
          "metadata": {},
          "execution_count": 12
        }
      ]
    },
    {
      "cell_type": "markdown",
      "metadata": {
        "id": "mQY-w99jD6X-"
      },
      "source": [
        "# Error handling"
      ]
    },
    {
      "cell_type": "code",
      "metadata": {
        "id": "rOM_MHriD-B5"
      },
      "source": [
        "famous_quotes = [\"The greatest glory in living lies not in never falling, but in rising every time we fall.\",\n",
        "                 \"The way to get started is to quit talking and begin doing.\",\n",
        "                 \"If life were predictable it would cease to be life, and be without flavor.\",\n",
        "                 \"If you look at what you have in life, you'll always have more. If you look at what you don't have in life, you'll never have enough.\",\n",
        "                 \"If you set your goals ridiculously high and it's a failure, you will fail above everyone else's success.\",\n",
        "                 \"gibberish\"]"
      ],
      "execution_count": null,
      "outputs": []
    },
    {
      "cell_type": "code",
      "metadata": {
        "id": "P9FuKmTEHFe0"
      },
      "source": [
        "def get_length(sentence):\n",
        "  words = sentence.split(' ')\n",
        "  words_length = len(words)\n",
        "  # error if the sentence has one word\n",
        "  if words_length == 1:\n",
        "    raise ValueError('The number of words must be greater than 1')\n",
        "  return words_length"
      ],
      "execution_count": null,
      "outputs": []
    },
    {
      "cell_type": "code",
      "metadata": {
        "colab": {
          "base_uri": "https://localhost:8080/"
        },
        "id": "jJMzJ7SZHnNq",
        "outputId": "d3474dbf-4b75-42ce-b6ff-d41a672f0c0e"
      },
      "source": [
        "get_length(famous_quotes[1])"
      ],
      "execution_count": null,
      "outputs": [
        {
          "output_type": "execute_result",
          "data": {
            "text/plain": [
              "12"
            ]
          },
          "metadata": {},
          "execution_count": 34
        }
      ]
    },
    {
      "cell_type": "markdown",
      "metadata": {
        "id": "-OLn_WGNPw1B"
      },
      "source": [
        "Exception handling. Example\n",
        "\n",
        "```\n",
        "# Define shout_echo\n",
        "def shout_echo(word1, echo=1):\n",
        "    \"\"\"Concatenate echo copies of word1 and three\n",
        "    exclamation marks at the end of the string.\"\"\"\n",
        "\n",
        "    # Initialize empty strings: echo_word, shout_words\n",
        "    echo_word = ''\n",
        "    shout_words = ''\n",
        "\n",
        "    # Add exception handling with try-except\n",
        "    try:\n",
        "        # Concatenate echo copies of word1 using *: echo_word\n",
        "        echo_word = word1 * echo\n",
        "\n",
        "        # Concatenate '!!!' to echo_word: shout_words\n",
        "        shout_words = echo_word + '!!!'\n",
        "    except:\n",
        "        # Print error message\n",
        "        print(\"word1 must be a string and echo must be an integer.\")\n",
        "\n",
        "    # Return shout_words\n",
        "    return shout_words\n",
        "\n",
        "# Call shout_echo\n",
        "shout_echo(\"particle\", echo=\"accelerator\")\n",
        "```\n",
        "\n"
      ]
    }
  ]
}
